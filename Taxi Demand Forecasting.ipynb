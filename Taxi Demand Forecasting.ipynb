{
 "cells": [
  {
   "cell_type": "markdown",
   "metadata": {},
   "source": [
    "#  Taxi Demand Forecasting"
   ]
  },
  {
   "cell_type": "markdown",
   "metadata": {},
   "source": [
    "Project objective: predict the number of taxi orders for the next hour so that the aggregator can attract more drivers during the peak period. The data is provided by Yandex.Taxi service.\n",
    "\n",
    "Condition: for the project to be accepted, the *RMSE* metric value on the test sample should be less than 48."
   ]
  },
  {
   "cell_type": "markdown",
   "metadata": {},
   "source": [
    "Key words: \n",
    "- Python\n",
    "- Pandas\n",
    "- Time Series\n",
    "- Scikit-learn\n",
    "- Boosting"
   ]
  },
  {
   "cell_type": "markdown",
   "metadata": {
    "toc": true
   },
   "source": [
    "<h1>Contents<span class=\"tocSkip\"></span></h1>\n",
    "<div class=\"toc\"><ul class=\"toc-item\"><li><span><a href=\"#Preparation\" data-toc-modified-id=\"Preparation-1\"><span class=\"toc-item-num\">1&nbsp;&nbsp;</span>Preparation</a></span></li>\n",
    "    <li><span><a href=\"#Analysis\" data-toc-modified-id=\"Analysis-2\"><span class=\"toc-item-num\">2&nbsp;&nbsp;</span>Analysis</a></span></li>\n",
    "    <li><span><a href=\"#Training\" data-toc-modified-id=\"Training-3\"><span class=\"toc-item-num\">3&nbsp;&nbsp;</span>Training</a></span><ul class=\"toc-item\">\n",
    "        <li><span><a href=\"#Decision-Tree\" data-toc-modified-id=\"Decision-Tree-3.1\"><span class=\"toc-item-num\">3.1&nbsp;&nbsp;</span>Decision Tree</a></span></li>\n",
    "        <li><span><a href=\"#Random-Forest\" data-toc-modified-id=\"Random-Forest-3.2\"><span class=\"toc-item-num\">3.2&nbsp;&nbsp;</span>Random Forest</a></span></li>\n",
    "        <li><span><a href=\"#Linear-Regression\" data-toc-modified-id=\"Linear-Regression-3.3\"><span class=\"toc-item-num\">3.3&nbsp;&nbsp;</span>Linear Regression</a></span></li>\n",
    "        <li><span><a href=\"#Boosting\" data-toc-modified-id=\"Boosting-3.4\"><span class=\"toc-item-num\">3.4&nbsp;&nbsp;</span>Boosting</a></span></li>\n",
    "        </ul></li><li><span><a href=\"#Testing\" data-toc-modified-id=\"Testing-4\"><span class=\"toc-item-num\">4&nbsp;&nbsp;</span>Testing</a></span></li>\n",
    "    <li><span><a href=\"#Visualization-of-results\" data-toc-modified-id=\"Visualization-of-results-5\"><span class=\"toc-item-num\">5&nbsp;&nbsp;</span>Visualization of results</a></span></li>"
   ]
  },
  {
   "cell_type": "markdown",
   "metadata": {},
   "source": [
    "## Preparation"
   ]
  },
  {
   "cell_type": "code",
   "execution_count": 1,
   "metadata": {},
   "outputs": [],
   "source": [
    "import pandas as pd\n",
    "import numpy as np\n",
    "import matplotlib.pyplot as plt\n",
    "\n",
    "from statsmodels.tsa.seasonal import seasonal_decompose\n",
    "\n",
    "from sklearn.preprocessing import StandardScaler\n",
    "\n",
    "from sklearn.model_selection import train_test_split\n",
    "from sklearn.model_selection import GridSearchCV\n",
    "from sklearn.model_selection import TimeSeriesSplit\n",
    "\n",
    "from sklearn.tree import DecisionTreeRegressor\n",
    "from sklearn.ensemble import RandomForestRegressor\n",
    "from sklearn.linear_model import LinearRegression\n",
    "from catboost import CatBoostRegressor\n",
    "\n",
    "from sklearn.metrics import mean_squared_error"
   ]
  },
  {
   "cell_type": "code",
   "execution_count": 2,
   "metadata": {
    "scrolled": true
   },
   "outputs": [
    {
     "name": "stdout",
     "output_type": "stream",
     "text": [
      "<class 'pandas.core.frame.DataFrame'>\n",
      "DatetimeIndex: 26496 entries, 2018-03-01 00:00:00 to 2018-08-31 23:50:00\n",
      "Data columns (total 1 columns):\n",
      " #   Column      Non-Null Count  Dtype\n",
      "---  ------      --------------  -----\n",
      " 0   num_orders  26496 non-null  int64\n",
      "dtypes: int64(1)\n",
      "memory usage: 414.0 KB\n",
      "\n",
      "Is monotonic: True\n"
     ]
    },
    {
     "data": {
      "text/html": [
       "<div>\n",
       "<style scoped>\n",
       "    .dataframe tbody tr th:only-of-type {\n",
       "        vertical-align: middle;\n",
       "    }\n",
       "\n",
       "    .dataframe tbody tr th {\n",
       "        vertical-align: top;\n",
       "    }\n",
       "\n",
       "    .dataframe thead th {\n",
       "        text-align: right;\n",
       "    }\n",
       "</style>\n",
       "<table border=\"1\" class=\"dataframe\">\n",
       "  <thead>\n",
       "    <tr style=\"text-align: right;\">\n",
       "      <th></th>\n",
       "      <th>num_orders</th>\n",
       "    </tr>\n",
       "    <tr>\n",
       "      <th>datetime</th>\n",
       "      <th></th>\n",
       "    </tr>\n",
       "  </thead>\n",
       "  <tbody>\n",
       "    <tr>\n",
       "      <th>2018-03-01 00:00:00</th>\n",
       "      <td>9</td>\n",
       "    </tr>\n",
       "    <tr>\n",
       "      <th>2018-03-01 00:10:00</th>\n",
       "      <td>14</td>\n",
       "    </tr>\n",
       "    <tr>\n",
       "      <th>2018-03-01 00:20:00</th>\n",
       "      <td>28</td>\n",
       "    </tr>\n",
       "    <tr>\n",
       "      <th>2018-03-01 00:30:00</th>\n",
       "      <td>20</td>\n",
       "    </tr>\n",
       "    <tr>\n",
       "      <th>2018-03-01 00:40:00</th>\n",
       "      <td>32</td>\n",
       "    </tr>\n",
       "  </tbody>\n",
       "</table>\n",
       "</div>"
      ],
      "text/plain": [
       "                     num_orders\n",
       "datetime                       \n",
       "2018-03-01 00:00:00           9\n",
       "2018-03-01 00:10:00          14\n",
       "2018-03-01 00:20:00          28\n",
       "2018-03-01 00:30:00          20\n",
       "2018-03-01 00:40:00          32"
      ]
     },
     "metadata": {},
     "output_type": "display_data"
    }
   ],
   "source": [
    "df = pd.read_csv('C:\\\\Users\\\\Яна\\\\Documents\\\\Прогр\\\\dfs\\\\taxi.csv', index_col = [0], parse_dates = [0])\n",
    "\n",
    "df.info()\n",
    "print()\n",
    "print('Is monotonic:', df.index.is_monotonic)\n",
    "display(df.head())"
   ]
  },
  {
   "cell_type": "markdown",
   "metadata": {},
   "source": [
    "Dataset pleases with its smallness!\n",
    "\n",
    "No missing values, time series is monotonic. It remains to resampling."
   ]
  },
  {
   "cell_type": "code",
   "execution_count": 3,
   "metadata": {},
   "outputs": [
    {
     "data": {
      "text/html": [
       "<div>\n",
       "<style scoped>\n",
       "    .dataframe tbody tr th:only-of-type {\n",
       "        vertical-align: middle;\n",
       "    }\n",
       "\n",
       "    .dataframe tbody tr th {\n",
       "        vertical-align: top;\n",
       "    }\n",
       "\n",
       "    .dataframe thead th {\n",
       "        text-align: right;\n",
       "    }\n",
       "</style>\n",
       "<table border=\"1\" class=\"dataframe\">\n",
       "  <thead>\n",
       "    <tr style=\"text-align: right;\">\n",
       "      <th></th>\n",
       "      <th>num_orders</th>\n",
       "    </tr>\n",
       "    <tr>\n",
       "      <th>datetime</th>\n",
       "      <th></th>\n",
       "    </tr>\n",
       "  </thead>\n",
       "  <tbody>\n",
       "    <tr>\n",
       "      <th>2018-03-01 00:00:00</th>\n",
       "      <td>124</td>\n",
       "    </tr>\n",
       "    <tr>\n",
       "      <th>2018-03-01 01:00:00</th>\n",
       "      <td>85</td>\n",
       "    </tr>\n",
       "    <tr>\n",
       "      <th>2018-03-01 02:00:00</th>\n",
       "      <td>71</td>\n",
       "    </tr>\n",
       "    <tr>\n",
       "      <th>2018-03-01 03:00:00</th>\n",
       "      <td>66</td>\n",
       "    </tr>\n",
       "    <tr>\n",
       "      <th>2018-03-01 04:00:00</th>\n",
       "      <td>43</td>\n",
       "    </tr>\n",
       "  </tbody>\n",
       "</table>\n",
       "</div>"
      ],
      "text/plain": [
       "                     num_orders\n",
       "datetime                       \n",
       "2018-03-01 00:00:00         124\n",
       "2018-03-01 01:00:00          85\n",
       "2018-03-01 02:00:00          71\n",
       "2018-03-01 03:00:00          66\n",
       "2018-03-01 04:00:00          43"
      ]
     },
     "metadata": {},
     "output_type": "display_data"
    },
    {
     "data": {
      "text/plain": [
       "(4416, 1)"
      ]
     },
     "execution_count": 3,
     "metadata": {},
     "output_type": "execute_result"
    }
   ],
   "source": [
    "df = df.resample('1H').sum()\n",
    "display(df.head())\n",
    "df.shape"
   ]
  },
  {
   "cell_type": "markdown",
   "metadata": {},
   "source": [
    "## Analysis"
   ]
  },
  {
   "cell_type": "code",
   "execution_count": 4,
   "metadata": {
    "scrolled": true
   },
   "outputs": [
    {
     "data": {
      "image/png": "[encoded data removed]",
      "text/plain": [
       "<Figure size 432x288 with 1 Axes>"
      ]
     },
     "metadata": {
      "needs_background": "light"
     },
     "output_type": "display_data"
    }
   ],
   "source": [
    "decomposed = seasonal_decompose(df)\n",
    "\n",
    "decomposed.trend.plot()\n",
    "decomposed.seasonal.plot(alpha = 0.6)\n",
    "decomposed.resid.plot(alpha = 0.8)\n",
    "\n",
    "plt.xlabel('Month')\n",
    "plt.ylabel('Deviation')\n",
    "plt.legend()\n",
    "plt.show()"
   ]
  },
  {
   "cell_type": "markdown",
   "metadata": {},
   "source": [
    "The chart clearly shows an uptrend. Seasonality is not expressed. Most of the fluctuations is in the resid.\n",
    "\n",
    "The table presents data for half a year, and there is really no reason to expect any cyclicality in the interval from March to August. But at shorter intervals, cyclicity may appear. Let's check."
   ]
  },
  {
   "cell_type": "code",
   "execution_count": 5,
   "metadata": {
    "scrolled": true
   },
   "outputs": [
    {
     "data": {
      "image/png": "[encoded data removed]",
      "text/plain": [
       "<Figure size 720x288 with 1 Axes>"
      ]
     },
     "metadata": {
      "needs_background": "light"
     },
     "output_type": "display_data"
    },
    {
     "data": {
      "image/png": "[encoded data removed]",
      "text/plain": [
       "<Figure size 720x288 with 1 Axes>"
      ]
     },
     "metadata": {
      "needs_background": "light"
     },
     "output_type": "display_data"
    }
   ],
   "source": [
    "df_week = df['2018-03-01':'2018-03-28'].resample('1D').sum()\n",
    "\n",
    "df_week.plot(grid = True, figsize = (10, 4))\n",
    "plt.title('Fluctuations in the number of orders by day')\n",
    "plt.xlabel('Date')\n",
    "plt.show()\n",
    "\n",
    "decomposed_week = seasonal_decompose(df_week)\n",
    "\n",
    "decomposed_week.seasonal.plot(figsize = (10, 4))\n",
    "plt.title('Seasonal component in demand dynamics')\n",
    "plt.xlabel('Date')\n",
    "plt.show()"
   ]
  },
  {
   "cell_type": "markdown",
   "metadata": {},
   "source": [
    "Visually the weekly cycle is not noticeable. But if we single out the seasonal component, the weekly cycle becomes quite obvious. So I'll add a \"day of the week\" column to the table as a learning feature."
   ]
  },
  {
   "cell_type": "code",
   "execution_count": 6,
   "metadata": {
    "scrolled": false
   },
   "outputs": [
    {
     "data": {
      "image/png": "[encoded data removed]",
      "text/plain": [
       "<Figure size 864x288 with 1 Axes>"
      ]
     },
     "metadata": {
      "needs_background": "light"
     },
     "output_type": "display_data"
    },
    {
     "data": {
      "image/png": "[encoded data removed]",
      "text/plain": [
       "<Figure size 864x288 with 1 Axes>"
      ]
     },
     "metadata": {
      "needs_background": "light"
     },
     "output_type": "display_data"
    }
   ],
   "source": [
    "df['num_orders']['2018-03-01':'2018-03-14'].plot(figsize = (12, 4))\n",
    "plt.title('Dynamic of the number of orders by hours')\n",
    "plt.xlabel('Date')\n",
    "plt.ylabel('The number of orders')\n",
    "plt.show()\n",
    "\n",
    "df['num_orders']['2018-03-05':'2018-03-07'].plot(figsize = (12, 4))\n",
    "plt.title('Daily dynamic of the number of orders')\n",
    "plt.xlabel('Date-time')\n",
    "plt.ylabel('The number of orders')\n",
    "plt.show()"
   ]
  },
  {
   "cell_type": "markdown",
   "metadata": {},
   "source": [
    "In addition to the weekly cycle, it is logical to assume the presence of a daily cycle. Let's check its presence.\n",
    "\n",
    "Daily seasonality here is visible even without division into components. For clarity, I brought out a graph for three days - every day we see a peak around midnight, then a decline at six in the morning. The next peak falls on the pre-lunch time, after 12 some decline, and further growth until midnight. So I'll add the \"hour\" as a feature to the table."
   ]
  },
  {
   "cell_type": "code",
   "execution_count": 7,
   "metadata": {
    "scrolled": true
   },
   "outputs": [
    {
     "data": {
      "text/html": [
       "<div>\n",
       "<style scoped>\n",
       "    .dataframe tbody tr th:only-of-type {\n",
       "        vertical-align: middle;\n",
       "    }\n",
       "\n",
       "    .dataframe tbody tr th {\n",
       "        vertical-align: top;\n",
       "    }\n",
       "\n",
       "    .dataframe thead th {\n",
       "        text-align: right;\n",
       "    }\n",
       "</style>\n",
       "<table border=\"1\" class=\"dataframe\">\n",
       "  <thead>\n",
       "    <tr style=\"text-align: right;\">\n",
       "      <th></th>\n",
       "      <th>num_orders</th>\n",
       "      <th>week_day</th>\n",
       "      <th>hour</th>\n",
       "    </tr>\n",
       "    <tr>\n",
       "      <th>datetime</th>\n",
       "      <th></th>\n",
       "      <th></th>\n",
       "      <th></th>\n",
       "    </tr>\n",
       "  </thead>\n",
       "  <tbody>\n",
       "    <tr>\n",
       "      <th>2018-03-01 00:00:00</th>\n",
       "      <td>124</td>\n",
       "      <td>3</td>\n",
       "      <td>0</td>\n",
       "    </tr>\n",
       "    <tr>\n",
       "      <th>2018-03-01 01:00:00</th>\n",
       "      <td>85</td>\n",
       "      <td>3</td>\n",
       "      <td>1</td>\n",
       "    </tr>\n",
       "    <tr>\n",
       "      <th>2018-03-01 02:00:00</th>\n",
       "      <td>71</td>\n",
       "      <td>3</td>\n",
       "      <td>2</td>\n",
       "    </tr>\n",
       "    <tr>\n",
       "      <th>2018-03-01 03:00:00</th>\n",
       "      <td>66</td>\n",
       "      <td>3</td>\n",
       "      <td>3</td>\n",
       "    </tr>\n",
       "    <tr>\n",
       "      <th>2018-03-01 04:00:00</th>\n",
       "      <td>43</td>\n",
       "      <td>3</td>\n",
       "      <td>4</td>\n",
       "    </tr>\n",
       "  </tbody>\n",
       "</table>\n",
       "</div>"
      ],
      "text/plain": [
       "                     num_orders  week_day  hour\n",
       "datetime                                       \n",
       "2018-03-01 00:00:00         124         3     0\n",
       "2018-03-01 01:00:00          85         3     1\n",
       "2018-03-01 02:00:00          71         3     2\n",
       "2018-03-01 03:00:00          66         3     3\n",
       "2018-03-01 04:00:00          43         3     4"
      ]
     },
     "metadata": {},
     "output_type": "display_data"
    }
   ],
   "source": [
    "df['week_day'] = df.index.dayofweek\n",
    "df['hour'] = df.index.hour\n",
    "display(df.head())"
   ]
  },
  {
   "cell_type": "markdown",
   "metadata": {},
   "source": [
    "Adding new columns."
   ]
  },
  {
   "cell_type": "code",
   "execution_count": 8,
   "metadata": {},
   "outputs": [],
   "source": [
    "df['lag_1'] = df['num_orders'].shift(1)\n",
    "df['lag_2'] = df['num_orders'].shift(2)\n",
    "df['lag_3'] = df['num_orders'].shift(3)\n",
    "df['lag_4'] = df['num_orders'].shift(4)\n",
    "df['lag_5'] = df['num_orders'].shift(5)\n",
    "df['lag_6'] = df['num_orders'].shift(6)\n",
    "df['lag_7'] = df['num_orders'].shift(7)\n",
    "df['lag_8'] = df['num_orders'].shift(8)"
   ]
  },
  {
   "cell_type": "markdown",
   "metadata": {},
   "source": [
    "Adding enough lags."
   ]
  },
  {
   "cell_type": "code",
   "execution_count": 9,
   "metadata": {},
   "outputs": [],
   "source": [
    "df['rolling_mean_24'] = df['num_orders'].rolling(24).mean()\n",
    "df['rolling_mean_12'] = df['num_orders'].rolling(12).mean()\n",
    "df['rolling_mean_48'] = df['num_orders'].rolling(48).mean()\n",
    "df['rolling_mean_6'] = df['num_orders'].rolling(6).mean()"
   ]
  },
  {
   "cell_type": "markdown",
   "metadata": {},
   "source": [
    "Adding columns with the rolling means."
   ]
  },
  {
   "cell_type": "code",
   "execution_count": 10,
   "metadata": {},
   "outputs": [
    {
     "name": "stdout",
     "output_type": "stream",
     "text": [
      "<class 'pandas.core.frame.DataFrame'>\n",
      "DatetimeIndex: 4369 entries, 2018-03-02 23:00:00 to 2018-08-31 23:00:00\n",
      "Freq: H\n",
      "Data columns (total 15 columns):\n",
      " #   Column           Non-Null Count  Dtype  \n",
      "---  ------           --------------  -----  \n",
      " 0   num_orders       4369 non-null   int64  \n",
      " 1   week_day         4369 non-null   int64  \n",
      " 2   hour             4369 non-null   int64  \n",
      " 3   lag_1            4369 non-null   float64\n",
      " 4   lag_2            4369 non-null   float64\n",
      " 5   lag_3            4369 non-null   float64\n",
      " 6   lag_4            4369 non-null   float64\n",
      " 7   lag_5            4369 non-null   float64\n",
      " 8   lag_6            4369 non-null   float64\n",
      " 9   lag_7            4369 non-null   float64\n",
      " 10  lag_8            4369 non-null   float64\n",
      " 11  rolling_mean_24  4369 non-null   float64\n",
      " 12  rolling_mean_12  4369 non-null   float64\n",
      " 13  rolling_mean_48  4369 non-null   float64\n",
      " 14  rolling_mean_6   4369 non-null   float64\n",
      "dtypes: float64(12), int64(3)\n",
      "memory usage: 546.1 KB\n"
     ]
    }
   ],
   "source": [
    "df = df.dropna()\n",
    "df.info()"
   ]
  },
  {
   "cell_type": "markdown",
   "metadata": {},
   "source": [
    "Dropping missings and checking final info. Looks like we are ready to train models!"
   ]
  },
  {
   "cell_type": "markdown",
   "metadata": {},
   "source": [
    "## Training"
   ]
  },
  {
   "cell_type": "code",
   "execution_count": 11,
   "metadata": {},
   "outputs": [],
   "source": [
    "df_train, df_test = train_test_split(df, shuffle=False, test_size=0.1, random_state=12345)\n",
    "\n",
    "features_train = df_train.drop('num_orders', axis = 1)\n",
    "target_train = df_train['num_orders']\n",
    "\n",
    "features_test = df_test.drop('num_orders', axis = 1)\n",
    "target_test = df_test['num_orders']"
   ]
  },
  {
   "cell_type": "markdown",
   "metadata": {},
   "source": [
    "Split the data into train and test samples. Test sample is 10% of the general sample."
   ]
  },
  {
   "cell_type": "code",
   "execution_count": 12,
   "metadata": {},
   "outputs": [],
   "source": [
    "tscv = TimeSeriesSplit(n_splits = 8)"
   ]
  },
  {
   "cell_type": "markdown",
   "metadata": {},
   "source": [
    "Declare a variable with special time Series cross-validator to avoid data leakage."
   ]
  },
  {
   "cell_type": "markdown",
   "metadata": {},
   "source": [
    "### Decision Tree"
   ]
  },
  {
   "cell_type": "code",
   "execution_count": 13,
   "metadata": {},
   "outputs": [
    {
     "data": {
      "text/plain": [
       "{'max_depth': 5, 'min_samples_leaf': 9, 'min_samples_split': 2}"
      ]
     },
     "execution_count": 13,
     "metadata": {},
     "output_type": "execute_result"
    }
   ],
   "source": [
    "model_DTR = DecisionTreeRegressor(random_state = 12345)\n",
    "params_DTR = {'max_depth': range(2, 6), \n",
    "              'min_samples_split': range(2, 10),\n",
    "              'min_samples_leaf': range(2, 10)}\n",
    "\n",
    "grid = GridSearchCV(model_DTR, params_DTR, cv = tscv)\n",
    "\n",
    "grid.fit(features_train, target_train)\n",
    "\n",
    "grid.best_params_"
   ]
  },
  {
   "cell_type": "code",
   "execution_count": 14,
   "metadata": {},
   "outputs": [
    {
     "data": {
      "text/plain": [
       "DecisionTreeRegressor(max_depth=5, min_samples_leaf=9, random_state=12345)"
      ]
     },
     "execution_count": 14,
     "metadata": {},
     "output_type": "execute_result"
    }
   ],
   "source": [
    "model_DTR = DecisionTreeRegressor(max_depth = 5, min_samples_split = 2,\n",
    "                                  min_samples_leaf = 9, random_state = 12345)\n",
    "\n",
    "model_DTR.fit(features_train, target_train)"
   ]
  },
  {
   "cell_type": "markdown",
   "metadata": {},
   "source": [
    "Finding optimal parameters with the greed search and fitting the model."
   ]
  },
  {
   "cell_type": "markdown",
   "metadata": {},
   "source": [
    "### Random Forest"
   ]
  },
  {
   "cell_type": "code",
   "execution_count": 15,
   "metadata": {},
   "outputs": [
    {
     "data": {
      "text/plain": [
       "{'max_depth': 15,\n",
       " 'min_samples_leaf': 2,\n",
       " 'min_samples_split': 2,\n",
       " 'n_estimators': 80}"
      ]
     },
     "execution_count": 15,
     "metadata": {},
     "output_type": "execute_result"
    }
   ],
   "source": [
    "model_RFR = RandomForestRegressor(random_state = 12345)\n",
    "params_RFR = {'n_estimators': range(20, 81, 10),\n",
    "              'max_depth': range(3, 16),\n",
    "              'min_samples_split': range(2, 10),\n",
    "              'min_samples_leaf': range(2, 8)}\n",
    "\n",
    "grid = GridSearchCV(model_RFR, params_RFR, cv = tscv, n_jobs = -1)\n",
    "\n",
    "grid.fit(features_train, target_train)\n",
    "\n",
    "grid.best_params_"
   ]
  },
  {
   "cell_type": "code",
   "execution_count": 16,
   "metadata": {},
   "outputs": [
    {
     "data": {
      "text/plain": [
       "RandomForestRegressor(max_depth=15, min_samples_leaf=2, n_estimators=80,\n",
       "                      random_state=12345)"
      ]
     },
     "execution_count": 16,
     "metadata": {},
     "output_type": "execute_result"
    }
   ],
   "source": [
    "model_RFR = RandomForestRegressor(n_estimators = 80, max_depth = 15, min_samples_split = 2,\n",
    "                                  min_samples_leaf = 2, random_state = 12345)\n",
    "\n",
    "model_RFR.fit(features_train, target_train)"
   ]
  },
  {
   "cell_type": "markdown",
   "metadata": {},
   "source": [
    "### Linear Regression"
   ]
  },
  {
   "cell_type": "code",
   "execution_count": 17,
   "metadata": {},
   "outputs": [
    {
     "name": "stderr",
     "output_type": "stream",
     "text": [
      "C:\\ProgramData\\Anaconda3\\lib\\site-packages\\sklearn\\linear_model\\_base.py:141: FutureWarning: 'normalize' was deprecated in version 1.0 and will be removed in 1.2.\n",
      "If you wish to scale the data, use Pipeline with a StandardScaler in a preprocessing stage. To reproduce the previous behavior:\n",
      "\n",
      "from sklearn.pipeline import make_pipeline\n",
      "\n",
      "model = make_pipeline(StandardScaler(with_mean=False), LinearRegression())\n",
      "\n",
      "If you wish to pass a sample_weight parameter, you need to pass it as a fit parameter to each step of the pipeline as follows:\n",
      "\n",
      "kwargs = {s[0] + '__sample_weight': sample_weight for s in model.steps}\n",
      "model.fit(X, y, **kwargs)\n",
      "\n",
      "\n",
      "  warnings.warn(\n"
     ]
    },
    {
     "data": {
      "text/plain": [
       "{'fit_intercept': True, 'normalize': True}"
      ]
     },
     "execution_count": 17,
     "metadata": {},
     "output_type": "execute_result"
    }
   ],
   "source": [
    "model_LR = LinearRegression()\n",
    "params_LR = {'fit_intercept': [True, False],\n",
    "              'normalize': [True, False]}\n",
    "\n",
    "\n",
    "grid = GridSearchCV(model_LR, params_LR, cv = tscv, n_jobs = -1)\n",
    "\n",
    "grid.fit(features_train, target_train)\n",
    "\n",
    "grid.best_params_"
   ]
  },
  {
   "cell_type": "code",
   "execution_count": 18,
   "metadata": {},
   "outputs": [
    {
     "name": "stderr",
     "output_type": "stream",
     "text": [
      "C:\\ProgramData\\Anaconda3\\lib\\site-packages\\sklearn\\linear_model\\_base.py:141: FutureWarning: 'normalize' was deprecated in version 1.0 and will be removed in 1.2.\n",
      "If you wish to scale the data, use Pipeline with a StandardScaler in a preprocessing stage. To reproduce the previous behavior:\n",
      "\n",
      "from sklearn.pipeline import make_pipeline\n",
      "\n",
      "model = make_pipeline(StandardScaler(with_mean=False), LinearRegression())\n",
      "\n",
      "If you wish to pass a sample_weight parameter, you need to pass it as a fit parameter to each step of the pipeline as follows:\n",
      "\n",
      "kwargs = {s[0] + '__sample_weight': sample_weight for s in model.steps}\n",
      "model.fit(X, y, **kwargs)\n",
      "\n",
      "\n",
      "  warnings.warn(\n"
     ]
    },
    {
     "data": {
      "text/plain": [
       "LinearRegression(normalize=True)"
      ]
     },
     "execution_count": 18,
     "metadata": {},
     "output_type": "execute_result"
    }
   ],
   "source": [
    "model_LR = LinearRegression(fit_intercept = True, normalize = True)\n",
    "model_LR.fit(features_train, target_train)"
   ]
  },
  {
   "cell_type": "markdown",
   "metadata": {},
   "source": [
    "### Boosting"
   ]
  },
  {
   "cell_type": "code",
   "execution_count": 19,
   "metadata": {},
   "outputs": [
    {
     "name": "stdout",
     "output_type": "stream",
     "text": [
      "Learning rate set to 0.119344\n",
      "0:\tlearn: 36.7529091\ttotal: 136ms\tremaining: 47.4s\n",
      "1:\tlearn: 35.0796212\ttotal: 137ms\tremaining: 23.9s\n",
      "2:\tlearn: 33.6798386\ttotal: 139ms\tremaining: 16.1s\n",
      "3:\tlearn: 31.9989035\ttotal: 141ms\tremaining: 12.2s\n",
      "4:\tlearn: 30.4408032\ttotal: 142ms\tremaining: 9.82s\n",
      "5:\tlearn: 29.2614174\ttotal: 144ms\tremaining: 8.26s\n",
      "6:\tlearn: 28.2324695\ttotal: 146ms\tremaining: 7.14s\n",
      "7:\tlearn: 27.6222476\ttotal: 147ms\tremaining: 6.29s\n",
      "8:\tlearn: 26.7885301\ttotal: 149ms\tremaining: 5.64s\n",
      "9:\tlearn: 26.0577225\ttotal: 151ms\tremaining: 5.12s\n",
      "10:\tlearn: 25.5863538\ttotal: 152ms\tremaining: 4.69s\n",
      "11:\tlearn: 25.2048913\ttotal: 154ms\tremaining: 4.34s\n",
      "12:\tlearn: 24.8435034\ttotal: 156ms\tremaining: 4.04s\n",
      "13:\tlearn: 24.4628684\ttotal: 157ms\tremaining: 3.78s\n",
      "14:\tlearn: 24.2066687\ttotal: 159ms\tremaining: 3.55s\n",
      "15:\tlearn: 23.9027913\ttotal: 161ms\tremaining: 3.35s\n",
      "16:\tlearn: 23.6188037\ttotal: 162ms\tremaining: 3.18s\n",
      "17:\tlearn: 23.4069801\ttotal: 164ms\tremaining: 3.02s\n",
      "18:\tlearn: 23.1617892\ttotal: 166ms\tremaining: 2.88s\n",
      "19:\tlearn: 22.9612536\ttotal: 167ms\tremaining: 2.76s\n",
      "20:\tlearn: 22.7327547\ttotal: 169ms\tremaining: 2.65s\n",
      "21:\tlearn: 22.4835226\ttotal: 171ms\tremaining: 2.54s\n",
      "22:\tlearn: 22.3461784\ttotal: 172ms\tremaining: 2.45s\n",
      "23:\tlearn: 22.2456204\ttotal: 174ms\tremaining: 2.36s\n",
      "24:\tlearn: 22.1004632\ttotal: 176ms\tremaining: 2.28s\n",
      "25:\tlearn: 22.0350549\ttotal: 177ms\tremaining: 2.21s\n",
      "26:\tlearn: 21.9487571\ttotal: 179ms\tremaining: 2.14s\n",
      "27:\tlearn: 21.8405551\ttotal: 181ms\tremaining: 2.08s\n",
      "28:\tlearn: 21.7824713\ttotal: 183ms\tremaining: 2.02s\n",
      "29:\tlearn: 21.6674659\ttotal: 184ms\tremaining: 1.97s\n",
      "30:\tlearn: 21.6229285\ttotal: 186ms\tremaining: 1.91s\n",
      "31:\tlearn: 21.5998858\ttotal: 188ms\tremaining: 1.86s\n",
      "32:\tlearn: 21.4409794\ttotal: 189ms\tremaining: 1.82s\n",
      "33:\tlearn: 21.2859150\ttotal: 191ms\tremaining: 1.77s\n",
      "34:\tlearn: 21.2676795\ttotal: 193ms\tremaining: 1.73s\n",
      "35:\tlearn: 21.2047196\ttotal: 194ms\tremaining: 1.7s\n",
      "36:\tlearn: 21.0926293\ttotal: 196ms\tremaining: 1.66s\n",
      "37:\tlearn: 21.0592695\ttotal: 198ms\tremaining: 1.62s\n",
      "38:\tlearn: 20.9696512\ttotal: 199ms\tremaining: 1.59s\n",
      "39:\tlearn: 20.8749331\ttotal: 201ms\tremaining: 1.56s\n",
      "40:\tlearn: 20.7509499\ttotal: 203ms\tremaining: 1.53s\n",
      "41:\tlearn: 20.7013239\ttotal: 205ms\tremaining: 1.5s\n",
      "42:\tlearn: 20.6529794\ttotal: 206ms\tremaining: 1.47s\n",
      "43:\tlearn: 20.5868692\ttotal: 208ms\tremaining: 1.45s\n",
      "44:\tlearn: 20.4508675\ttotal: 210ms\tremaining: 1.42s\n",
      "45:\tlearn: 20.3473056\ttotal: 212ms\tremaining: 1.4s\n",
      "46:\tlearn: 20.2711456\ttotal: 213ms\tremaining: 1.37s\n",
      "47:\tlearn: 20.1859223\ttotal: 215ms\tremaining: 1.35s\n",
      "48:\tlearn: 20.0703200\ttotal: 217ms\tremaining: 1.33s\n",
      "49:\tlearn: 20.0185082\ttotal: 218ms\tremaining: 1.31s\n",
      "50:\tlearn: 19.9479000\ttotal: 220ms\tremaining: 1.29s\n",
      "51:\tlearn: 19.8772501\ttotal: 222ms\tremaining: 1.27s\n",
      "52:\tlearn: 19.8453105\ttotal: 223ms\tremaining: 1.25s\n",
      "53:\tlearn: 19.7647690\ttotal: 225ms\tremaining: 1.23s\n",
      "54:\tlearn: 19.7247484\ttotal: 227ms\tremaining: 1.22s\n",
      "55:\tlearn: 19.6524651\ttotal: 229ms\tremaining: 1.2s\n",
      "56:\tlearn: 19.5521969\ttotal: 230ms\tremaining: 1.18s\n",
      "57:\tlearn: 19.4235343\ttotal: 232ms\tremaining: 1.17s\n",
      "58:\tlearn: 19.3514378\ttotal: 235ms\tremaining: 1.16s\n",
      "59:\tlearn: 19.2744571\ttotal: 237ms\tremaining: 1.14s\n",
      "60:\tlearn: 19.1718171\ttotal: 238ms\tremaining: 1.13s\n",
      "61:\tlearn: 19.1328199\ttotal: 240ms\tremaining: 1.11s\n",
      "62:\tlearn: 19.0730733\ttotal: 242ms\tremaining: 1.1s\n",
      "63:\tlearn: 19.0232287\ttotal: 243ms\tremaining: 1.09s\n",
      "64:\tlearn: 18.9301330\ttotal: 245ms\tremaining: 1.07s\n",
      "65:\tlearn: 18.9203530\ttotal: 247ms\tremaining: 1.06s\n",
      "66:\tlearn: 18.8208197\ttotal: 248ms\tremaining: 1.05s\n",
      "67:\tlearn: 18.6981497\ttotal: 250ms\tremaining: 1.04s\n",
      "68:\tlearn: 18.6385153\ttotal: 252ms\tremaining: 1.03s\n",
      "69:\tlearn: 18.5450448\ttotal: 254ms\tremaining: 1.01s\n",
      "70:\tlearn: 18.4810512\ttotal: 255ms\tremaining: 1s\n",
      "71:\tlearn: 18.4039632\ttotal: 257ms\tremaining: 993ms\n",
      "72:\tlearn: 18.3057215\ttotal: 259ms\tremaining: 983ms\n",
      "73:\tlearn: 18.2499322\ttotal: 261ms\tremaining: 973ms\n",
      "74:\tlearn: 18.1873964\ttotal: 263ms\tremaining: 963ms\n",
      "75:\tlearn: 18.1072777\ttotal: 265ms\tremaining: 954ms\n",
      "76:\tlearn: 18.0137196\ttotal: 267ms\tremaining: 945ms\n",
      "77:\tlearn: 17.9066517\ttotal: 268ms\tremaining: 936ms\n",
      "78:\tlearn: 17.8268959\ttotal: 270ms\tremaining: 927ms\n",
      "79:\tlearn: 17.8180257\ttotal: 272ms\tremaining: 918ms\n",
      "80:\tlearn: 17.7207023\ttotal: 274ms\tremaining: 909ms\n",
      "81:\tlearn: 17.6404474\ttotal: 275ms\tremaining: 900ms\n",
      "82:\tlearn: 17.5475251\ttotal: 277ms\tremaining: 892ms\n",
      "83:\tlearn: 17.4741712\ttotal: 279ms\tremaining: 883ms\n",
      "84:\tlearn: 17.3846714\ttotal: 281ms\tremaining: 875ms\n",
      "85:\tlearn: 17.3019271\ttotal: 283ms\tremaining: 868ms\n",
      "86:\tlearn: 17.2411913\ttotal: 285ms\tremaining: 860ms\n",
      "87:\tlearn: 17.2352977\ttotal: 286ms\tremaining: 852ms\n",
      "88:\tlearn: 17.1489266\ttotal: 288ms\tremaining: 845ms\n",
      "89:\tlearn: 17.1405886\ttotal: 290ms\tremaining: 838ms\n",
      "90:\tlearn: 17.0775537\ttotal: 292ms\tremaining: 831ms\n",
      "91:\tlearn: 16.9932128\ttotal: 294ms\tremaining: 824ms\n",
      "92:\tlearn: 16.9826421\ttotal: 296ms\tremaining: 817ms\n",
      "93:\tlearn: 16.9030892\ttotal: 298ms\tremaining: 811ms\n",
      "94:\tlearn: 16.8440957\ttotal: 300ms\tremaining: 804ms\n",
      "95:\tlearn: 16.7880392\ttotal: 302ms\tremaining: 798ms\n",
      "96:\tlearn: 16.7108031\ttotal: 303ms\tremaining: 791ms\n",
      "97:\tlearn: 16.6549770\ttotal: 305ms\tremaining: 785ms\n",
      "98:\tlearn: 16.5728096\ttotal: 307ms\tremaining: 778ms\n",
      "99:\tlearn: 16.5011012\ttotal: 309ms\tremaining: 772ms\n",
      "100:\tlearn: 16.4509558\ttotal: 311ms\tremaining: 766ms\n",
      "101:\tlearn: 16.3811848\ttotal: 313ms\tremaining: 760ms\n",
      "102:\tlearn: 16.2963108\ttotal: 315ms\tremaining: 755ms\n",
      "103:\tlearn: 16.2394220\ttotal: 317ms\tremaining: 751ms\n",
      "104:\tlearn: 16.1569125\ttotal: 319ms\tremaining: 745ms\n",
      "105:\tlearn: 16.0892152\ttotal: 321ms\tremaining: 739ms\n",
      "106:\tlearn: 16.0318534\ttotal: 323ms\tremaining: 733ms\n",
      "107:\tlearn: 15.9656410\ttotal: 325ms\tremaining: 727ms\n",
      "108:\tlearn: 15.9131846\ttotal: 326ms\tremaining: 722ms\n",
      "109:\tlearn: 15.8654548\ttotal: 328ms\tremaining: 716ms\n",
      "110:\tlearn: 15.8029014\ttotal: 330ms\tremaining: 711ms\n",
      "111:\tlearn: 15.7455036\ttotal: 332ms\tremaining: 706ms\n",
      "112:\tlearn: 15.6942368\ttotal: 334ms\tremaining: 700ms\n",
      "113:\tlearn: 15.6191081\ttotal: 336ms\tremaining: 695ms\n",
      "114:\tlearn: 15.5469761\ttotal: 338ms\tremaining: 691ms\n",
      "115:\tlearn: 15.4975626\ttotal: 340ms\tremaining: 686ms\n",
      "116:\tlearn: 15.4420319\ttotal: 342ms\tremaining: 681ms\n",
      "117:\tlearn: 15.3990119\ttotal: 344ms\tremaining: 675ms\n",
      "118:\tlearn: 15.3377248\ttotal: 345ms\tremaining: 670ms\n",
      "119:\tlearn: 15.2913985\ttotal: 347ms\tremaining: 666ms\n",
      "120:\tlearn: 15.2366127\ttotal: 349ms\tremaining: 661ms\n",
      "121:\tlearn: 15.1823639\ttotal: 351ms\tremaining: 656ms\n",
      "122:\tlearn: 15.1164091\ttotal: 353ms\tremaining: 652ms\n",
      "123:\tlearn: 15.0723038\ttotal: 355ms\tremaining: 647ms\n",
      "124:\tlearn: 15.0243586\ttotal: 357ms\tremaining: 643ms\n",
      "125:\tlearn: 14.9665444\ttotal: 359ms\tremaining: 639ms\n",
      "126:\tlearn: 14.9272137\ttotal: 361ms\tremaining: 634ms\n",
      "127:\tlearn: 14.8593070\ttotal: 364ms\tremaining: 631ms\n",
      "128:\tlearn: 14.8523952\ttotal: 365ms\tremaining: 626ms\n",
      "129:\tlearn: 14.8003882\ttotal: 368ms\tremaining: 622ms\n",
      "130:\tlearn: 14.7569414\ttotal: 370ms\tremaining: 618ms\n",
      "131:\tlearn: 14.6989824\ttotal: 372ms\tremaining: 614ms\n",
      "132:\tlearn: 14.6670551\ttotal: 374ms\tremaining: 610ms\n",
      "133:\tlearn: 14.6131149\ttotal: 376ms\tremaining: 605ms\n",
      "134:\tlearn: 14.5560671\ttotal: 378ms\tremaining: 601ms\n",
      "135:\tlearn: 14.4929388\ttotal: 380ms\tremaining: 598ms\n",
      "136:\tlearn: 14.4476096\ttotal: 382ms\tremaining: 593ms\n",
      "137:\tlearn: 14.4048858\ttotal: 384ms\tremaining: 589ms\n",
      "138:\tlearn: 14.3758279\ttotal: 385ms\tremaining: 585ms\n",
      "139:\tlearn: 14.3003424\ttotal: 388ms\tremaining: 581ms\n",
      "140:\tlearn: 14.2651329\ttotal: 389ms\tremaining: 577ms\n",
      "141:\tlearn: 14.2137205\ttotal: 391ms\tremaining: 573ms\n",
      "142:\tlearn: 14.1766657\ttotal: 393ms\tremaining: 569ms\n",
      "143:\tlearn: 14.1326268\ttotal: 395ms\tremaining: 565ms\n",
      "144:\tlearn: 14.0739502\ttotal: 397ms\tremaining: 562ms\n",
      "145:\tlearn: 14.0327288\ttotal: 399ms\tremaining: 558ms\n",
      "146:\tlearn: 14.0082302\ttotal: 401ms\tremaining: 554ms\n",
      "147:\tlearn: 13.9736284\ttotal: 402ms\tremaining: 549ms\n",
      "148:\tlearn: 13.9266364\ttotal: 404ms\tremaining: 545ms\n",
      "149:\tlearn: 13.8934125\ttotal: 406ms\tremaining: 541ms\n",
      "150:\tlearn: 13.8367497\ttotal: 408ms\tremaining: 537ms\n",
      "151:\tlearn: 13.7961773\ttotal: 410ms\tremaining: 534ms\n",
      "152:\tlearn: 13.7382769\ttotal: 411ms\tremaining: 530ms\n",
      "153:\tlearn: 13.6945651\ttotal: 413ms\tremaining: 526ms\n",
      "154:\tlearn: 13.6430568\ttotal: 415ms\tremaining: 522ms\n",
      "155:\tlearn: 13.5970888\ttotal: 417ms\tremaining: 519ms\n",
      "156:\tlearn: 13.5478974\ttotal: 419ms\tremaining: 515ms\n",
      "157:\tlearn: 13.5006439\ttotal: 421ms\tremaining: 512ms\n",
      "158:\tlearn: 13.4617025\ttotal: 423ms\tremaining: 508ms\n",
      "159:\tlearn: 13.4210143\ttotal: 425ms\tremaining: 505ms\n",
      "160:\tlearn: 13.3713650\ttotal: 427ms\tremaining: 501ms\n",
      "161:\tlearn: 13.3235647\ttotal: 429ms\tremaining: 498ms\n",
      "162:\tlearn: 13.2833606\ttotal: 431ms\tremaining: 494ms\n",
      "163:\tlearn: 13.2340654\ttotal: 433ms\tremaining: 491ms\n",
      "164:\tlearn: 13.1941958\ttotal: 435ms\tremaining: 487ms\n",
      "165:\tlearn: 13.1575769\ttotal: 437ms\tremaining: 484ms\n",
      "166:\tlearn: 13.1214548\ttotal: 438ms\tremaining: 480ms\n",
      "167:\tlearn: 13.0927400\ttotal: 440ms\tremaining: 477ms\n",
      "168:\tlearn: 13.0534400\ttotal: 442ms\tremaining: 473ms\n",
      "169:\tlearn: 13.0113837\ttotal: 444ms\tremaining: 470ms\n",
      "170:\tlearn: 12.9704189\ttotal: 446ms\tremaining: 467ms\n",
      "171:\tlearn: 12.9427022\ttotal: 448ms\tremaining: 463ms\n",
      "172:\tlearn: 12.8900079\ttotal: 464ms\tremaining: 475ms\n",
      "173:\tlearn: 12.8597477\ttotal: 467ms\tremaining: 472ms\n",
      "174:\tlearn: 12.8148873\ttotal: 469ms\tremaining: 469ms\n",
      "175:\tlearn: 12.7736388\ttotal: 470ms\tremaining: 465ms\n",
      "176:\tlearn: 12.7518830\ttotal: 472ms\tremaining: 462ms\n",
      "177:\tlearn: 12.7072233\ttotal: 474ms\tremaining: 458ms\n",
      "178:\tlearn: 12.6814860\ttotal: 476ms\tremaining: 455ms\n",
      "179:\tlearn: 12.6374106\ttotal: 478ms\tremaining: 451ms\n",
      "180:\tlearn: 12.5942537\ttotal: 480ms\tremaining: 448ms\n",
      "181:\tlearn: 12.5578109\ttotal: 482ms\tremaining: 445ms\n",
      "182:\tlearn: 12.5206060\ttotal: 484ms\tremaining: 442ms\n",
      "183:\tlearn: 12.4727078\ttotal: 486ms\tremaining: 438ms\n",
      "184:\tlearn: 12.4449585\ttotal: 488ms\tremaining: 435ms\n",
      "185:\tlearn: 12.4130900\ttotal: 489ms\tremaining: 432ms\n",
      "186:\tlearn: 12.3731783\ttotal: 491ms\tremaining: 428ms\n",
      "187:\tlearn: 12.3327293\ttotal: 493ms\tremaining: 425ms\n",
      "188:\tlearn: 12.3001319\ttotal: 495ms\tremaining: 422ms\n",
      "189:\tlearn: 12.2583072\ttotal: 497ms\tremaining: 418ms\n",
      "190:\tlearn: 12.2225931\ttotal: 499ms\tremaining: 415ms\n",
      "191:\tlearn: 12.1930044\ttotal: 500ms\tremaining: 412ms\n",
      "192:\tlearn: 12.1634512\ttotal: 502ms\tremaining: 409ms\n",
      "193:\tlearn: 12.1270880\ttotal: 504ms\tremaining: 405ms\n",
      "194:\tlearn: 12.1011014\ttotal: 506ms\tremaining: 402ms\n",
      "195:\tlearn: 12.0733055\ttotal: 508ms\tremaining: 399ms\n",
      "196:\tlearn: 12.0538902\ttotal: 510ms\tremaining: 396ms\n",
      "197:\tlearn: 12.0143175\ttotal: 512ms\tremaining: 393ms\n",
      "198:\tlearn: 11.9723045\ttotal: 514ms\tremaining: 390ms\n",
      "199:\tlearn: 11.9347426\ttotal: 515ms\tremaining: 387ms\n",
      "200:\tlearn: 11.8964439\ttotal: 517ms\tremaining: 384ms\n",
      "201:\tlearn: 11.8611877\ttotal: 519ms\tremaining: 381ms\n"
     ]
    },
    {
     "name": "stdout",
     "output_type": "stream",
     "text": [
      "202:\tlearn: 11.8248736\ttotal: 522ms\tremaining: 378ms\n",
      "203:\tlearn: 11.8017469\ttotal: 524ms\tremaining: 375ms\n",
      "204:\tlearn: 11.7666932\ttotal: 526ms\tremaining: 372ms\n",
      "205:\tlearn: 11.7239712\ttotal: 528ms\tremaining: 369ms\n",
      "206:\tlearn: 11.6931456\ttotal: 530ms\tremaining: 366ms\n",
      "207:\tlearn: 11.6592595\ttotal: 532ms\tremaining: 363ms\n",
      "208:\tlearn: 11.6225175\ttotal: 534ms\tremaining: 360ms\n",
      "209:\tlearn: 11.5862975\ttotal: 536ms\tremaining: 357ms\n",
      "210:\tlearn: 11.5428143\ttotal: 538ms\tremaining: 354ms\n",
      "211:\tlearn: 11.5137786\ttotal: 540ms\tremaining: 351ms\n",
      "212:\tlearn: 11.4878358\ttotal: 542ms\tremaining: 348ms\n",
      "213:\tlearn: 11.4555285\ttotal: 544ms\tremaining: 345ms\n",
      "214:\tlearn: 11.4325680\ttotal: 546ms\tremaining: 343ms\n",
      "215:\tlearn: 11.3977302\ttotal: 548ms\tremaining: 340ms\n",
      "216:\tlearn: 11.3613959\ttotal: 549ms\tremaining: 337ms\n",
      "217:\tlearn: 11.3312260\ttotal: 551ms\tremaining: 334ms\n",
      "218:\tlearn: 11.3052215\ttotal: 553ms\tremaining: 331ms\n",
      "219:\tlearn: 11.2784884\ttotal: 555ms\tremaining: 328ms\n",
      "220:\tlearn: 11.2515265\ttotal: 557ms\tremaining: 325ms\n",
      "221:\tlearn: 11.2124478\ttotal: 559ms\tremaining: 322ms\n",
      "222:\tlearn: 11.1834011\ttotal: 561ms\tremaining: 319ms\n",
      "223:\tlearn: 11.1535250\ttotal: 562ms\tremaining: 316ms\n",
      "224:\tlearn: 11.1256515\ttotal: 564ms\tremaining: 314ms\n",
      "225:\tlearn: 11.1079699\ttotal: 566ms\tremaining: 311ms\n",
      "226:\tlearn: 11.0775396\ttotal: 568ms\tremaining: 308ms\n",
      "227:\tlearn: 11.0511566\ttotal: 570ms\tremaining: 305ms\n",
      "228:\tlearn: 11.0203364\ttotal: 572ms\tremaining: 302ms\n",
      "229:\tlearn: 10.9918483\ttotal: 574ms\tremaining: 299ms\n",
      "230:\tlearn: 10.9622857\ttotal: 576ms\tremaining: 297ms\n",
      "231:\tlearn: 10.9256059\ttotal: 578ms\tremaining: 294ms\n",
      "232:\tlearn: 10.8989052\ttotal: 579ms\tremaining: 291ms\n",
      "233:\tlearn: 10.8756352\ttotal: 581ms\tremaining: 288ms\n",
      "234:\tlearn: 10.8528816\ttotal: 583ms\tremaining: 285ms\n",
      "235:\tlearn: 10.8318802\ttotal: 585ms\tremaining: 283ms\n",
      "236:\tlearn: 10.8077052\ttotal: 587ms\tremaining: 280ms\n",
      "237:\tlearn: 10.7756726\ttotal: 589ms\tremaining: 277ms\n",
      "238:\tlearn: 10.7412183\ttotal: 591ms\tremaining: 274ms\n",
      "239:\tlearn: 10.7219509\ttotal: 592ms\tremaining: 271ms\n",
      "240:\tlearn: 10.6963258\ttotal: 594ms\tremaining: 269ms\n",
      "241:\tlearn: 10.6674759\ttotal: 596ms\tremaining: 266ms\n",
      "242:\tlearn: 10.6349341\ttotal: 598ms\tremaining: 263ms\n",
      "243:\tlearn: 10.6055469\ttotal: 600ms\tremaining: 261ms\n",
      "244:\tlearn: 10.5789503\ttotal: 602ms\tremaining: 258ms\n",
      "245:\tlearn: 10.5577627\ttotal: 603ms\tremaining: 255ms\n",
      "246:\tlearn: 10.5299521\ttotal: 605ms\tremaining: 252ms\n",
      "247:\tlearn: 10.5048995\ttotal: 607ms\tremaining: 250ms\n",
      "248:\tlearn: 10.4853341\ttotal: 609ms\tremaining: 247ms\n",
      "249:\tlearn: 10.4704661\ttotal: 611ms\tremaining: 244ms\n",
      "250:\tlearn: 10.4482246\ttotal: 613ms\tremaining: 242ms\n",
      "251:\tlearn: 10.4219369\ttotal: 615ms\tremaining: 239ms\n",
      "252:\tlearn: 10.4035299\ttotal: 617ms\tremaining: 236ms\n",
      "253:\tlearn: 10.3726469\ttotal: 619ms\tremaining: 234ms\n",
      "254:\tlearn: 10.3482647\ttotal: 620ms\tremaining: 231ms\n",
      "255:\tlearn: 10.3151210\ttotal: 622ms\tremaining: 229ms\n",
      "256:\tlearn: 10.2877339\ttotal: 624ms\tremaining: 226ms\n",
      "257:\tlearn: 10.2609065\ttotal: 626ms\tremaining: 223ms\n",
      "258:\tlearn: 10.2406000\ttotal: 628ms\tremaining: 221ms\n",
      "259:\tlearn: 10.2182418\ttotal: 630ms\tremaining: 218ms\n",
      "260:\tlearn: 10.1880566\ttotal: 632ms\tremaining: 216ms\n",
      "261:\tlearn: 10.1693082\ttotal: 634ms\tremaining: 213ms\n",
      "262:\tlearn: 10.1487002\ttotal: 636ms\tremaining: 210ms\n",
      "263:\tlearn: 10.1216084\ttotal: 638ms\tremaining: 208ms\n",
      "264:\tlearn: 10.0988883\ttotal: 640ms\tremaining: 205ms\n",
      "265:\tlearn: 10.0735576\ttotal: 642ms\tremaining: 203ms\n",
      "266:\tlearn: 10.0561703\ttotal: 644ms\tremaining: 200ms\n",
      "267:\tlearn: 10.0396788\ttotal: 646ms\tremaining: 198ms\n",
      "268:\tlearn: 10.0193459\ttotal: 648ms\tremaining: 195ms\n",
      "269:\tlearn: 9.9965641\ttotal: 652ms\tremaining: 193ms\n",
      "270:\tlearn: 9.9771221\ttotal: 654ms\tremaining: 191ms\n",
      "271:\tlearn: 9.9583509\ttotal: 656ms\tremaining: 188ms\n",
      "272:\tlearn: 9.9339242\ttotal: 659ms\tremaining: 186ms\n",
      "273:\tlearn: 9.9049646\ttotal: 661ms\tremaining: 183ms\n",
      "274:\tlearn: 9.8853161\ttotal: 663ms\tremaining: 181ms\n",
      "275:\tlearn: 9.8666703\ttotal: 665ms\tremaining: 178ms\n",
      "276:\tlearn: 9.8378279\ttotal: 667ms\tremaining: 176ms\n",
      "277:\tlearn: 9.8229819\ttotal: 681ms\tremaining: 176ms\n",
      "278:\tlearn: 9.7954998\ttotal: 683ms\tremaining: 174ms\n",
      "279:\tlearn: 9.7777757\ttotal: 686ms\tremaining: 171ms\n",
      "280:\tlearn: 9.7541288\ttotal: 688ms\tremaining: 169ms\n",
      "281:\tlearn: 9.7335957\ttotal: 690ms\tremaining: 166ms\n",
      "282:\tlearn: 9.7101045\ttotal: 692ms\tremaining: 164ms\n",
      "283:\tlearn: 9.6959025\ttotal: 695ms\tremaining: 161ms\n",
      "284:\tlearn: 9.6762638\ttotal: 697ms\tremaining: 159ms\n",
      "285:\tlearn: 9.6603225\ttotal: 700ms\tremaining: 157ms\n",
      "286:\tlearn: 9.6350074\ttotal: 702ms\tremaining: 154ms\n",
      "287:\tlearn: 9.6137791\ttotal: 704ms\tremaining: 152ms\n",
      "288:\tlearn: 9.5952294\ttotal: 706ms\tremaining: 149ms\n",
      "289:\tlearn: 9.5708326\ttotal: 709ms\tremaining: 147ms\n",
      "290:\tlearn: 9.5446188\ttotal: 711ms\tremaining: 144ms\n",
      "291:\tlearn: 9.5264005\ttotal: 713ms\tremaining: 142ms\n",
      "292:\tlearn: 9.5065873\ttotal: 715ms\tremaining: 139ms\n",
      "293:\tlearn: 9.4870649\ttotal: 717ms\tremaining: 137ms\n",
      "294:\tlearn: 9.4645367\ttotal: 720ms\tremaining: 134ms\n",
      "295:\tlearn: 9.4328984\ttotal: 722ms\tremaining: 132ms\n",
      "296:\tlearn: 9.4124632\ttotal: 724ms\tremaining: 129ms\n",
      "297:\tlearn: 9.3894100\ttotal: 726ms\tremaining: 127ms\n",
      "298:\tlearn: 9.3676424\ttotal: 729ms\tremaining: 124ms\n",
      "299:\tlearn: 9.3431732\ttotal: 731ms\tremaining: 122ms\n",
      "300:\tlearn: 9.3280988\ttotal: 733ms\tremaining: 119ms\n",
      "301:\tlearn: 9.3102853\ttotal: 736ms\tremaining: 117ms\n",
      "302:\tlearn: 9.2962766\ttotal: 738ms\tremaining: 114ms\n",
      "303:\tlearn: 9.2722336\ttotal: 740ms\tremaining: 112ms\n",
      "304:\tlearn: 9.2613077\ttotal: 741ms\tremaining: 109ms\n",
      "305:\tlearn: 9.2415621\ttotal: 744ms\tremaining: 107ms\n",
      "306:\tlearn: 9.2174792\ttotal: 746ms\tremaining: 104ms\n",
      "307:\tlearn: 9.1961520\ttotal: 748ms\tremaining: 102ms\n",
      "308:\tlearn: 9.1730891\ttotal: 750ms\tremaining: 99.5ms\n",
      "309:\tlearn: 9.1519245\ttotal: 752ms\tremaining: 97.1ms\n",
      "310:\tlearn: 9.1357505\ttotal: 754ms\tremaining: 94.6ms\n",
      "311:\tlearn: 9.1141471\ttotal: 756ms\tremaining: 92.1ms\n",
      "312:\tlearn: 9.0926948\ttotal: 759ms\tremaining: 89.7ms\n",
      "313:\tlearn: 9.0674462\ttotal: 761ms\tremaining: 87.2ms\n",
      "314:\tlearn: 9.0455696\ttotal: 763ms\tremaining: 84.8ms\n",
      "315:\tlearn: 9.0327748\ttotal: 766ms\tremaining: 82.4ms\n",
      "316:\tlearn: 9.0130678\ttotal: 768ms\tremaining: 79.9ms\n",
      "317:\tlearn: 8.9968374\ttotal: 770ms\tremaining: 77.5ms\n",
      "318:\tlearn: 8.9771328\ttotal: 772ms\tremaining: 75ms\n",
      "319:\tlearn: 8.9561319\ttotal: 774ms\tremaining: 72.6ms\n",
      "320:\tlearn: 8.9333602\ttotal: 777ms\tremaining: 70.2ms\n",
      "321:\tlearn: 8.9135712\ttotal: 779ms\tremaining: 67.7ms\n",
      "322:\tlearn: 8.9004410\ttotal: 781ms\tremaining: 65.3ms\n",
      "323:\tlearn: 8.8808618\ttotal: 783ms\tremaining: 62.8ms\n",
      "324:\tlearn: 8.8663769\ttotal: 785ms\tremaining: 60.4ms\n",
      "325:\tlearn: 8.8448000\ttotal: 787ms\tremaining: 57.9ms\n",
      "326:\tlearn: 8.8312833\ttotal: 789ms\tremaining: 55.5ms\n",
      "327:\tlearn: 8.8103968\ttotal: 791ms\tremaining: 53.1ms\n",
      "328:\tlearn: 8.7915436\ttotal: 793ms\tremaining: 50.6ms\n",
      "329:\tlearn: 8.7710288\ttotal: 795ms\tremaining: 48.2ms\n",
      "330:\tlearn: 8.7582734\ttotal: 798ms\tremaining: 45.8ms\n",
      "331:\tlearn: 8.7361761\ttotal: 800ms\tremaining: 43.3ms\n",
      "332:\tlearn: 8.7324193\ttotal: 801ms\tremaining: 40.9ms\n",
      "333:\tlearn: 8.7157829\ttotal: 804ms\tremaining: 38.5ms\n",
      "334:\tlearn: 8.6945608\ttotal: 806ms\tremaining: 36.1ms\n",
      "335:\tlearn: 8.6759891\ttotal: 808ms\tremaining: 33.6ms\n",
      "336:\tlearn: 8.6624771\ttotal: 810ms\tremaining: 31.2ms\n",
      "337:\tlearn: 8.6373562\ttotal: 812ms\tremaining: 28.8ms\n",
      "338:\tlearn: 8.6163718\ttotal: 813ms\tremaining: 26.4ms\n",
      "339:\tlearn: 8.5974165\ttotal: 815ms\tremaining: 24ms\n",
      "340:\tlearn: 8.5778747\ttotal: 817ms\tremaining: 21.6ms\n",
      "341:\tlearn: 8.5672281\ttotal: 819ms\tremaining: 19.2ms\n",
      "342:\tlearn: 8.5555768\ttotal: 821ms\tremaining: 16.8ms\n",
      "343:\tlearn: 8.5415057\ttotal: 823ms\tremaining: 14.4ms\n",
      "344:\tlearn: 8.5201724\ttotal: 825ms\tremaining: 12ms\n",
      "345:\tlearn: 8.5079908\ttotal: 827ms\tremaining: 9.56ms\n",
      "346:\tlearn: 8.4878852\ttotal: 829ms\tremaining: 7.17ms\n",
      "347:\tlearn: 8.4731504\ttotal: 831ms\tremaining: 4.77ms\n",
      "348:\tlearn: 8.4621907\ttotal: 833ms\tremaining: 2.39ms\n",
      "349:\tlearn: 8.4478704\ttotal: 835ms\tremaining: 0us\n"
     ]
    },
    {
     "data": {
      "text/plain": [
       "{'depth': 5, 'n_estimators': 350}"
      ]
     },
     "execution_count": 19,
     "metadata": {},
     "output_type": "execute_result"
    }
   ],
   "source": [
    "model_CBR = CatBoostRegressor(random_state = 12345)\n",
    "\n",
    "params_CBR  = {'n_estimators': range(150, 351, 50),\n",
    "               'depth': range(3, 7)}\n",
    "\n",
    "grid = GridSearchCV(model_CBR, params_CBR, cv = tscv, n_jobs = -1)\n",
    "\n",
    "grid.fit(features_train, target_train)\n",
    "\n",
    "grid.best_params_"
   ]
  },
  {
   "cell_type": "code",
   "execution_count": 20,
   "metadata": {},
   "outputs": [
    {
     "name": "stdout",
     "output_type": "stream",
     "text": [
      "Learning rate set to 0.119344\n",
      "0:\tlearn: 36.7529091\ttotal: 25.3ms\tremaining: 8.83s\n",
      "1:\tlearn: 35.0796212\ttotal: 28.2ms\tremaining: 4.9s\n",
      "2:\tlearn: 33.6798386\ttotal: 31ms\tremaining: 3.58s\n",
      "3:\tlearn: 31.9989035\ttotal: 33.5ms\tremaining: 2.89s\n",
      "4:\tlearn: 30.4408032\ttotal: 35.4ms\tremaining: 2.44s\n",
      "5:\tlearn: 29.2614174\ttotal: 37.4ms\tremaining: 2.14s\n",
      "6:\tlearn: 28.2324695\ttotal: 39.5ms\tremaining: 1.94s\n",
      "7:\tlearn: 27.6222476\ttotal: 41.5ms\tremaining: 1.77s\n",
      "8:\tlearn: 26.7885301\ttotal: 43.4ms\tremaining: 1.64s\n",
      "9:\tlearn: 26.0577225\ttotal: 45.5ms\tremaining: 1.55s\n",
      "10:\tlearn: 25.5863538\ttotal: 48.3ms\tremaining: 1.49s\n",
      "11:\tlearn: 25.2048913\ttotal: 50.6ms\tremaining: 1.42s\n",
      "12:\tlearn: 24.8435034\ttotal: 52.6ms\tremaining: 1.36s\n",
      "13:\tlearn: 24.4628684\ttotal: 54.8ms\tremaining: 1.31s\n",
      "14:\tlearn: 24.2066687\ttotal: 57.5ms\tremaining: 1.28s\n",
      "15:\tlearn: 23.9027913\ttotal: 59.7ms\tremaining: 1.25s\n",
      "16:\tlearn: 23.6188037\ttotal: 61.6ms\tremaining: 1.21s\n",
      "17:\tlearn: 23.4069801\ttotal: 63.6ms\tremaining: 1.17s\n",
      "18:\tlearn: 23.1617892\ttotal: 65.7ms\tremaining: 1.14s\n",
      "19:\tlearn: 22.9612536\ttotal: 67.5ms\tremaining: 1.11s\n",
      "20:\tlearn: 22.7327547\ttotal: 69.2ms\tremaining: 1.08s\n",
      "21:\tlearn: 22.4835226\ttotal: 70.8ms\tremaining: 1.06s\n",
      "22:\tlearn: 22.3461784\ttotal: 72.4ms\tremaining: 1.03s\n",
      "23:\tlearn: 22.2456204\ttotal: 74.1ms\tremaining: 1.01s\n",
      "24:\tlearn: 22.1004632\ttotal: 75.7ms\tremaining: 984ms\n",
      "25:\tlearn: 22.0350549\ttotal: 77.2ms\tremaining: 962ms\n",
      "26:\tlearn: 21.9487571\ttotal: 78.9ms\tremaining: 944ms\n",
      "27:\tlearn: 21.8405551\ttotal: 80.6ms\tremaining: 926ms\n",
      "28:\tlearn: 21.7824713\ttotal: 82.3ms\tremaining: 911ms\n",
      "29:\tlearn: 21.6674659\ttotal: 83.9ms\tremaining: 895ms\n",
      "30:\tlearn: 21.6229285\ttotal: 85.5ms\tremaining: 880ms\n",
      "31:\tlearn: 21.5998858\ttotal: 87ms\tremaining: 865ms\n",
      "32:\tlearn: 21.4409794\ttotal: 88.7ms\tremaining: 852ms\n",
      "33:\tlearn: 21.2859150\ttotal: 90.3ms\tremaining: 840ms\n",
      "34:\tlearn: 21.2676795\ttotal: 91.8ms\tremaining: 827ms\n",
      "35:\tlearn: 21.2047196\ttotal: 93.4ms\tremaining: 815ms\n",
      "36:\tlearn: 21.0926293\ttotal: 95ms\tremaining: 804ms\n",
      "37:\tlearn: 21.0592695\ttotal: 96.7ms\tremaining: 794ms\n",
      "38:\tlearn: 20.9696512\ttotal: 98.3ms\tremaining: 784ms\n",
      "39:\tlearn: 20.8749331\ttotal: 99.9ms\tremaining: 774ms\n",
      "40:\tlearn: 20.7509499\ttotal: 102ms\tremaining: 765ms\n",
      "41:\tlearn: 20.7013239\ttotal: 103ms\tremaining: 756ms\n",
      "42:\tlearn: 20.6529794\ttotal: 105ms\tremaining: 748ms\n",
      "43:\tlearn: 20.5868692\ttotal: 106ms\tremaining: 740ms\n",
      "44:\tlearn: 20.4508675\ttotal: 108ms\tremaining: 732ms\n",
      "45:\tlearn: 20.3473056\ttotal: 110ms\tremaining: 724ms\n",
      "46:\tlearn: 20.2711456\ttotal: 111ms\tremaining: 718ms\n",
      "47:\tlearn: 20.1859223\ttotal: 113ms\tremaining: 711ms\n",
      "48:\tlearn: 20.0703200\ttotal: 115ms\tremaining: 704ms\n",
      "49:\tlearn: 20.0185082\ttotal: 116ms\tremaining: 697ms\n",
      "50:\tlearn: 19.9479000\ttotal: 118ms\tremaining: 691ms\n",
      "51:\tlearn: 19.8772501\ttotal: 119ms\tremaining: 685ms\n",
      "52:\tlearn: 19.8453105\ttotal: 121ms\tremaining: 679ms\n",
      "53:\tlearn: 19.7647690\ttotal: 123ms\tremaining: 672ms\n",
      "54:\tlearn: 19.7247484\ttotal: 124ms\tremaining: 667ms\n",
      "55:\tlearn: 19.6524651\ttotal: 126ms\tremaining: 661ms\n",
      "56:\tlearn: 19.5521969\ttotal: 128ms\tremaining: 657ms\n",
      "57:\tlearn: 19.4235343\ttotal: 129ms\tremaining: 651ms\n",
      "58:\tlearn: 19.3514378\ttotal: 131ms\tremaining: 647ms\n",
      "59:\tlearn: 19.2744571\ttotal: 133ms\tremaining: 642ms\n",
      "60:\tlearn: 19.1718171\ttotal: 134ms\tremaining: 637ms\n",
      "61:\tlearn: 19.1328199\ttotal: 136ms\tremaining: 632ms\n",
      "62:\tlearn: 19.0730733\ttotal: 138ms\tremaining: 627ms\n",
      "63:\tlearn: 19.0232287\ttotal: 139ms\tremaining: 622ms\n",
      "64:\tlearn: 18.9301330\ttotal: 141ms\tremaining: 619ms\n",
      "65:\tlearn: 18.9203530\ttotal: 143ms\tremaining: 615ms\n",
      "66:\tlearn: 18.8208197\ttotal: 144ms\tremaining: 610ms\n",
      "67:\tlearn: 18.6981497\ttotal: 146ms\tremaining: 606ms\n",
      "68:\tlearn: 18.6385153\ttotal: 148ms\tremaining: 602ms\n",
      "69:\tlearn: 18.5450448\ttotal: 150ms\tremaining: 598ms\n",
      "70:\tlearn: 18.4810512\ttotal: 151ms\tremaining: 594ms\n",
      "71:\tlearn: 18.4039632\ttotal: 153ms\tremaining: 591ms\n",
      "72:\tlearn: 18.3057215\ttotal: 155ms\tremaining: 587ms\n",
      "73:\tlearn: 18.2499322\ttotal: 156ms\tremaining: 583ms\n",
      "74:\tlearn: 18.1873964\ttotal: 158ms\tremaining: 580ms\n",
      "75:\tlearn: 18.1072777\ttotal: 160ms\tremaining: 576ms\n",
      "76:\tlearn: 18.0137196\ttotal: 162ms\tremaining: 573ms\n",
      "77:\tlearn: 17.9066517\ttotal: 163ms\tremaining: 570ms\n",
      "78:\tlearn: 17.8268959\ttotal: 165ms\tremaining: 567ms\n",
      "79:\tlearn: 17.8180257\ttotal: 167ms\tremaining: 563ms\n",
      "80:\tlearn: 17.7207023\ttotal: 169ms\tremaining: 561ms\n",
      "81:\tlearn: 17.6404474\ttotal: 171ms\tremaining: 559ms\n",
      "82:\tlearn: 17.5475251\ttotal: 173ms\tremaining: 556ms\n",
      "83:\tlearn: 17.4741712\ttotal: 175ms\tremaining: 553ms\n",
      "84:\tlearn: 17.3846714\ttotal: 176ms\tremaining: 550ms\n",
      "85:\tlearn: 17.3019271\ttotal: 179ms\tremaining: 549ms\n",
      "86:\tlearn: 17.2411913\ttotal: 181ms\tremaining: 546ms\n",
      "87:\tlearn: 17.2352977\ttotal: 182ms\tremaining: 543ms\n",
      "88:\tlearn: 17.1489266\ttotal: 184ms\tremaining: 541ms\n",
      "89:\tlearn: 17.1405886\ttotal: 186ms\tremaining: 539ms\n",
      "90:\tlearn: 17.0775537\ttotal: 188ms\tremaining: 536ms\n",
      "91:\tlearn: 16.9932128\ttotal: 190ms\tremaining: 533ms\n",
      "92:\tlearn: 16.9826421\ttotal: 192ms\tremaining: 530ms\n",
      "93:\tlearn: 16.9030892\ttotal: 194ms\tremaining: 527ms\n",
      "94:\tlearn: 16.8440957\ttotal: 196ms\tremaining: 525ms\n",
      "95:\tlearn: 16.7880392\ttotal: 197ms\tremaining: 522ms\n",
      "96:\tlearn: 16.7108031\ttotal: 199ms\tremaining: 519ms\n",
      "97:\tlearn: 16.6549770\ttotal: 201ms\tremaining: 517ms\n",
      "98:\tlearn: 16.5728096\ttotal: 203ms\tremaining: 514ms\n",
      "99:\tlearn: 16.5011012\ttotal: 205ms\tremaining: 512ms\n",
      "100:\tlearn: 16.4509558\ttotal: 206ms\tremaining: 509ms\n",
      "101:\tlearn: 16.3811848\ttotal: 208ms\tremaining: 506ms\n",
      "102:\tlearn: 16.2963108\ttotal: 210ms\tremaining: 504ms\n",
      "103:\tlearn: 16.2394220\ttotal: 212ms\tremaining: 501ms\n",
      "104:\tlearn: 16.1569125\ttotal: 214ms\tremaining: 499ms\n",
      "105:\tlearn: 16.0892152\ttotal: 216ms\tremaining: 496ms\n",
      "106:\tlearn: 16.0318534\ttotal: 217ms\tremaining: 494ms\n",
      "107:\tlearn: 15.9656410\ttotal: 219ms\tremaining: 491ms\n",
      "108:\tlearn: 15.9131846\ttotal: 221ms\tremaining: 489ms\n",
      "109:\tlearn: 15.8654548\ttotal: 223ms\tremaining: 487ms\n",
      "110:\tlearn: 15.8029014\ttotal: 225ms\tremaining: 485ms\n",
      "111:\tlearn: 15.7455036\ttotal: 227ms\tremaining: 483ms\n",
      "112:\tlearn: 15.6942368\ttotal: 229ms\tremaining: 480ms\n",
      "113:\tlearn: 15.6191081\ttotal: 231ms\tremaining: 478ms\n",
      "114:\tlearn: 15.5469761\ttotal: 233ms\tremaining: 476ms\n",
      "115:\tlearn: 15.4975626\ttotal: 235ms\tremaining: 473ms\n",
      "116:\tlearn: 15.4420319\ttotal: 237ms\tremaining: 471ms\n",
      "117:\tlearn: 15.3990119\ttotal: 238ms\tremaining: 469ms\n",
      "118:\tlearn: 15.3377248\ttotal: 240ms\tremaining: 467ms\n",
      "119:\tlearn: 15.2913985\ttotal: 242ms\tremaining: 464ms\n",
      "120:\tlearn: 15.2366127\ttotal: 244ms\tremaining: 462ms\n",
      "121:\tlearn: 15.1823639\ttotal: 246ms\tremaining: 460ms\n",
      "122:\tlearn: 15.1164091\ttotal: 248ms\tremaining: 458ms\n",
      "123:\tlearn: 15.0723038\ttotal: 250ms\tremaining: 456ms\n",
      "124:\tlearn: 15.0243586\ttotal: 252ms\tremaining: 453ms\n",
      "125:\tlearn: 14.9665444\ttotal: 254ms\tremaining: 451ms\n",
      "126:\tlearn: 14.9272137\ttotal: 256ms\tremaining: 449ms\n",
      "127:\tlearn: 14.8593070\ttotal: 258ms\tremaining: 447ms\n",
      "128:\tlearn: 14.8523952\ttotal: 259ms\tremaining: 445ms\n",
      "129:\tlearn: 14.8003882\ttotal: 261ms\tremaining: 443ms\n",
      "130:\tlearn: 14.7569414\ttotal: 263ms\tremaining: 440ms\n",
      "131:\tlearn: 14.6989824\ttotal: 265ms\tremaining: 438ms\n",
      "132:\tlearn: 14.6670551\ttotal: 267ms\tremaining: 436ms\n",
      "133:\tlearn: 14.6131149\ttotal: 269ms\tremaining: 433ms\n",
      "134:\tlearn: 14.5560671\ttotal: 271ms\tremaining: 431ms\n",
      "135:\tlearn: 14.4929388\ttotal: 273ms\tremaining: 429ms\n",
      "136:\tlearn: 14.4476096\ttotal: 274ms\tremaining: 427ms\n",
      "137:\tlearn: 14.4048858\ttotal: 276ms\tremaining: 425ms\n",
      "138:\tlearn: 14.3758279\ttotal: 278ms\tremaining: 423ms\n",
      "139:\tlearn: 14.3003424\ttotal: 280ms\tremaining: 420ms\n",
      "140:\tlearn: 14.2651329\ttotal: 282ms\tremaining: 418ms\n",
      "141:\tlearn: 14.2137205\ttotal: 284ms\tremaining: 416ms\n",
      "142:\tlearn: 14.1766657\ttotal: 286ms\tremaining: 414ms\n",
      "143:\tlearn: 14.1326268\ttotal: 288ms\tremaining: 411ms\n",
      "144:\tlearn: 14.0739502\ttotal: 289ms\tremaining: 409ms\n",
      "145:\tlearn: 14.0327288\ttotal: 292ms\tremaining: 407ms\n",
      "146:\tlearn: 14.0082302\ttotal: 293ms\tremaining: 405ms\n",
      "147:\tlearn: 13.9736284\ttotal: 295ms\tremaining: 403ms\n",
      "148:\tlearn: 13.9266364\ttotal: 297ms\tremaining: 401ms\n",
      "149:\tlearn: 13.8934125\ttotal: 299ms\tremaining: 399ms\n",
      "150:\tlearn: 13.8367497\ttotal: 301ms\tremaining: 396ms\n",
      "151:\tlearn: 13.7961773\ttotal: 303ms\tremaining: 394ms\n",
      "152:\tlearn: 13.7382769\ttotal: 305ms\tremaining: 392ms\n",
      "153:\tlearn: 13.6945651\ttotal: 307ms\tremaining: 390ms\n",
      "154:\tlearn: 13.6430568\ttotal: 309ms\tremaining: 388ms\n",
      "155:\tlearn: 13.5970888\ttotal: 311ms\tremaining: 386ms\n",
      "156:\tlearn: 13.5478974\ttotal: 313ms\tremaining: 384ms\n",
      "157:\tlearn: 13.5006439\ttotal: 315ms\tremaining: 382ms\n",
      "158:\tlearn: 13.4617025\ttotal: 316ms\tremaining: 380ms\n",
      "159:\tlearn: 13.4210143\ttotal: 318ms\tremaining: 378ms\n",
      "160:\tlearn: 13.3713650\ttotal: 320ms\tremaining: 376ms\n",
      "161:\tlearn: 13.3235647\ttotal: 322ms\tremaining: 374ms\n",
      "162:\tlearn: 13.2833606\ttotal: 324ms\tremaining: 372ms\n",
      "163:\tlearn: 13.2340654\ttotal: 326ms\tremaining: 369ms\n",
      "164:\tlearn: 13.1941958\ttotal: 327ms\tremaining: 367ms\n",
      "165:\tlearn: 13.1575769\ttotal: 342ms\tremaining: 379ms\n"
     ]
    },
    {
     "name": "stdout",
     "output_type": "stream",
     "text": [
      "166:\tlearn: 13.1214548\ttotal: 344ms\tremaining: 377ms\n",
      "167:\tlearn: 13.0927400\ttotal: 346ms\tremaining: 375ms\n",
      "168:\tlearn: 13.0534400\ttotal: 347ms\tremaining: 372ms\n",
      "169:\tlearn: 13.0113837\ttotal: 349ms\tremaining: 369ms\n",
      "170:\tlearn: 12.9704189\ttotal: 351ms\tremaining: 367ms\n",
      "171:\tlearn: 12.9427022\ttotal: 353ms\tremaining: 365ms\n",
      "172:\tlearn: 12.8900079\ttotal: 355ms\tremaining: 363ms\n",
      "173:\tlearn: 12.8597477\ttotal: 356ms\tremaining: 360ms\n",
      "174:\tlearn: 12.8148873\ttotal: 358ms\tremaining: 358ms\n",
      "175:\tlearn: 12.7736388\ttotal: 360ms\tremaining: 356ms\n",
      "176:\tlearn: 12.7518830\ttotal: 361ms\tremaining: 353ms\n",
      "177:\tlearn: 12.7072233\ttotal: 363ms\tremaining: 351ms\n",
      "178:\tlearn: 12.6814860\ttotal: 365ms\tremaining: 348ms\n",
      "179:\tlearn: 12.6374106\ttotal: 366ms\tremaining: 346ms\n",
      "180:\tlearn: 12.5942537\ttotal: 368ms\tremaining: 344ms\n",
      "181:\tlearn: 12.5578109\ttotal: 370ms\tremaining: 341ms\n",
      "182:\tlearn: 12.5206060\ttotal: 372ms\tremaining: 339ms\n",
      "183:\tlearn: 12.4727078\ttotal: 373ms\tremaining: 337ms\n",
      "184:\tlearn: 12.4449585\ttotal: 375ms\tremaining: 335ms\n",
      "185:\tlearn: 12.4130900\ttotal: 377ms\tremaining: 332ms\n",
      "186:\tlearn: 12.3731783\ttotal: 379ms\tremaining: 330ms\n",
      "187:\tlearn: 12.3327293\ttotal: 380ms\tremaining: 328ms\n",
      "188:\tlearn: 12.3001319\ttotal: 382ms\tremaining: 325ms\n",
      "189:\tlearn: 12.2583072\ttotal: 384ms\tremaining: 323ms\n",
      "190:\tlearn: 12.2225931\ttotal: 385ms\tremaining: 321ms\n",
      "191:\tlearn: 12.1930044\ttotal: 387ms\tremaining: 318ms\n",
      "192:\tlearn: 12.1634512\ttotal: 388ms\tremaining: 316ms\n",
      "193:\tlearn: 12.1270880\ttotal: 390ms\tremaining: 314ms\n",
      "194:\tlearn: 12.1011014\ttotal: 392ms\tremaining: 312ms\n",
      "195:\tlearn: 12.0733055\ttotal: 394ms\tremaining: 309ms\n",
      "196:\tlearn: 12.0538902\ttotal: 395ms\tremaining: 307ms\n",
      "197:\tlearn: 12.0143175\ttotal: 397ms\tremaining: 305ms\n",
      "198:\tlearn: 11.9723045\ttotal: 399ms\tremaining: 303ms\n",
      "199:\tlearn: 11.9347426\ttotal: 400ms\tremaining: 300ms\n",
      "200:\tlearn: 11.8964439\ttotal: 402ms\tremaining: 298ms\n",
      "201:\tlearn: 11.8611877\ttotal: 404ms\tremaining: 296ms\n",
      "202:\tlearn: 11.8248736\ttotal: 406ms\tremaining: 294ms\n",
      "203:\tlearn: 11.8017469\ttotal: 407ms\tremaining: 292ms\n",
      "204:\tlearn: 11.7666932\ttotal: 409ms\tremaining: 289ms\n",
      "205:\tlearn: 11.7239712\ttotal: 411ms\tremaining: 287ms\n",
      "206:\tlearn: 11.6931456\ttotal: 412ms\tremaining: 285ms\n",
      "207:\tlearn: 11.6592595\ttotal: 414ms\tremaining: 283ms\n",
      "208:\tlearn: 11.6225175\ttotal: 416ms\tremaining: 281ms\n",
      "209:\tlearn: 11.5862975\ttotal: 418ms\tremaining: 278ms\n",
      "210:\tlearn: 11.5428143\ttotal: 420ms\tremaining: 276ms\n",
      "211:\tlearn: 11.5137786\ttotal: 421ms\tremaining: 274ms\n",
      "212:\tlearn: 11.4878358\ttotal: 423ms\tremaining: 272ms\n",
      "213:\tlearn: 11.4555285\ttotal: 425ms\tremaining: 270ms\n",
      "214:\tlearn: 11.4325680\ttotal: 426ms\tremaining: 268ms\n",
      "215:\tlearn: 11.3977302\ttotal: 428ms\tremaining: 266ms\n",
      "216:\tlearn: 11.3613959\ttotal: 430ms\tremaining: 263ms\n",
      "217:\tlearn: 11.3312260\ttotal: 431ms\tremaining: 261ms\n",
      "218:\tlearn: 11.3052215\ttotal: 433ms\tremaining: 259ms\n",
      "219:\tlearn: 11.2784884\ttotal: 435ms\tremaining: 257ms\n",
      "220:\tlearn: 11.2515265\ttotal: 437ms\tremaining: 255ms\n",
      "221:\tlearn: 11.2124478\ttotal: 438ms\tremaining: 253ms\n",
      "222:\tlearn: 11.1834011\ttotal: 440ms\tremaining: 251ms\n",
      "223:\tlearn: 11.1535250\ttotal: 442ms\tremaining: 249ms\n",
      "224:\tlearn: 11.1256515\ttotal: 444ms\tremaining: 247ms\n",
      "225:\tlearn: 11.1079699\ttotal: 446ms\tremaining: 245ms\n",
      "226:\tlearn: 11.0775396\ttotal: 448ms\tremaining: 243ms\n",
      "227:\tlearn: 11.0511566\ttotal: 449ms\tremaining: 240ms\n",
      "228:\tlearn: 11.0203364\ttotal: 451ms\tremaining: 238ms\n",
      "229:\tlearn: 10.9918483\ttotal: 453ms\tremaining: 236ms\n",
      "230:\tlearn: 10.9622857\ttotal: 455ms\tremaining: 234ms\n",
      "231:\tlearn: 10.9256059\ttotal: 457ms\tremaining: 232ms\n",
      "232:\tlearn: 10.8989052\ttotal: 459ms\tremaining: 230ms\n",
      "233:\tlearn: 10.8756352\ttotal: 460ms\tremaining: 228ms\n",
      "234:\tlearn: 10.8528816\ttotal: 462ms\tremaining: 226ms\n",
      "235:\tlearn: 10.8318802\ttotal: 464ms\tremaining: 224ms\n",
      "236:\tlearn: 10.8077052\ttotal: 466ms\tremaining: 222ms\n",
      "237:\tlearn: 10.7756726\ttotal: 468ms\tremaining: 220ms\n",
      "238:\tlearn: 10.7412183\ttotal: 469ms\tremaining: 218ms\n",
      "239:\tlearn: 10.7219509\ttotal: 471ms\tremaining: 216ms\n",
      "240:\tlearn: 10.6963258\ttotal: 473ms\tremaining: 214ms\n",
      "241:\tlearn: 10.6674759\ttotal: 475ms\tremaining: 212ms\n",
      "242:\tlearn: 10.6349341\ttotal: 477ms\tremaining: 210ms\n",
      "243:\tlearn: 10.6055469\ttotal: 479ms\tremaining: 208ms\n",
      "244:\tlearn: 10.5789503\ttotal: 480ms\tremaining: 206ms\n",
      "245:\tlearn: 10.5577627\ttotal: 482ms\tremaining: 204ms\n",
      "246:\tlearn: 10.5299521\ttotal: 484ms\tremaining: 202ms\n",
      "247:\tlearn: 10.5048995\ttotal: 486ms\tremaining: 200ms\n",
      "248:\tlearn: 10.4853341\ttotal: 488ms\tremaining: 198ms\n",
      "249:\tlearn: 10.4704661\ttotal: 489ms\tremaining: 196ms\n",
      "250:\tlearn: 10.4482246\ttotal: 491ms\tremaining: 194ms\n",
      "251:\tlearn: 10.4219369\ttotal: 493ms\tremaining: 192ms\n",
      "252:\tlearn: 10.4035299\ttotal: 495ms\tremaining: 190ms\n",
      "253:\tlearn: 10.3726469\ttotal: 497ms\tremaining: 188ms\n",
      "254:\tlearn: 10.3482647\ttotal: 499ms\tremaining: 186ms\n",
      "255:\tlearn: 10.3151210\ttotal: 501ms\tremaining: 184ms\n",
      "256:\tlearn: 10.2877339\ttotal: 503ms\tremaining: 182ms\n",
      "257:\tlearn: 10.2609065\ttotal: 504ms\tremaining: 180ms\n",
      "258:\tlearn: 10.2406000\ttotal: 506ms\tremaining: 178ms\n",
      "259:\tlearn: 10.2182418\ttotal: 508ms\tremaining: 176ms\n",
      "260:\tlearn: 10.1880566\ttotal: 510ms\tremaining: 174ms\n",
      "261:\tlearn: 10.1693082\ttotal: 512ms\tremaining: 172ms\n",
      "262:\tlearn: 10.1487002\ttotal: 514ms\tremaining: 170ms\n",
      "263:\tlearn: 10.1216084\ttotal: 516ms\tremaining: 168ms\n",
      "264:\tlearn: 10.0988883\ttotal: 518ms\tremaining: 166ms\n",
      "265:\tlearn: 10.0735576\ttotal: 519ms\tremaining: 164ms\n",
      "266:\tlearn: 10.0561703\ttotal: 521ms\tremaining: 162ms\n",
      "267:\tlearn: 10.0396788\ttotal: 523ms\tremaining: 160ms\n",
      "268:\tlearn: 10.0193459\ttotal: 525ms\tremaining: 158ms\n",
      "269:\tlearn: 9.9965641\ttotal: 527ms\tremaining: 156ms\n",
      "270:\tlearn: 9.9771221\ttotal: 529ms\tremaining: 154ms\n",
      "271:\tlearn: 9.9583509\ttotal: 531ms\tremaining: 152ms\n",
      "272:\tlearn: 9.9339242\ttotal: 533ms\tremaining: 150ms\n",
      "273:\tlearn: 9.9049646\ttotal: 535ms\tremaining: 148ms\n",
      "274:\tlearn: 9.8853161\ttotal: 537ms\tremaining: 146ms\n",
      "275:\tlearn: 9.8666703\ttotal: 539ms\tremaining: 144ms\n",
      "276:\tlearn: 9.8378279\ttotal: 541ms\tremaining: 142ms\n",
      "277:\tlearn: 9.8229819\ttotal: 542ms\tremaining: 140ms\n",
      "278:\tlearn: 9.7954998\ttotal: 544ms\tremaining: 139ms\n",
      "279:\tlearn: 9.7777757\ttotal: 547ms\tremaining: 137ms\n",
      "280:\tlearn: 9.7541288\ttotal: 549ms\tremaining: 135ms\n",
      "281:\tlearn: 9.7335957\ttotal: 551ms\tremaining: 133ms\n",
      "282:\tlearn: 9.7101045\ttotal: 552ms\tremaining: 131ms\n",
      "283:\tlearn: 9.6959025\ttotal: 554ms\tremaining: 129ms\n",
      "284:\tlearn: 9.6762638\ttotal: 556ms\tremaining: 127ms\n",
      "285:\tlearn: 9.6603225\ttotal: 558ms\tremaining: 125ms\n",
      "286:\tlearn: 9.6350074\ttotal: 560ms\tremaining: 123ms\n",
      "287:\tlearn: 9.6137791\ttotal: 562ms\tremaining: 121ms\n",
      "288:\tlearn: 9.5952294\ttotal: 564ms\tremaining: 119ms\n",
      "289:\tlearn: 9.5708326\ttotal: 566ms\tremaining: 117ms\n",
      "290:\tlearn: 9.5446188\ttotal: 569ms\tremaining: 115ms\n",
      "291:\tlearn: 9.5264005\ttotal: 570ms\tremaining: 113ms\n",
      "292:\tlearn: 9.5065873\ttotal: 572ms\tremaining: 111ms\n",
      "293:\tlearn: 9.4870649\ttotal: 574ms\tremaining: 109ms\n",
      "294:\tlearn: 9.4645367\ttotal: 576ms\tremaining: 107ms\n",
      "295:\tlearn: 9.4328984\ttotal: 578ms\tremaining: 105ms\n",
      "296:\tlearn: 9.4124632\ttotal: 580ms\tremaining: 104ms\n",
      "297:\tlearn: 9.3894100\ttotal: 582ms\tremaining: 102ms\n",
      "298:\tlearn: 9.3676424\ttotal: 584ms\tremaining: 99.6ms\n",
      "299:\tlearn: 9.3431732\ttotal: 586ms\tremaining: 97.6ms\n",
      "300:\tlearn: 9.3280988\ttotal: 588ms\tremaining: 95.7ms\n",
      "301:\tlearn: 9.3102853\ttotal: 590ms\tremaining: 93.7ms\n",
      "302:\tlearn: 9.2962766\ttotal: 592ms\tremaining: 91.8ms\n",
      "303:\tlearn: 9.2722336\ttotal: 594ms\tremaining: 89.8ms\n",
      "304:\tlearn: 9.2613077\ttotal: 595ms\tremaining: 87.8ms\n",
      "305:\tlearn: 9.2415621\ttotal: 597ms\tremaining: 85.9ms\n",
      "306:\tlearn: 9.2174792\ttotal: 599ms\tremaining: 83.9ms\n",
      "307:\tlearn: 9.1961520\ttotal: 601ms\tremaining: 82ms\n",
      "308:\tlearn: 9.1730891\ttotal: 603ms\tremaining: 80ms\n",
      "309:\tlearn: 9.1519245\ttotal: 605ms\tremaining: 78.1ms\n",
      "310:\tlearn: 9.1357505\ttotal: 607ms\tremaining: 76.1ms\n",
      "311:\tlearn: 9.1141471\ttotal: 609ms\tremaining: 74.2ms\n",
      "312:\tlearn: 9.0926948\ttotal: 611ms\tremaining: 72.2ms\n",
      "313:\tlearn: 9.0674462\ttotal: 613ms\tremaining: 70.2ms\n",
      "314:\tlearn: 9.0455696\ttotal: 615ms\tremaining: 68.3ms\n",
      "315:\tlearn: 9.0327748\ttotal: 617ms\tremaining: 66.3ms\n",
      "316:\tlearn: 9.0130678\ttotal: 618ms\tremaining: 64.4ms\n",
      "317:\tlearn: 8.9968374\ttotal: 620ms\tremaining: 62.4ms\n",
      "318:\tlearn: 8.9771328\ttotal: 623ms\tremaining: 60.5ms\n",
      "319:\tlearn: 8.9561319\ttotal: 625ms\tremaining: 58.6ms\n",
      "320:\tlearn: 8.9333602\ttotal: 627ms\tremaining: 56.7ms\n",
      "321:\tlearn: 8.9135712\ttotal: 629ms\tremaining: 54.7ms\n",
      "322:\tlearn: 8.9004410\ttotal: 631ms\tremaining: 52.8ms\n",
      "323:\tlearn: 8.8808618\ttotal: 633ms\tremaining: 50.8ms\n",
      "324:\tlearn: 8.8663769\ttotal: 635ms\tremaining: 48.8ms\n",
      "325:\tlearn: 8.8448000\ttotal: 637ms\tremaining: 46.9ms\n",
      "326:\tlearn: 8.8312833\ttotal: 639ms\tremaining: 44.9ms\n",
      "327:\tlearn: 8.8103968\ttotal: 641ms\tremaining: 43ms\n",
      "328:\tlearn: 8.7915436\ttotal: 643ms\tremaining: 41ms\n",
      "329:\tlearn: 8.7710288\ttotal: 645ms\tremaining: 39.1ms\n",
      "330:\tlearn: 8.7582734\ttotal: 647ms\tremaining: 37.1ms\n",
      "331:\tlearn: 8.7361761\ttotal: 648ms\tremaining: 35.2ms\n",
      "332:\tlearn: 8.7324193\ttotal: 650ms\tremaining: 33.2ms\n",
      "333:\tlearn: 8.7157829\ttotal: 652ms\tremaining: 31.2ms\n",
      "334:\tlearn: 8.6945608\ttotal: 654ms\tremaining: 29.3ms\n",
      "335:\tlearn: 8.6759891\ttotal: 656ms\tremaining: 27.3ms\n",
      "336:\tlearn: 8.6624771\ttotal: 658ms\tremaining: 25.4ms\n",
      "337:\tlearn: 8.6373562\ttotal: 660ms\tremaining: 23.4ms\n",
      "338:\tlearn: 8.6163718\ttotal: 662ms\tremaining: 21.5ms\n",
      "339:\tlearn: 8.5974165\ttotal: 664ms\tremaining: 19.5ms\n",
      "340:\tlearn: 8.5778747\ttotal: 665ms\tremaining: 17.6ms\n",
      "341:\tlearn: 8.5672281\ttotal: 668ms\tremaining: 15.6ms\n",
      "342:\tlearn: 8.5555768\ttotal: 669ms\tremaining: 13.7ms\n",
      "343:\tlearn: 8.5415057\ttotal: 671ms\tremaining: 11.7ms\n",
      "344:\tlearn: 8.5201724\ttotal: 673ms\tremaining: 9.75ms\n",
      "345:\tlearn: 8.5079908\ttotal: 675ms\tremaining: 7.81ms\n"
     ]
    },
    {
     "name": "stdout",
     "output_type": "stream",
     "text": [
      "346:\tlearn: 8.4878852\ttotal: 677ms\tremaining: 5.86ms\n",
      "347:\tlearn: 8.4731504\ttotal: 679ms\tremaining: 3.9ms\n",
      "348:\tlearn: 8.4621907\ttotal: 681ms\tremaining: 1.95ms\n",
      "349:\tlearn: 8.4478704\ttotal: 683ms\tremaining: 0us\n"
     ]
    },
    {
     "data": {
      "text/plain": [
       "<catboost.core.CatBoostRegressor at 0x25e5889b0a0>"
      ]
     },
     "execution_count": 20,
     "metadata": {},
     "output_type": "execute_result"
    }
   ],
   "source": [
    "model_CBR = CatBoostRegressor(n_estimators = 350, depth = 5, random_state = 12345)\n",
    "model_CBR.fit(features_train, target_train)"
   ]
  },
  {
   "cell_type": "markdown",
   "metadata": {},
   "source": [
    "## Testing"
   ]
  },
  {
   "cell_type": "markdown",
   "metadata": {},
   "source": [
    "Now let's check RMSE of the models on the test set."
   ]
  },
  {
   "cell_type": "code",
   "execution_count": 21,
   "metadata": {},
   "outputs": [
    {
     "name": "stdout",
     "output_type": "stream",
     "text": [
      "53.29049372044128\n"
     ]
    }
   ],
   "source": [
    "predictions_DTR = model_DTR.predict(features_test)\n",
    "\n",
    "rmse_DTR = mean_squared_error(target_test, predictions_DTR, squared=False)\n",
    "print(rmse_DTR)"
   ]
  },
  {
   "cell_type": "markdown",
   "metadata": {},
   "source": [
    "Decision Tree - 53.2. Not very good."
   ]
  },
  {
   "cell_type": "code",
   "execution_count": 22,
   "metadata": {},
   "outputs": [
    {
     "name": "stdout",
     "output_type": "stream",
     "text": [
      "39.97115579923948\n"
     ]
    }
   ],
   "source": [
    "predictions_RFR = model_RFR.predict(features_test)\n",
    "\n",
    "rmse_RFR = mean_squared_error(target_test, predictions_RFR, squared=False)\n",
    "print(rmse_RFR)"
   ]
  },
  {
   "cell_type": "markdown",
   "metadata": {},
   "source": [
    "Random forest - 40. Better, but still not good enough."
   ]
  },
  {
   "cell_type": "code",
   "execution_count": 23,
   "metadata": {
    "scrolled": true
   },
   "outputs": [
    {
     "name": "stdout",
     "output_type": "stream",
     "text": [
      "1.7006894511213327e-13\n"
     ]
    }
   ],
   "source": [
    "predictions_LR = model_LR.predict(features_test)\n",
    "\n",
    "rmse_LR = mean_squared_error(target_test, predictions_LR, squared=False)\n",
    "print(rmse_LR)"
   ]
  },
  {
   "cell_type": "code",
   "execution_count": 24,
   "metadata": {
    "scrolled": true
   },
   "outputs": [
    {
     "data": {
      "image/png": "[encoded data removed]",
      "text/plain": [
       "<Figure size 432x288 with 1 Axes>"
      ]
     },
     "metadata": {
      "needs_background": "light"
     },
     "output_type": "display_data"
    }
   ],
   "source": [
    "a=np.array(target_test, np.int32)\n",
    "b=np.array(predictions_LR, np.int32)\n",
    "\n",
    "plt.plot(a, color = 'red', label = 'Historical data')\n",
    "plt.plot(b, color = 'blue', label='Predicted data')\n",
    "plt.legend()\n",
    "plt.show()"
   ]
  },
  {
   "cell_type": "markdown",
   "metadata": {},
   "source": [
    "WoW! Linear regression making a great result! The reviewer said that this is a record accuracy for this project (the previous record for this project was RMSE = 8)."
   ]
  },
  {
   "cell_type": "code",
   "execution_count": 25,
   "metadata": {
    "scrolled": true
   },
   "outputs": [
    {
     "name": "stdout",
     "output_type": "stream",
     "text": [
      "37.622974577069215\n"
     ]
    }
   ],
   "source": [
    "predictions_CBR = model_CBR.predict(features_test)\n",
    "\n",
    "rmse_CBR = mean_squared_error(target_test, predictions_CBR, squared=False)\n",
    "print(rmse_CBR)"
   ]
  },
  {
   "cell_type": "markdown",
   "metadata": {},
   "source": [
    "CatBoost also shows a medium result, 37.6. So viva la linear regression!"
   ]
  },
  {
   "cell_type": "markdown",
   "metadata": {},
   "source": [
    "## Visualization of results"
   ]
  },
  {
   "cell_type": "markdown",
   "metadata": {},
   "source": [
    "Linear regression predictions, judging by RMSE, should almost exactly repeat the real data. Let's see with our eyes."
   ]
  },
  {
   "cell_type": "code",
   "execution_count": 26,
   "metadata": {},
   "outputs": [
    {
     "data": {
      "image/png": "[encoded data removed]",
      "text/plain": [
       "<Figure size 864x288 with 1 Axes>"
      ]
     },
     "metadata": {
      "needs_background": "light"
     },
     "output_type": "display_data"
    },
    {
     "data": {
      "image/png": "[encoded data removed]",
      "text/plain": [
       "<Figure size 864x288 with 1 Axes>"
      ]
     },
     "metadata": {
      "needs_background": "light"
     },
     "output_type": "display_data"
    }
   ],
   "source": [
    "plr = pd.Series(predictions_LR)\n",
    "plr.plot(figsize = (12, 4))\n",
    "plt.title('Predictions')\n",
    "plt.show()\n",
    "\n",
    "target_test.plot(figsize = (12, 4))\n",
    "plt.title('Historical data')\n",
    "plt.show()"
   ]
  },
  {
   "cell_type": "markdown",
   "metadata": {},
   "source": [
    "Graphs are almost identical."
   ]
  },
  {
   "cell_type": "code",
   "execution_count": 27,
   "metadata": {},
   "outputs": [
    {
     "data": {
      "image/png": "[encoded data removed]",
      "text/plain": [
       "<Figure size 720x216 with 1 Axes>"
      ]
     },
     "metadata": {
      "needs_background": "light"
     },
     "output_type": "display_data"
    },
    {
     "data": {
      "image/png": "[encoded data removed]",
      "text/plain": [
       "<Figure size 720x216 with 1 Axes>"
      ]
     },
     "metadata": {
      "needs_background": "light"
     },
     "output_type": "display_data"
    }
   ],
   "source": [
    "plr.plot(figsize = (10, 3))\n",
    "plt.title('Predictions')\n",
    "plt.xlim(5, 55)\n",
    "plt.ylim(0, 250)\n",
    "plt.show()\n",
    "\n",
    "target_test['2018-08-14':'2018-08-15'].plot(figsize = (10, 3))\n",
    "plt.title('Historical data')\n",
    "plt.show()"
   ]
  },
  {
   "cell_type": "markdown",
   "metadata": {},
   "source": [
    "Graphs for two days - they also show the almost complete coincidence of the forecast with reality."
   ]
  }
 ],
 "metadata": {
  "ExecuteTimeLog": [
   {
    "duration": 1636,
    "start_time": "2022-06-02T09:29:15.660Z"
   },
   {
    "duration": 124,
    "start_time": "2022-06-02T09:29:22.153Z"
   },
   {
    "duration": 110,
    "start_time": "2022-06-02T09:39:44.853Z"
   },
   {
    "duration": 8,
    "start_time": "2022-06-02T09:40:16.560Z"
   },
   {
    "duration": 13,
    "start_time": "2022-06-02T09:40:27.308Z"
   },
   {
    "duration": 11,
    "start_time": "2022-06-02T09:42:11.582Z"
   },
   {
    "duration": 55,
    "start_time": "2022-06-02T09:44:11.643Z"
   },
   {
    "duration": 16,
    "start_time": "2022-06-02T09:47:42.261Z"
   },
   {
    "duration": 5,
    "start_time": "2022-06-02T09:49:43.804Z"
   },
   {
    "duration": 14,
    "start_time": "2022-06-02T09:49:46.026Z"
   },
   {
    "duration": 13,
    "start_time": "2022-06-02T09:50:34.162Z"
   },
   {
    "duration": 515,
    "start_time": "2022-06-02T09:53:09.166Z"
   },
   {
    "duration": 8,
    "start_time": "2022-06-02T09:53:16.422Z"
   },
   {
    "duration": 4,
    "start_time": "2022-06-02T09:53:24.260Z"
   },
   {
    "duration": 1112,
    "start_time": "2022-06-02T09:56:18.105Z"
   },
   {
    "duration": 64,
    "start_time": "2022-06-02T09:56:21.003Z"
   },
   {
    "duration": 47,
    "start_time": "2022-06-02T09:56:34.430Z"
   },
   {
    "duration": 109,
    "start_time": "2022-06-02T09:56:37.267Z"
   },
   {
    "duration": 53,
    "start_time": "2022-06-02T09:57:51.578Z"
   },
   {
    "duration": 8,
    "start_time": "2022-06-02T09:57:56.812Z"
   },
   {
    "duration": 4,
    "start_time": "2022-06-02T09:58:20.666Z"
   },
   {
    "duration": 14,
    "start_time": "2022-06-02T09:58:22.792Z"
   },
   {
    "duration": 51,
    "start_time": "2022-06-02T10:01:10.216Z"
   },
   {
    "duration": 53,
    "start_time": "2022-06-02T10:01:27.754Z"
   },
   {
    "duration": 10,
    "start_time": "2022-06-02T10:02:36.225Z"
   },
   {
    "duration": 395,
    "start_time": "2022-06-02T10:17:42.662Z"
   },
   {
    "duration": 18,
    "start_time": "2022-06-02T10:18:35.658Z"
   },
   {
    "duration": 54,
    "start_time": "2022-06-02T10:18:54.384Z"
   },
   {
    "duration": 541,
    "start_time": "2022-06-02T10:20:32.399Z"
   },
   {
    "duration": 367,
    "start_time": "2022-06-02T10:20:37.842Z"
   },
   {
    "duration": 129,
    "start_time": "2022-06-02T10:21:28.163Z"
   },
   {
    "duration": 1209,
    "start_time": "2022-06-02T10:22:02.390Z"
   },
   {
    "duration": 55,
    "start_time": "2022-06-02T10:22:03.601Z"
   },
   {
    "duration": 22,
    "start_time": "2022-06-02T10:22:03.658Z"
   },
   {
    "duration": 140,
    "start_time": "2022-06-02T10:22:06.878Z"
   },
   {
    "duration": 151,
    "start_time": "2022-06-02T10:23:52.387Z"
   },
   {
    "duration": 170,
    "start_time": "2022-06-02T10:24:26.744Z"
   },
   {
    "duration": 125,
    "start_time": "2022-06-02T10:24:38.961Z"
   },
   {
    "duration": 83,
    "start_time": "2022-06-02T10:27:05.689Z"
   },
   {
    "duration": 100,
    "start_time": "2022-06-02T10:27:16.162Z"
   },
   {
    "duration": 87,
    "start_time": "2022-06-02T10:28:02.972Z"
   },
   {
    "duration": 109,
    "start_time": "2022-06-02T10:29:15.940Z"
   },
   {
    "duration": 1172,
    "start_time": "2022-06-02T10:33:33.326Z"
   },
   {
    "duration": 53,
    "start_time": "2022-06-02T10:33:34.500Z"
   },
   {
    "duration": 21,
    "start_time": "2022-06-02T10:33:34.555Z"
   },
   {
    "duration": 121,
    "start_time": "2022-06-02T10:33:34.579Z"
   },
   {
    "duration": 221,
    "start_time": "2022-06-02T10:34:22.923Z"
   },
   {
    "duration": 190,
    "start_time": "2022-06-02T10:35:49.662Z"
   },
   {
    "duration": 228,
    "start_time": "2022-06-02T10:37:22.127Z"
   },
   {
    "duration": 248,
    "start_time": "2022-06-02T10:39:21.877Z"
   },
   {
    "duration": 287,
    "start_time": "2022-06-02T10:39:46.379Z"
   },
   {
    "duration": 211,
    "start_time": "2022-06-02T10:43:43.606Z"
   },
   {
    "duration": 218,
    "start_time": "2022-06-02T10:43:49.489Z"
   },
   {
    "duration": 213,
    "start_time": "2022-06-02T10:44:09.627Z"
   },
   {
    "duration": 107,
    "start_time": "2022-06-02T10:47:05.635Z"
   },
   {
    "duration": 30,
    "start_time": "2022-06-02T10:47:27.573Z"
   },
   {
    "duration": 15,
    "start_time": "2022-06-02T10:47:32.243Z"
   },
   {
    "duration": 11,
    "start_time": "2022-06-02T10:47:58.972Z"
   },
   {
    "duration": 17,
    "start_time": "2022-06-02T10:50:09.975Z"
   },
   {
    "duration": 1229,
    "start_time": "2022-06-02T10:55:42.292Z"
   },
   {
    "duration": 53,
    "start_time": "2022-06-02T10:55:43.523Z"
   },
   {
    "duration": 22,
    "start_time": "2022-06-02T10:55:43.578Z"
   },
   {
    "duration": 223,
    "start_time": "2022-06-02T10:55:43.602Z"
   },
   {
    "duration": 246,
    "start_time": "2022-06-02T10:55:49.469Z"
   },
   {
    "duration": 185,
    "start_time": "2022-06-02T10:56:20.826Z"
   },
   {
    "duration": 221,
    "start_time": "2022-06-02T10:56:31.790Z"
   },
   {
    "duration": 275,
    "start_time": "2022-06-02T10:56:34.235Z"
   },
   {
    "duration": 281,
    "start_time": "2022-06-02T11:10:44.669Z"
   },
   {
    "duration": 300,
    "start_time": "2022-06-02T11:12:05.115Z"
   },
   {
    "duration": 273,
    "start_time": "2022-06-02T11:13:29.583Z"
   },
   {
    "duration": 364,
    "start_time": "2022-06-02T11:13:41.837Z"
   },
   {
    "duration": 285,
    "start_time": "2022-06-02T11:13:54.201Z"
   },
   {
    "duration": 276,
    "start_time": "2022-06-02T11:14:12.191Z"
   },
   {
    "duration": 266,
    "start_time": "2022-06-02T11:14:18.401Z"
   },
   {
    "duration": 6,
    "start_time": "2022-06-02T12:15:37.269Z"
   },
   {
    "duration": 294,
    "start_time": "2022-06-02T12:15:56.919Z"
   },
   {
    "duration": 183,
    "start_time": "2022-06-02T12:22:04.931Z"
   },
   {
    "duration": 233,
    "start_time": "2022-06-02T12:23:31.592Z"
   },
   {
    "duration": 209,
    "start_time": "2022-06-02T12:24:17.927Z"
   },
   {
    "duration": 385,
    "start_time": "2022-06-02T12:24:35.304Z"
   },
   {
    "duration": 460,
    "start_time": "2022-06-02T12:24:50.072Z"
   },
   {
    "duration": 1244,
    "start_time": "2022-06-02T12:25:08.780Z"
   },
   {
    "duration": 52,
    "start_time": "2022-06-02T12:25:10.026Z"
   },
   {
    "duration": 25,
    "start_time": "2022-06-02T12:25:10.080Z"
   },
   {
    "duration": 216,
    "start_time": "2022-06-02T12:25:10.107Z"
   },
   {
    "duration": 259,
    "start_time": "2022-06-02T12:25:10.325Z"
   },
   {
    "duration": 360,
    "start_time": "2022-06-02T12:25:17.213Z"
   },
   {
    "duration": 262,
    "start_time": "2022-06-02T12:33:19.410Z"
   },
   {
    "duration": 132,
    "start_time": "2022-06-02T12:38:22.536Z"
   },
   {
    "duration": 1212,
    "start_time": "2022-06-02T12:38:55.509Z"
   },
   {
    "duration": 52,
    "start_time": "2022-06-02T12:38:56.724Z"
   },
   {
    "duration": 19,
    "start_time": "2022-06-02T12:38:56.778Z"
   },
   {
    "duration": 217,
    "start_time": "2022-06-02T12:39:01.272Z"
   },
   {
    "duration": 67,
    "start_time": "2022-06-02T17:32:40.391Z"
   },
   {
    "duration": 1645,
    "start_time": "2022-06-02T17:32:44.317Z"
   },
   {
    "duration": 126,
    "start_time": "2022-06-02T17:32:45.964Z"
   },
   {
    "duration": 18,
    "start_time": "2022-06-02T17:32:46.091Z"
   },
   {
    "duration": 372,
    "start_time": "2022-06-02T17:32:50.262Z"
   },
   {
    "duration": 220,
    "start_time": "2022-06-02T17:36:50.218Z"
   },
   {
    "duration": 140,
    "start_time": "2022-06-02T17:38:52.285Z"
   },
   {
    "duration": 131,
    "start_time": "2022-06-02T17:40:44.734Z"
   },
   {
    "duration": 141,
    "start_time": "2022-06-02T17:41:50.524Z"
   },
   {
    "duration": 138,
    "start_time": "2022-06-02T17:42:04.589Z"
   },
   {
    "duration": 139,
    "start_time": "2022-06-02T17:42:24.825Z"
   },
   {
    "duration": 343,
    "start_time": "2022-06-02T17:42:39.833Z"
   },
   {
    "duration": 357,
    "start_time": "2022-06-02T17:43:08.343Z"
   },
   {
    "duration": 189,
    "start_time": "2022-06-02T17:43:21.988Z"
   },
   {
    "duration": 213,
    "start_time": "2022-06-02T17:44:30.007Z"
   },
   {
    "duration": 252,
    "start_time": "2022-06-02T17:45:27.563Z"
   },
   {
    "duration": 246,
    "start_time": "2022-06-02T17:45:36.047Z"
   },
   {
    "duration": 246,
    "start_time": "2022-06-02T17:50:16.065Z"
   },
   {
    "duration": 703,
    "start_time": "2022-06-02T17:50:58.876Z"
   },
   {
    "duration": 465,
    "start_time": "2022-06-02T17:51:29.095Z"
   },
   {
    "duration": 377,
    "start_time": "2022-06-02T17:55:03.904Z"
   },
   {
    "duration": 475,
    "start_time": "2022-06-02T17:55:12.002Z"
   },
   {
    "duration": 530,
    "start_time": "2022-06-02T17:56:45.988Z"
   },
   {
    "duration": 75,
    "start_time": "2022-06-02T17:59:13.854Z"
   },
   {
    "duration": 15,
    "start_time": "2022-06-02T18:00:11.835Z"
   },
   {
    "duration": 5,
    "start_time": "2022-06-02T18:01:08.218Z"
   },
   {
    "duration": 9,
    "start_time": "2022-06-02T18:01:31.397Z"
   },
   {
    "duration": 10,
    "start_time": "2022-06-02T18:02:15.008Z"
   },
   {
    "duration": 172,
    "start_time": "2022-06-02T18:06:13.501Z"
   },
   {
    "duration": 203,
    "start_time": "2022-06-02T18:06:44.711Z"
   },
   {
    "duration": 165,
    "start_time": "2022-06-02T18:07:40.628Z"
   },
   {
    "duration": 212,
    "start_time": "2022-06-02T18:08:13.491Z"
   },
   {
    "duration": 243,
    "start_time": "2022-06-02T18:10:08.542Z"
   },
   {
    "duration": 376,
    "start_time": "2022-06-02T18:11:06.633Z"
   },
   {
    "duration": 393,
    "start_time": "2022-06-02T18:11:55.341Z"
   },
   {
    "duration": 659,
    "start_time": "2022-06-02T18:12:20.984Z"
   },
   {
    "duration": 388,
    "start_time": "2022-06-02T18:13:30.010Z"
   },
   {
    "duration": 11,
    "start_time": "2022-06-02T18:20:38.269Z"
   },
   {
    "duration": 1394,
    "start_time": "2022-06-02T18:32:07.471Z"
   },
   {
    "duration": 66,
    "start_time": "2022-06-02T18:32:08.868Z"
   },
   {
    "duration": 19,
    "start_time": "2022-06-02T18:32:08.936Z"
   },
   {
    "duration": 397,
    "start_time": "2022-06-02T18:32:08.957Z"
   },
   {
    "duration": 559,
    "start_time": "2022-06-02T18:32:09.356Z"
   },
   {
    "duration": 418,
    "start_time": "2022-06-02T18:32:09.917Z"
   },
   {
    "duration": 7,
    "start_time": "2022-06-02T18:32:16.811Z"
   },
   {
    "duration": 10,
    "start_time": "2022-06-02T18:32:39.486Z"
   },
   {
    "duration": 6,
    "start_time": "2022-06-02T18:37:11.571Z"
   },
   {
    "duration": 780,
    "start_time": "2022-06-02T18:40:32.074Z"
   },
   {
    "duration": 5,
    "start_time": "2022-06-02T18:41:53.913Z"
   },
   {
    "duration": 4,
    "start_time": "2022-06-02T18:43:10.480Z"
   },
   {
    "duration": 20,
    "start_time": "2022-06-02T19:01:28.046Z"
   },
   {
    "duration": 18,
    "start_time": "2022-06-02T19:08:09.624Z"
   },
   {
    "duration": 10,
    "start_time": "2022-06-02T19:09:14.083Z"
   },
   {
    "duration": 15,
    "start_time": "2022-06-02T19:14:46.004Z"
   },
   {
    "duration": 5,
    "start_time": "2022-06-02T19:19:04.947Z"
   },
   {
    "duration": 38,
    "start_time": "2022-06-02T19:26:19.280Z"
   },
   {
    "duration": 39,
    "start_time": "2022-06-02T19:26:24.356Z"
   },
   {
    "duration": 2754,
    "start_time": "2022-06-02T19:26:40.079Z"
   },
   {
    "duration": 29,
    "start_time": "2022-06-02T19:27:59.109Z"
   },
   {
    "duration": 2751,
    "start_time": "2022-06-02T19:29:56.076Z"
   },
   {
    "duration": 1356,
    "start_time": "2022-06-02T19:30:38.882Z"
   },
   {
    "duration": 57,
    "start_time": "2022-06-02T19:30:40.240Z"
   },
   {
    "duration": 17,
    "start_time": "2022-06-02T19:30:40.299Z"
   },
   {
    "duration": 320,
    "start_time": "2022-06-02T19:30:40.318Z"
   },
   {
    "duration": 493,
    "start_time": "2022-06-02T19:30:40.640Z"
   },
   {
    "duration": 383,
    "start_time": "2022-06-02T19:30:41.134Z"
   },
   {
    "duration": 11,
    "start_time": "2022-06-02T19:30:41.525Z"
   },
   {
    "duration": 5,
    "start_time": "2022-06-02T19:30:41.538Z"
   },
   {
    "duration": 7,
    "start_time": "2022-06-02T19:30:41.544Z"
   },
   {
    "duration": 20,
    "start_time": "2022-06-02T19:30:41.552Z"
   },
   {
    "duration": 9,
    "start_time": "2022-06-02T19:30:41.575Z"
   },
   {
    "duration": 46,
    "start_time": "2022-06-02T19:30:41.586Z"
   },
   {
    "duration": 4807,
    "start_time": "2022-06-02T19:30:58.282Z"
   },
   {
    "duration": 4,
    "start_time": "2022-06-02T19:33:27.064Z"
   },
   {
    "duration": 120,
    "start_time": "2022-06-02T19:35:49.510Z"
   },
   {
    "duration": 14,
    "start_time": "2022-06-02T19:36:03.346Z"
   },
   {
    "duration": 11,
    "start_time": "2022-06-02T19:36:53.364Z"
   },
   {
    "duration": 164201,
    "start_time": "2022-06-02T19:40:53.267Z"
   },
   {
    "duration": 12946,
    "start_time": "2022-06-02T19:44:07.806Z"
   },
   {
    "duration": 75,
    "start_time": "2022-06-02T19:45:42.313Z"
   },
   {
    "duration": 11,
    "start_time": "2022-06-02T19:46:29.595Z"
   },
   {
    "duration": 7,
    "start_time": "2022-06-02T19:46:36.032Z"
   },
   {
    "duration": 7,
    "start_time": "2022-06-02T19:47:23.829Z"
   },
   {
    "duration": 26,
    "start_time": "2022-06-02T19:51:35.623Z"
   },
   {
    "duration": 8,
    "start_time": "2022-06-02T19:52:00.543Z"
   },
   {
    "duration": 5,
    "start_time": "2022-06-02T19:53:02.096Z"
   },
   {
    "duration": 5,
    "start_time": "2022-06-02T19:53:04.690Z"
   },
   {
    "duration": 5,
    "start_time": "2022-06-02T19:58:43.708Z"
   },
   {
    "duration": 62,
    "start_time": "2022-06-02T19:58:43.715Z"
   },
   {
    "duration": 11,
    "start_time": "2022-06-02T19:58:43.779Z"
   },
   {
    "duration": 303,
    "start_time": "2022-06-02T19:58:43.792Z"
   },
   {
    "duration": 492,
    "start_time": "2022-06-02T19:58:44.097Z"
   },
   {
    "duration": 368,
    "start_time": "2022-06-02T19:58:44.590Z"
   },
   {
    "duration": 10,
    "start_time": "2022-06-02T19:58:44.960Z"
   },
   {
    "duration": 5,
    "start_time": "2022-06-02T19:58:44.971Z"
   },
   {
    "duration": 7,
    "start_time": "2022-06-02T19:58:44.978Z"
   },
   {
    "duration": 40,
    "start_time": "2022-06-02T19:58:44.987Z"
   },
   {
    "duration": 9,
    "start_time": "2022-06-02T19:58:45.029Z"
   },
   {
    "duration": 27,
    "start_time": "2022-06-02T19:58:45.040Z"
   },
   {
    "duration": 4649,
    "start_time": "2022-06-02T19:58:45.070Z"
   },
   {
    "duration": 12,
    "start_time": "2022-06-02T19:58:49.721Z"
   },
   {
    "duration": 128111,
    "start_time": "2022-06-02T19:58:49.734Z"
   },
   {
    "duration": 67,
    "start_time": "2022-06-02T20:00:57.847Z"
   },
   {
    "duration": 6,
    "start_time": "2022-06-02T20:03:17.871Z"
   },
   {
    "duration": 8,
    "start_time": "2022-06-02T20:03:21.033Z"
   },
   {
    "duration": 4,
    "start_time": "2022-06-02T20:03:23.577Z"
   },
   {
    "duration": 5,
    "start_time": "2022-06-02T20:03:25.400Z"
   },
   {
    "duration": 7727,
    "start_time": "2022-06-02T20:04:27.758Z"
   },
   {
    "duration": 23,
    "start_time": "2022-06-02T20:04:39.711Z"
   },
   {
    "duration": 9,
    "start_time": "2022-06-02T20:05:06.624Z"
   },
   {
    "duration": 222396,
    "start_time": "2022-06-02T20:05:16.955Z"
   },
   {
    "duration": 215,
    "start_time": "2022-06-02T20:09:12.211Z"
   },
   {
    "duration": 8,
    "start_time": "2022-06-02T20:09:21.075Z"
   },
   {
    "duration": 12,
    "start_time": "2022-06-02T20:09:24.596Z"
   },
   {
    "duration": 5,
    "start_time": "2022-06-02T20:09:27.100Z"
   },
   {
    "duration": 4,
    "start_time": "2022-06-02T20:09:29.991Z"
   },
   {
    "duration": 4,
    "start_time": "2022-06-02T20:13:15.243Z"
   },
   {
    "duration": 2,
    "start_time": "2022-06-02T20:15:01.704Z"
   },
   {
    "duration": 3804,
    "start_time": "2022-06-02T20:16:32.548Z"
   },
   {
    "duration": 11,
    "start_time": "2022-06-02T20:16:55.686Z"
   },
   {
    "duration": 104783,
    "start_time": "2022-06-02T20:17:03.100Z"
   },
   {
    "duration": 212,
    "start_time": "2022-06-02T20:19:00.603Z"
   },
   {
    "duration": 13,
    "start_time": "2022-06-02T20:19:07.910Z"
   },
   {
    "duration": 6,
    "start_time": "2022-06-02T20:19:13.602Z"
   },
   {
    "duration": 1303,
    "start_time": "2022-06-02T20:25:04.155Z"
   },
   {
    "duration": 56,
    "start_time": "2022-06-02T20:25:05.460Z"
   },
   {
    "duration": 16,
    "start_time": "2022-06-02T20:25:05.518Z"
   },
   {
    "duration": 371,
    "start_time": "2022-06-02T20:25:05.535Z"
   },
   {
    "duration": 494,
    "start_time": "2022-06-02T20:25:05.908Z"
   },
   {
    "duration": 383,
    "start_time": "2022-06-02T20:25:06.404Z"
   },
   {
    "duration": 9,
    "start_time": "2022-06-02T20:25:06.789Z"
   },
   {
    "duration": 5,
    "start_time": "2022-06-02T20:25:06.800Z"
   },
   {
    "duration": 20,
    "start_time": "2022-06-02T20:25:06.806Z"
   },
   {
    "duration": 22,
    "start_time": "2022-06-02T20:25:09.283Z"
   },
   {
    "duration": 10,
    "start_time": "2022-06-02T20:25:21.436Z"
   },
   {
    "duration": 12,
    "start_time": "2022-06-02T20:25:24.038Z"
   },
   {
    "duration": 3,
    "start_time": "2022-06-02T20:25:26.137Z"
   },
   {
    "duration": 5851,
    "start_time": "2022-06-02T20:27:01.323Z"
   },
   {
    "duration": 10,
    "start_time": "2022-06-02T20:27:16.603Z"
   },
   {
    "duration": 160664,
    "start_time": "2022-06-02T20:27:25.469Z"
   },
   {
    "duration": 310,
    "start_time": "2022-06-02T20:30:19.469Z"
   },
   {
    "duration": 12,
    "start_time": "2022-06-02T20:30:23.653Z"
   },
   {
    "duration": 4,
    "start_time": "2022-06-02T20:30:26.258Z"
   },
   {
    "duration": 5,
    "start_time": "2022-06-02T20:30:47.024Z"
   },
   {
    "duration": 20,
    "start_time": "2022-06-02T20:30:50.017Z"
   },
   {
    "duration": 10,
    "start_time": "2022-06-02T20:31:01.982Z"
   },
   {
    "duration": 12,
    "start_time": "2022-06-02T20:31:04.274Z"
   },
   {
    "duration": 5809,
    "start_time": "2022-06-02T20:31:07.267Z"
   },
   {
    "duration": 8,
    "start_time": "2022-06-02T20:31:24.597Z"
   },
   {
    "duration": 160401,
    "start_time": "2022-06-02T20:31:30.589Z"
   },
   {
    "duration": 204,
    "start_time": "2022-06-02T20:34:29.182Z"
   },
   {
    "duration": 11,
    "start_time": "2022-06-02T20:34:36.327Z"
   },
   {
    "duration": 4,
    "start_time": "2022-06-02T20:34:38.560Z"
   },
   {
    "duration": 1409,
    "start_time": "2022-06-03T15:47:52.605Z"
   },
   {
    "duration": 129,
    "start_time": "2022-06-03T15:47:54.016Z"
   },
   {
    "duration": 15,
    "start_time": "2022-06-03T15:47:54.147Z"
   },
   {
    "duration": 323,
    "start_time": "2022-06-03T15:47:54.164Z"
   },
   {
    "duration": 464,
    "start_time": "2022-06-03T15:47:54.489Z"
   },
   {
    "duration": 367,
    "start_time": "2022-06-03T15:47:54.955Z"
   },
   {
    "duration": 14,
    "start_time": "2022-06-03T15:47:55.329Z"
   },
   {
    "duration": 17,
    "start_time": "2022-06-03T15:47:55.345Z"
   },
   {
    "duration": 11,
    "start_time": "2022-06-03T15:47:55.364Z"
   },
   {
    "duration": 28,
    "start_time": "2022-06-03T15:47:55.376Z"
   },
   {
    "duration": 9,
    "start_time": "2022-06-03T15:47:55.405Z"
   },
   {
    "duration": 33,
    "start_time": "2022-06-03T15:47:55.415Z"
   },
   {
    "duration": 3,
    "start_time": "2022-06-03T15:47:55.449Z"
   },
   {
    "duration": 376,
    "start_time": "2022-06-03T15:48:38.268Z"
   },
   {
    "duration": 72,
    "start_time": "2022-06-03T15:49:07.159Z"
   },
   {
    "duration": 4,
    "start_time": "2022-06-03T15:49:29.067Z"
   },
   {
    "duration": 127,
    "start_time": "2022-06-03T15:50:23.440Z"
   },
   {
    "duration": 123,
    "start_time": "2022-06-03T15:50:55.577Z"
   },
   {
    "duration": 146,
    "start_time": "2022-06-03T15:51:45.870Z"
   },
   {
    "duration": 13656,
    "start_time": "2022-06-03T15:52:18.755Z"
   },
   {
    "duration": 23,
    "start_time": "2022-06-03T15:52:40.646Z"
   },
   {
    "duration": 13,
    "start_time": "2022-06-03T16:08:51.881Z"
   },
   {
    "duration": 1331,
    "start_time": "2022-06-03T16:14:57.358Z"
   },
   {
    "duration": 71,
    "start_time": "2022-06-03T16:14:58.691Z"
   },
   {
    "duration": 18,
    "start_time": "2022-06-03T16:14:58.763Z"
   },
   {
    "duration": 451,
    "start_time": "2022-06-03T16:14:58.782Z"
   },
   {
    "duration": 628,
    "start_time": "2022-06-03T16:14:59.242Z"
   },
   {
    "duration": 459,
    "start_time": "2022-06-03T16:14:59.872Z"
   },
   {
    "duration": 12,
    "start_time": "2022-06-03T16:15:00.333Z"
   },
   {
    "duration": 29,
    "start_time": "2022-06-03T16:15:00.347Z"
   },
   {
    "duration": 13,
    "start_time": "2022-06-03T16:15:00.377Z"
   },
   {
    "duration": 51,
    "start_time": "2022-06-03T16:15:00.391Z"
   },
   {
    "duration": 10,
    "start_time": "2022-06-03T16:15:00.444Z"
   },
   {
    "duration": 14,
    "start_time": "2022-06-03T16:15:00.456Z"
   },
   {
    "duration": 17,
    "start_time": "2022-06-03T16:15:00.471Z"
   },
   {
    "duration": 12996,
    "start_time": "2022-06-03T16:15:00.491Z"
   },
   {
    "duration": 21,
    "start_time": "2022-06-03T16:15:13.489Z"
   },
   {
    "duration": 172,
    "start_time": "2022-06-03T16:16:41.505Z"
   },
   {
    "duration": 258846,
    "start_time": "2022-06-03T16:16:52.796Z"
   },
   {
    "duration": 1219,
    "start_time": "2022-06-03T16:22:27.381Z"
   },
   {
    "duration": 1293,
    "start_time": "2022-06-03T16:22:51.485Z"
   },
   {
    "duration": 537,
    "start_time": "2022-06-03T16:26:37.409Z"
   },
   {
    "duration": 13,
    "start_time": "2022-06-03T16:26:44.083Z"
   },
   {
    "duration": 17,
    "start_time": "2022-06-03T16:27:22.324Z"
   },
   {
    "duration": 107,
    "start_time": "2022-06-03T16:27:44.682Z"
   },
   {
    "duration": 147326,
    "start_time": "2022-06-03T16:28:08.284Z"
   },
   {
    "duration": 1326,
    "start_time": "2022-06-03T16:31:13.022Z"
   },
   {
    "duration": 18,
    "start_time": "2022-06-03T16:33:08.762Z"
   },
   {
    "duration": 6,
    "start_time": "2022-06-03T16:33:25.959Z"
   },
   {
    "duration": 6,
    "start_time": "2022-06-03T16:35:21.945Z"
   },
   {
    "duration": 5,
    "start_time": "2022-06-03T16:36:50.049Z"
   },
   {
    "duration": 1445,
    "start_time": "2022-06-03T18:55:47.536Z"
   },
   {
    "duration": 128,
    "start_time": "2022-06-03T18:55:48.982Z"
   },
   {
    "duration": 13,
    "start_time": "2022-06-03T18:55:49.111Z"
   },
   {
    "duration": 308,
    "start_time": "2022-06-03T18:55:49.126Z"
   },
   {
    "duration": 478,
    "start_time": "2022-06-03T18:55:49.436Z"
   },
   {
    "duration": 371,
    "start_time": "2022-06-03T18:55:49.915Z"
   },
   {
    "duration": 9,
    "start_time": "2022-06-03T18:55:50.288Z"
   },
   {
    "duration": 10,
    "start_time": "2022-06-03T18:55:50.298Z"
   },
   {
    "duration": 13,
    "start_time": "2022-06-03T18:55:50.309Z"
   },
   {
    "duration": 43,
    "start_time": "2022-06-03T18:55:50.325Z"
   },
   {
    "duration": 8,
    "start_time": "2022-06-03T18:55:50.370Z"
   },
   {
    "duration": 12,
    "start_time": "2022-06-03T18:55:50.380Z"
   },
   {
    "duration": 3,
    "start_time": "2022-06-03T18:55:50.394Z"
   },
   {
    "duration": 11471,
    "start_time": "2022-06-03T18:55:50.399Z"
   },
   {
    "duration": 16,
    "start_time": "2022-06-03T18:56:01.872Z"
   },
   {
    "duration": 20,
    "start_time": "2022-06-03T18:56:01.890Z"
   },
   {
    "duration": 1169,
    "start_time": "2022-06-03T18:56:01.912Z"
   },
   {
    "duration": 286,
    "start_time": "2022-06-03T18:56:03.083Z"
   },
   {
    "duration": 188,
    "start_time": "2022-06-03T18:56:03.371Z"
   },
   {
    "duration": 110820,
    "start_time": "2022-06-03T18:56:03.562Z"
   },
   {
    "duration": 1059,
    "start_time": "2022-06-03T18:57:54.383Z"
   },
   {
    "duration": 5,
    "start_time": "2022-06-03T18:57:55.443Z"
   },
   {
    "duration": 19,
    "start_time": "2022-06-03T18:57:55.449Z"
   },
   {
    "duration": 4,
    "start_time": "2022-06-03T18:57:55.469Z"
   },
   {
    "duration": 7,
    "start_time": "2022-06-03T18:57:55.475Z"
   },
   {
    "duration": 43,
    "start_time": "2022-06-03T18:58:47.459Z"
   },
   {
    "duration": 25,
    "start_time": "2022-06-03T19:04:34.341Z"
   },
   {
    "duration": 36,
    "start_time": "2022-06-03T19:05:46.557Z"
   },
   {
    "duration": 86,
    "start_time": "2022-06-03T19:20:02.740Z"
   },
   {
    "duration": 0,
    "start_time": "2022-06-03T19:20:02.829Z"
   },
   {
    "duration": 0,
    "start_time": "2022-06-03T19:20:02.830Z"
   },
   {
    "duration": 0,
    "start_time": "2022-06-03T19:20:02.831Z"
   },
   {
    "duration": 0,
    "start_time": "2022-06-03T19:20:02.832Z"
   },
   {
    "duration": 0,
    "start_time": "2022-06-03T19:20:02.833Z"
   },
   {
    "duration": 0,
    "start_time": "2022-06-03T19:20:02.835Z"
   },
   {
    "duration": 29,
    "start_time": "2022-06-03T19:20:02.871Z"
   },
   {
    "duration": 10,
    "start_time": "2022-06-03T19:20:02.903Z"
   },
   {
    "duration": 8,
    "start_time": "2022-06-03T19:20:02.916Z"
   },
   {
    "duration": 49,
    "start_time": "2022-06-03T19:20:02.927Z"
   },
   {
    "duration": 12,
    "start_time": "2022-06-03T19:20:02.978Z"
   },
   {
    "duration": 44,
    "start_time": "2022-06-03T19:20:02.992Z"
   },
   {
    "duration": 28,
    "start_time": "2022-06-03T19:20:03.038Z"
   },
   {
    "duration": 11659,
    "start_time": "2022-06-03T19:20:03.067Z"
   },
   {
    "duration": 18,
    "start_time": "2022-06-03T19:20:14.727Z"
   },
   {
    "duration": 5,
    "start_time": "2022-06-03T19:20:14.760Z"
   },
   {
    "duration": 1152,
    "start_time": "2022-06-03T19:20:14.767Z"
   },
   {
    "duration": 444,
    "start_time": "2022-06-03T19:20:15.920Z"
   },
   {
    "duration": 98,
    "start_time": "2022-06-03T19:20:16.367Z"
   },
   {
    "duration": 243,
    "start_time": "2022-06-03T19:20:16.469Z"
   },
   {
    "duration": 0,
    "start_time": "2022-06-03T19:20:16.714Z"
   },
   {
    "duration": 0,
    "start_time": "2022-06-03T19:20:16.715Z"
   },
   {
    "duration": 0,
    "start_time": "2022-06-03T19:20:16.716Z"
   },
   {
    "duration": 0,
    "start_time": "2022-06-03T19:20:16.717Z"
   },
   {
    "duration": 0,
    "start_time": "2022-06-03T19:20:16.718Z"
   },
   {
    "duration": 51,
    "start_time": "2022-06-03T19:21:45.536Z"
   },
   {
    "duration": 0,
    "start_time": "2022-06-03T19:21:45.590Z"
   },
   {
    "duration": 0,
    "start_time": "2022-06-03T19:21:45.591Z"
   },
   {
    "duration": 0,
    "start_time": "2022-06-03T19:21:45.593Z"
   },
   {
    "duration": 0,
    "start_time": "2022-06-03T19:21:45.594Z"
   },
   {
    "duration": 0,
    "start_time": "2022-06-03T19:21:45.596Z"
   },
   {
    "duration": 0,
    "start_time": "2022-06-03T19:21:45.597Z"
   },
   {
    "duration": 1,
    "start_time": "2022-06-03T19:21:45.598Z"
   },
   {
    "duration": 0,
    "start_time": "2022-06-03T19:21:45.600Z"
   },
   {
    "duration": 0,
    "start_time": "2022-06-03T19:21:45.601Z"
   },
   {
    "duration": 0,
    "start_time": "2022-06-03T19:21:45.602Z"
   },
   {
    "duration": 0,
    "start_time": "2022-06-03T19:21:45.604Z"
   },
   {
    "duration": 0,
    "start_time": "2022-06-03T19:21:45.605Z"
   },
   {
    "duration": 0,
    "start_time": "2022-06-03T19:21:45.607Z"
   },
   {
    "duration": 0,
    "start_time": "2022-06-03T19:21:45.608Z"
   },
   {
    "duration": 0,
    "start_time": "2022-06-03T19:21:45.610Z"
   },
   {
    "duration": 0,
    "start_time": "2022-06-03T19:21:45.612Z"
   },
   {
    "duration": 0,
    "start_time": "2022-06-03T19:21:45.613Z"
   },
   {
    "duration": 0,
    "start_time": "2022-06-03T19:21:45.614Z"
   },
   {
    "duration": 0,
    "start_time": "2022-06-03T19:21:45.616Z"
   },
   {
    "duration": 48,
    "start_time": "2022-06-03T19:21:45.619Z"
   },
   {
    "duration": 0,
    "start_time": "2022-06-03T19:21:45.669Z"
   },
   {
    "duration": 0,
    "start_time": "2022-06-03T19:21:45.670Z"
   },
   {
    "duration": 1,
    "start_time": "2022-06-03T19:21:45.671Z"
   },
   {
    "duration": 0,
    "start_time": "2022-06-03T19:21:45.673Z"
   },
   {
    "duration": 0,
    "start_time": "2022-06-03T19:21:45.674Z"
   },
   {
    "duration": 4,
    "start_time": "2022-06-03T19:21:59.001Z"
   },
   {
    "duration": 67,
    "start_time": "2022-06-03T19:21:59.007Z"
   },
   {
    "duration": 13,
    "start_time": "2022-06-03T19:21:59.076Z"
   },
   {
    "duration": 322,
    "start_time": "2022-06-03T19:21:59.091Z"
   },
   {
    "duration": 459,
    "start_time": "2022-06-03T19:21:59.415Z"
   },
   {
    "duration": 355,
    "start_time": "2022-06-03T19:21:59.876Z"
   },
   {
    "duration": 9,
    "start_time": "2022-06-03T19:22:00.233Z"
   },
   {
    "duration": 19,
    "start_time": "2022-06-03T19:22:00.243Z"
   },
   {
    "duration": 14,
    "start_time": "2022-06-03T19:22:00.264Z"
   },
   {
    "duration": 30,
    "start_time": "2022-06-03T19:22:00.280Z"
   },
   {
    "duration": 9,
    "start_time": "2022-06-03T19:22:00.312Z"
   },
   {
    "duration": 14,
    "start_time": "2022-06-03T19:22:00.323Z"
   },
   {
    "duration": 20,
    "start_time": "2022-06-03T19:22:00.339Z"
   },
   {
    "duration": 11487,
    "start_time": "2022-06-03T19:22:00.361Z"
   },
   {
    "duration": 19,
    "start_time": "2022-06-03T19:22:11.849Z"
   },
   {
    "duration": 5,
    "start_time": "2022-06-03T19:22:11.869Z"
   },
   {
    "duration": 1219,
    "start_time": "2022-06-03T19:22:11.875Z"
   },
   {
    "duration": 272,
    "start_time": "2022-06-03T19:22:13.096Z"
   },
   {
    "duration": 99,
    "start_time": "2022-06-03T19:22:13.370Z"
   },
   {
    "duration": 109,
    "start_time": "2022-06-03T19:22:13.560Z"
   },
   {
    "duration": 0,
    "start_time": "2022-06-03T19:22:13.670Z"
   },
   {
    "duration": 0,
    "start_time": "2022-06-03T19:22:13.671Z"
   },
   {
    "duration": 0,
    "start_time": "2022-06-03T19:22:13.673Z"
   },
   {
    "duration": 0,
    "start_time": "2022-06-03T19:22:13.674Z"
   },
   {
    "duration": 0,
    "start_time": "2022-06-03T19:22:13.675Z"
   },
   {
    "duration": 134068,
    "start_time": "2022-06-03T19:22:49.270Z"
   },
   {
    "duration": 1091,
    "start_time": "2022-06-03T19:25:03.340Z"
   },
   {
    "duration": 4,
    "start_time": "2022-06-03T19:25:04.433Z"
   },
   {
    "duration": 16,
    "start_time": "2022-06-03T19:25:04.439Z"
   },
   {
    "duration": 5,
    "start_time": "2022-06-03T19:25:04.456Z"
   },
   {
    "duration": 11,
    "start_time": "2022-06-03T19:25:04.462Z"
   },
   {
    "duration": 181,
    "start_time": "2022-06-03T19:34:46.453Z"
   },
   {
    "duration": 171,
    "start_time": "2022-06-03T19:37:50.708Z"
   },
   {
    "duration": 4,
    "start_time": "2022-06-03T19:38:26.003Z"
   },
   {
    "duration": 58,
    "start_time": "2022-06-03T19:38:26.009Z"
   },
   {
    "duration": 11,
    "start_time": "2022-06-03T19:38:26.070Z"
   },
   {
    "duration": 387,
    "start_time": "2022-06-03T19:38:26.083Z"
   },
   {
    "duration": 473,
    "start_time": "2022-06-03T19:38:26.472Z"
   },
   {
    "duration": 423,
    "start_time": "2022-06-03T19:38:26.947Z"
   },
   {
    "duration": 9,
    "start_time": "2022-06-03T19:38:27.372Z"
   },
   {
    "duration": 11,
    "start_time": "2022-06-03T19:38:27.383Z"
   },
   {
    "duration": 10,
    "start_time": "2022-06-03T19:38:27.395Z"
   },
   {
    "duration": 52,
    "start_time": "2022-06-03T19:38:27.407Z"
   },
   {
    "duration": 10,
    "start_time": "2022-06-03T19:38:27.462Z"
   },
   {
    "duration": 32,
    "start_time": "2022-06-03T19:38:27.473Z"
   },
   {
    "duration": 7,
    "start_time": "2022-06-03T19:38:27.507Z"
   },
   {
    "duration": 11678,
    "start_time": "2022-06-03T19:38:27.516Z"
   },
   {
    "duration": 18,
    "start_time": "2022-06-03T19:38:39.196Z"
   },
   {
    "duration": 6,
    "start_time": "2022-06-03T19:38:39.215Z"
   },
   {
    "duration": 1202,
    "start_time": "2022-06-03T19:38:39.222Z"
   },
   {
    "duration": 348,
    "start_time": "2022-06-03T19:38:40.426Z"
   },
   {
    "duration": 90,
    "start_time": "2022-06-03T19:38:40.777Z"
   },
   {
    "duration": 369,
    "start_time": "2022-06-03T19:38:40.870Z"
   },
   {
    "duration": 0,
    "start_time": "2022-06-03T19:38:41.241Z"
   },
   {
    "duration": 0,
    "start_time": "2022-06-03T19:38:41.242Z"
   },
   {
    "duration": 0,
    "start_time": "2022-06-03T19:38:41.259Z"
   },
   {
    "duration": 0,
    "start_time": "2022-06-03T19:38:41.260Z"
   },
   {
    "duration": 0,
    "start_time": "2022-06-03T19:38:41.261Z"
   },
   {
    "duration": 3,
    "start_time": "2022-06-03T19:41:51.842Z"
   },
   {
    "duration": 8,
    "start_time": "2022-06-03T19:42:08.810Z"
   },
   {
    "duration": 9,
    "start_time": "2022-06-03T19:42:31.345Z"
   },
   {
    "duration": 11,
    "start_time": "2022-06-03T19:42:44.668Z"
   },
   {
    "duration": 9,
    "start_time": "2022-06-03T19:43:23.597Z"
   },
   {
    "duration": 5,
    "start_time": "2022-06-03T19:43:35.892Z"
   },
   {
    "duration": 8,
    "start_time": "2022-06-03T19:44:29.306Z"
   },
   {
    "duration": 5,
    "start_time": "2022-06-03T19:44:35.250Z"
   },
   {
    "duration": 4,
    "start_time": "2022-06-03T19:45:33.539Z"
   },
   {
    "duration": 5,
    "start_time": "2022-06-03T19:45:38.808Z"
   },
   {
    "duration": 184,
    "start_time": "2022-06-03T19:45:41.206Z"
   },
   {
    "duration": 3,
    "start_time": "2022-06-03T19:45:43.923Z"
   },
   {
    "duration": 9,
    "start_time": "2022-06-03T19:45:54.857Z"
   },
   {
    "duration": 13,
    "start_time": "2022-06-03T19:46:15.169Z"
   },
   {
    "duration": 9,
    "start_time": "2022-06-03T19:46:19.156Z"
   },
   {
    "duration": 4,
    "start_time": "2022-06-03T19:46:22.376Z"
   },
   {
    "duration": 4,
    "start_time": "2022-06-03T19:46:39.983Z"
   },
   {
    "duration": 6,
    "start_time": "2022-06-03T19:47:47.182Z"
   },
   {
    "duration": 67,
    "start_time": "2022-06-03T19:47:47.190Z"
   },
   {
    "duration": 14,
    "start_time": "2022-06-03T19:47:47.259Z"
   },
   {
    "duration": 333,
    "start_time": "2022-06-03T19:47:47.275Z"
   },
   {
    "duration": 563,
    "start_time": "2022-06-03T19:47:47.610Z"
   },
   {
    "duration": 356,
    "start_time": "2022-06-03T19:47:48.175Z"
   },
   {
    "duration": 10,
    "start_time": "2022-06-03T19:47:48.533Z"
   },
   {
    "duration": 23,
    "start_time": "2022-06-03T19:47:48.545Z"
   },
   {
    "duration": 7,
    "start_time": "2022-06-03T19:47:48.570Z"
   },
   {
    "duration": 27,
    "start_time": "2022-06-03T19:47:48.579Z"
   },
   {
    "duration": 9,
    "start_time": "2022-06-03T19:47:48.607Z"
   },
   {
    "duration": 14,
    "start_time": "2022-06-03T19:47:48.618Z"
   },
   {
    "duration": 27,
    "start_time": "2022-06-03T19:47:48.634Z"
   },
   {
    "duration": 11536,
    "start_time": "2022-06-03T19:47:48.664Z"
   },
   {
    "duration": 16,
    "start_time": "2022-06-03T19:48:00.201Z"
   },
   {
    "duration": 9,
    "start_time": "2022-06-03T19:48:00.219Z"
   },
   {
    "duration": 1201,
    "start_time": "2022-06-03T19:48:00.229Z"
   },
   {
    "duration": 247,
    "start_time": "2022-06-03T19:48:01.431Z"
   },
   {
    "duration": 15,
    "start_time": "2022-06-03T19:48:01.758Z"
   },
   {
    "duration": 101,
    "start_time": "2022-06-03T19:48:01.862Z"
   },
   {
    "duration": 18,
    "start_time": "2022-06-03T19:48:01.965Z"
   },
   {
    "duration": 0,
    "start_time": "2022-06-03T19:48:01.985Z"
   },
   {
    "duration": 0,
    "start_time": "2022-06-03T19:48:01.986Z"
   },
   {
    "duration": 0,
    "start_time": "2022-06-03T19:48:01.987Z"
   },
   {
    "duration": 0,
    "start_time": "2022-06-03T19:48:01.988Z"
   },
   {
    "duration": 0,
    "start_time": "2022-06-03T19:48:01.989Z"
   },
   {
    "duration": 0,
    "start_time": "2022-06-03T19:48:01.990Z"
   },
   {
    "duration": 3,
    "start_time": "2022-06-03T19:48:30.423Z"
   },
   {
    "duration": 178,
    "start_time": "2022-06-03T19:48:32.458Z"
   },
   {
    "duration": 3,
    "start_time": "2022-06-03T19:48:41.752Z"
   },
   {
    "duration": 3,
    "start_time": "2022-06-03T19:48:42.605Z"
   },
   {
    "duration": 185,
    "start_time": "2022-06-03T19:48:44.158Z"
   },
   {
    "duration": 233,
    "start_time": "2022-06-03T19:48:52.694Z"
   },
   {
    "duration": 5,
    "start_time": "2022-06-03T19:49:21.103Z"
   },
   {
    "duration": 66,
    "start_time": "2022-06-03T19:49:21.110Z"
   },
   {
    "duration": 11,
    "start_time": "2022-06-03T19:49:21.177Z"
   },
   {
    "duration": 324,
    "start_time": "2022-06-03T19:49:21.189Z"
   },
   {
    "duration": 471,
    "start_time": "2022-06-03T19:49:21.516Z"
   },
   {
    "duration": 371,
    "start_time": "2022-06-03T19:49:21.990Z"
   },
   {
    "duration": 10,
    "start_time": "2022-06-03T19:49:22.363Z"
   },
   {
    "duration": 12,
    "start_time": "2022-06-03T19:49:22.375Z"
   },
   {
    "duration": 11,
    "start_time": "2022-06-03T19:49:22.388Z"
   },
   {
    "duration": 60,
    "start_time": "2022-06-03T19:49:22.400Z"
   },
   {
    "duration": 117,
    "start_time": "2022-06-03T19:49:22.463Z"
   },
   {
    "duration": 20,
    "start_time": "2022-06-03T19:49:22.582Z"
   },
   {
    "duration": 7,
    "start_time": "2022-06-03T19:49:22.604Z"
   },
   {
    "duration": 11829,
    "start_time": "2022-06-03T19:49:22.613Z"
   },
   {
    "duration": 24,
    "start_time": "2022-06-03T19:49:34.443Z"
   },
   {
    "duration": 6,
    "start_time": "2022-06-03T19:49:34.469Z"
   },
   {
    "duration": 1189,
    "start_time": "2022-06-03T19:49:34.476Z"
   },
   {
    "duration": 296,
    "start_time": "2022-06-03T19:49:35.667Z"
   },
   {
    "duration": 96,
    "start_time": "2022-06-03T19:49:35.964Z"
   },
   {
    "duration": 281,
    "start_time": "2022-06-03T19:49:36.061Z"
   },
   {
    "duration": 0,
    "start_time": "2022-06-03T19:49:36.344Z"
   },
   {
    "duration": 0,
    "start_time": "2022-06-03T19:49:36.345Z"
   },
   {
    "duration": 0,
    "start_time": "2022-06-03T19:49:36.358Z"
   },
   {
    "duration": 0,
    "start_time": "2022-06-03T19:49:36.360Z"
   },
   {
    "duration": 0,
    "start_time": "2022-06-03T19:49:36.360Z"
   },
   {
    "duration": 13,
    "start_time": "2022-06-03T19:54:36.395Z"
   },
   {
    "duration": 34,
    "start_time": "2022-06-03T19:54:44.353Z"
   },
   {
    "duration": 21,
    "start_time": "2022-06-03T19:54:54.215Z"
   },
   {
    "duration": 10,
    "start_time": "2022-06-03T19:55:09.928Z"
   },
   {
    "duration": 23,
    "start_time": "2022-06-03T19:55:16.336Z"
   },
   {
    "duration": 4,
    "start_time": "2022-06-03T19:56:44.269Z"
   },
   {
    "duration": 62,
    "start_time": "2022-06-03T19:56:44.276Z"
   },
   {
    "duration": 15,
    "start_time": "2022-06-03T19:56:44.340Z"
   },
   {
    "duration": 325,
    "start_time": "2022-06-03T19:56:44.360Z"
   },
   {
    "duration": 490,
    "start_time": "2022-06-03T19:56:44.686Z"
   },
   {
    "duration": 372,
    "start_time": "2022-06-03T19:56:45.178Z"
   },
   {
    "duration": 14,
    "start_time": "2022-06-03T19:56:45.553Z"
   },
   {
    "duration": 12,
    "start_time": "2022-06-03T19:56:45.569Z"
   },
   {
    "duration": 10,
    "start_time": "2022-06-03T19:56:45.584Z"
   },
   {
    "duration": 66,
    "start_time": "2022-06-03T19:56:45.598Z"
   },
   {
    "duration": 13,
    "start_time": "2022-06-03T19:56:45.666Z"
   },
   {
    "duration": 18,
    "start_time": "2022-06-03T19:56:45.680Z"
   },
   {
    "duration": 3,
    "start_time": "2022-06-03T19:56:45.700Z"
   },
   {
    "duration": 11997,
    "start_time": "2022-06-03T19:56:45.704Z"
   },
   {
    "duration": 16,
    "start_time": "2022-06-03T19:56:57.702Z"
   },
   {
    "duration": 13,
    "start_time": "2022-06-03T19:56:57.719Z"
   },
   {
    "duration": 1162,
    "start_time": "2022-06-03T19:56:57.734Z"
   },
   {
    "duration": 364,
    "start_time": "2022-06-03T19:56:58.897Z"
   },
   {
    "duration": 111,
    "start_time": "2022-06-03T19:56:59.263Z"
   },
   {
    "duration": 344,
    "start_time": "2022-06-03T19:56:59.376Z"
   },
   {
    "duration": 1,
    "start_time": "2022-06-03T19:56:59.721Z"
   },
   {
    "duration": 0,
    "start_time": "2022-06-03T19:56:59.723Z"
   },
   {
    "duration": 0,
    "start_time": "2022-06-03T19:56:59.724Z"
   },
   {
    "duration": 0,
    "start_time": "2022-06-03T19:56:59.726Z"
   },
   {
    "duration": 0,
    "start_time": "2022-06-03T19:56:59.727Z"
   },
   {
    "duration": 6,
    "start_time": "2022-06-03T19:57:30.598Z"
   },
   {
    "duration": 90,
    "start_time": "2022-06-03T19:57:30.608Z"
   },
   {
    "duration": 15,
    "start_time": "2022-06-03T19:57:30.701Z"
   },
   {
    "duration": 482,
    "start_time": "2022-06-03T19:57:30.720Z"
   },
   {
    "duration": 496,
    "start_time": "2022-06-03T19:57:31.204Z"
   },
   {
    "duration": 369,
    "start_time": "2022-06-03T19:57:31.702Z"
   },
   {
    "duration": 9,
    "start_time": "2022-06-03T19:57:32.072Z"
   },
   {
    "duration": 33,
    "start_time": "2022-06-03T19:57:32.083Z"
   },
   {
    "duration": 21,
    "start_time": "2022-06-03T19:57:32.118Z"
   },
   {
    "duration": 50,
    "start_time": "2022-06-03T19:57:32.142Z"
   },
   {
    "duration": 16,
    "start_time": "2022-06-03T19:57:32.193Z"
   },
   {
    "duration": 33,
    "start_time": "2022-06-03T19:57:32.210Z"
   },
   {
    "duration": 27,
    "start_time": "2022-06-03T19:57:32.245Z"
   },
   {
    "duration": 11748,
    "start_time": "2022-06-03T19:57:32.274Z"
   },
   {
    "duration": 16,
    "start_time": "2022-06-03T19:57:44.024Z"
   },
   {
    "duration": 18,
    "start_time": "2022-06-03T19:57:44.041Z"
   },
   {
    "duration": 1161,
    "start_time": "2022-06-03T19:57:44.061Z"
   },
   {
    "duration": 444,
    "start_time": "2022-06-03T19:57:45.224Z"
   },
   {
    "duration": 90,
    "start_time": "2022-06-03T19:57:45.670Z"
   },
   {
    "duration": 36,
    "start_time": "2022-06-03T19:57:45.858Z"
   },
   {
    "duration": 0,
    "start_time": "2022-06-03T19:57:45.895Z"
   },
   {
    "duration": 0,
    "start_time": "2022-06-03T19:57:45.897Z"
   },
   {
    "duration": 0,
    "start_time": "2022-06-03T19:57:45.898Z"
   },
   {
    "duration": 0,
    "start_time": "2022-06-03T19:57:45.899Z"
   },
   {
    "duration": 0,
    "start_time": "2022-06-03T19:57:45.900Z"
   },
   {
    "duration": 4,
    "start_time": "2022-06-03T19:58:21.302Z"
   },
   {
    "duration": 71,
    "start_time": "2022-06-03T19:58:21.308Z"
   },
   {
    "duration": 11,
    "start_time": "2022-06-03T19:58:21.381Z"
   },
   {
    "duration": 375,
    "start_time": "2022-06-03T19:58:21.393Z"
   },
   {
    "duration": 515,
    "start_time": "2022-06-03T19:58:21.770Z"
   },
   {
    "duration": 478,
    "start_time": "2022-06-03T19:58:22.287Z"
   },
   {
    "duration": 11,
    "start_time": "2022-06-03T19:58:22.767Z"
   },
   {
    "duration": 14,
    "start_time": "2022-06-03T19:58:22.780Z"
   },
   {
    "duration": 14,
    "start_time": "2022-06-03T19:58:22.796Z"
   },
   {
    "duration": 69,
    "start_time": "2022-06-03T19:58:22.812Z"
   },
   {
    "duration": 13,
    "start_time": "2022-06-03T19:58:22.884Z"
   },
   {
    "duration": 12,
    "start_time": "2022-06-03T19:58:22.898Z"
   },
   {
    "duration": 3,
    "start_time": "2022-06-03T19:58:22.912Z"
   },
   {
    "duration": 12704,
    "start_time": "2022-06-03T19:58:22.917Z"
   },
   {
    "duration": 18,
    "start_time": "2022-06-03T19:58:35.623Z"
   },
   {
    "duration": 18,
    "start_time": "2022-06-03T19:58:35.643Z"
   },
   {
    "duration": 1289,
    "start_time": "2022-06-03T19:58:35.663Z"
   },
   {
    "duration": 523,
    "start_time": "2022-06-03T19:58:36.954Z"
   },
   {
    "duration": 288,
    "start_time": "2022-06-03T19:58:37.480Z"
   },
   {
    "duration": 123,
    "start_time": "2022-06-03T19:58:37.770Z"
   },
   {
    "duration": 0,
    "start_time": "2022-06-03T19:58:37.960Z"
   },
   {
    "duration": 0,
    "start_time": "2022-06-03T19:58:37.961Z"
   },
   {
    "duration": 0,
    "start_time": "2022-06-03T19:58:37.963Z"
   },
   {
    "duration": 0,
    "start_time": "2022-06-03T19:58:37.965Z"
   },
   {
    "duration": 0,
    "start_time": "2022-06-03T19:58:37.966Z"
   },
   {
    "duration": 120116,
    "start_time": "2022-06-03T19:59:01.607Z"
   },
   {
    "duration": 1478,
    "start_time": "2022-06-03T20:01:01.725Z"
   },
   {
    "duration": 5,
    "start_time": "2022-06-03T20:01:03.205Z"
   },
   {
    "duration": 32,
    "start_time": "2022-06-03T20:01:03.213Z"
   },
   {
    "duration": 12,
    "start_time": "2022-06-03T20:01:03.247Z"
   },
   {
    "duration": 38,
    "start_time": "2022-06-03T20:01:03.260Z"
   },
   {
    "duration": 1594,
    "start_time": "2022-06-04T12:21:48.803Z"
   },
   {
    "duration": 137,
    "start_time": "2022-06-04T12:21:50.400Z"
   },
   {
    "duration": 14,
    "start_time": "2022-06-04T12:21:50.539Z"
   },
   {
    "duration": 337,
    "start_time": "2022-06-04T12:21:50.555Z"
   },
   {
    "duration": 535,
    "start_time": "2022-06-04T12:21:50.895Z"
   },
   {
    "duration": 458,
    "start_time": "2022-06-04T12:21:51.432Z"
   },
   {
    "duration": 11,
    "start_time": "2022-06-04T12:21:51.892Z"
   },
   {
    "duration": 21,
    "start_time": "2022-06-04T12:21:51.905Z"
   },
   {
    "duration": 13,
    "start_time": "2022-06-04T12:21:51.927Z"
   },
   {
    "duration": 31,
    "start_time": "2022-06-04T12:21:51.942Z"
   },
   {
    "duration": 122,
    "start_time": "2022-06-04T12:22:24.106Z"
   },
   {
    "duration": 7,
    "start_time": "2022-06-04T12:22:37.011Z"
   },
   {
    "duration": 11,
    "start_time": "2022-06-04T12:22:39.399Z"
   },
   {
    "duration": 3,
    "start_time": "2022-06-04T12:22:42.703Z"
   },
   {
    "duration": 15646,
    "start_time": "2022-06-04T12:22:45.823Z"
   },
   {
    "duration": 26,
    "start_time": "2022-06-04T12:28:12.098Z"
   },
   {
    "duration": 24,
    "start_time": "2022-06-04T12:31:00.410Z"
   },
   {
    "duration": 20,
    "start_time": "2022-06-04T12:31:04.946Z"
   },
   {
    "duration": 9,
    "start_time": "2022-06-04T12:31:22.902Z"
   },
   {
    "duration": 5,
    "start_time": "2022-06-04T12:32:20.932Z"
   },
   {
    "duration": 13,
    "start_time": "2022-06-04T12:33:03.407Z"
   },
   {
    "duration": 1596,
    "start_time": "2022-06-04T12:33:11.140Z"
   },
   {
    "duration": 15,
    "start_time": "2022-06-04T12:33:19.600Z"
   },
   {
    "duration": 5,
    "start_time": "2022-06-04T12:34:32.298Z"
   },
   {
    "duration": 428,
    "start_time": "2022-06-04T12:34:53.603Z"
   },
   {
    "duration": 159894,
    "start_time": "2022-06-04T12:36:57.660Z"
   },
   {
    "duration": 1214,
    "start_time": "2022-06-04T12:39:45.829Z"
   },
   {
    "duration": 6,
    "start_time": "2022-06-04T12:40:00.066Z"
   },
   {
    "duration": 10,
    "start_time": "2022-06-04T12:41:12.304Z"
   },
   {
    "duration": 127,
    "start_time": "2022-06-04T12:41:18.235Z"
   },
   {
    "duration": 307,
    "start_time": "2022-06-04T12:41:21.897Z"
   },
   {
    "duration": 264,
    "start_time": "2022-06-04T12:41:38.109Z"
   },
   {
    "duration": 335,
    "start_time": "2022-06-04T12:41:51.429Z"
   },
   {
    "duration": 382,
    "start_time": "2022-06-04T12:43:59.745Z"
   },
   {
    "duration": 287,
    "start_time": "2022-06-04T12:48:11.766Z"
   },
   {
    "duration": 293,
    "start_time": "2022-06-04T12:48:42.506Z"
   },
   {
    "duration": 309,
    "start_time": "2022-06-04T12:49:09.501Z"
   },
   {
    "duration": 348,
    "start_time": "2022-06-04T12:49:17.991Z"
   },
   {
    "duration": 432,
    "start_time": "2022-06-04T12:49:21.402Z"
   },
   {
    "duration": 301,
    "start_time": "2022-06-04T12:49:53.063Z"
   },
   {
    "duration": 310,
    "start_time": "2022-06-04T12:50:20.852Z"
   },
   {
    "duration": 356,
    "start_time": "2022-06-04T12:50:44.107Z"
   },
   {
    "duration": 302,
    "start_time": "2022-06-04T12:50:53.075Z"
   },
   {
    "duration": 287,
    "start_time": "2022-06-04T12:51:31.445Z"
   },
   {
    "duration": 1760,
    "start_time": "2022-06-04T16:03:09.062Z"
   },
   {
    "duration": 163,
    "start_time": "2022-06-04T16:03:10.824Z"
   },
   {
    "duration": 13,
    "start_time": "2022-06-04T16:03:10.989Z"
   },
   {
    "duration": 324,
    "start_time": "2022-06-04T16:03:11.003Z"
   },
   {
    "duration": 517,
    "start_time": "2022-06-04T16:03:11.329Z"
   },
   {
    "duration": 407,
    "start_time": "2022-06-04T16:03:11.847Z"
   },
   {
    "duration": 9,
    "start_time": "2022-06-04T16:03:12.256Z"
   },
   {
    "duration": 9,
    "start_time": "2022-06-04T16:03:12.266Z"
   },
   {
    "duration": 9,
    "start_time": "2022-06-04T16:03:12.277Z"
   },
   {
    "duration": 46,
    "start_time": "2022-06-04T16:03:12.287Z"
   },
   {
    "duration": 7,
    "start_time": "2022-06-04T16:03:12.334Z"
   },
   {
    "duration": 13,
    "start_time": "2022-06-04T16:03:12.342Z"
   },
   {
    "duration": 2,
    "start_time": "2022-06-04T16:03:12.357Z"
   },
   {
    "duration": 14840,
    "start_time": "2022-06-04T16:03:12.362Z"
   },
   {
    "duration": 27,
    "start_time": "2022-06-04T16:03:27.204Z"
   },
   {
    "duration": 4,
    "start_time": "2022-06-04T16:03:27.233Z"
   },
   {
    "duration": 1520,
    "start_time": "2022-06-04T16:03:27.239Z"
   },
   {
    "duration": 282,
    "start_time": "2022-06-04T16:03:28.761Z"
   },
   {
    "duration": 88,
    "start_time": "2022-06-04T16:03:29.045Z"
   },
   {
    "duration": 124982,
    "start_time": "2022-06-04T16:03:29.135Z"
   },
   {
    "duration": 1198,
    "start_time": "2022-06-04T16:05:34.118Z"
   },
   {
    "duration": 4,
    "start_time": "2022-06-04T16:05:35.317Z"
   },
   {
    "duration": 17,
    "start_time": "2022-06-04T16:05:35.323Z"
   },
   {
    "duration": 13,
    "start_time": "2022-06-04T16:05:35.342Z"
   },
   {
    "duration": 147,
    "start_time": "2022-06-04T16:05:35.356Z"
   },
   {
    "duration": 5,
    "start_time": "2022-06-04T16:05:35.504Z"
   },
   {
    "duration": 226,
    "start_time": "2022-06-04T16:05:35.511Z"
   },
   {
    "duration": 329,
    "start_time": "2022-06-04T16:05:35.739Z"
   },
   {
    "duration": 327,
    "start_time": "2022-06-04T16:05:36.069Z"
   },
   {
    "duration": 30,
    "start_time": "2022-06-04T16:05:36.399Z"
   },
   {
    "duration": 145,
    "start_time": "2022-06-04T16:11:23.594Z"
   },
   {
    "duration": 146,
    "start_time": "2022-06-04T16:11:39.762Z"
   },
   {
    "duration": 123,
    "start_time": "2022-06-04T16:14:50.813Z"
   },
   {
    "duration": 200,
    "start_time": "2022-06-04T16:15:04.008Z"
   },
   {
    "duration": 200,
    "start_time": "2022-06-04T16:15:11.100Z"
   }
  ],
  "kernelspec": {
   "display_name": "Python 3 (ipykernel)",
   "language": "python",
   "name": "python3"
  },
  "language_info": {
   "codemirror_mode": {
    "name": "ipython",
    "version": 3
   },
   "file_extension": ".py",
   "mimetype": "text/x-python",
   "name": "python",
   "nbconvert_exporter": "python",
   "pygments_lexer": "ipython3",
   "version": "3.9.12"
  },
  "toc": {
   "base_numbering": 1,
   "nav_menu": {},
   "number_sections": true,
   "sideBar": false,
   "skip_h1_title": true,
   "title_cell": "Содержание",
   "title_sidebar": "Contents",
   "toc_cell": true,
   "toc_position": {
    "height": "47.6979px",
    "left": "1033px",
    "top": "111.125px",
    "width": "159px"
   },
   "toc_section_display": false,
   "toc_window_display": true
  }
 },
 "nbformat": 4,
 "nbformat_minor": 2
}
