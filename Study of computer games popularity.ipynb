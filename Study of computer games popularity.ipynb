{
 "cells": [
  {
   "cell_type": "markdown",
   "metadata": {},
   "source": [
    "# Study of computer games popularity"
   ]
  },
  {
   "cell_type": "markdown",
   "metadata": {},
   "source": [
    "Project objective: identify factors influencing or confidently correlating with game’s commercial success to give the customer recommendations on marketing strategies for the next year.\n",
    "\n",
    "Customer: online store for computer games.\n",
    "For the study, data for 2016 was provided from open sources: data on game sales, user and expert ratings, genres and platforms."
   ]
  },
  {
   "cell_type": "markdown",
   "metadata": {},
   "source": [
    "## Data familarization"
   ]
  },
  {
   "cell_type": "code",
   "execution_count": 1,
   "metadata": {},
   "outputs": [],
   "source": [
    "import pandas as pd\n",
    "import numpy as np\n",
    "import matplotlib.pyplot as plt\n",
    "import seaborn as sns\n",
    "from scipy import stats as st"
   ]
  },
  {
   "cell_type": "code",
   "execution_count": 2,
   "metadata": {},
   "outputs": [
    {
     "name": "stdout",
     "output_type": "stream",
     "text": [
      "<class 'pandas.core.frame.DataFrame'>\n",
      "RangeIndex: 16715 entries, 0 to 16714\n",
      "Data columns (total 11 columns):\n",
      " #   Column           Non-Null Count  Dtype  \n",
      "---  ------           --------------  -----  \n",
      " 0   Name             16713 non-null  object \n",
      " 1   Platform         16715 non-null  object \n",
      " 2   Year_of_Release  16446 non-null  float64\n",
      " 3   Genre            16713 non-null  object \n",
      " 4   NA_sales         16715 non-null  float64\n",
      " 5   EU_sales         16715 non-null  float64\n",
      " 6   JP_sales         16715 non-null  float64\n",
      " 7   Other_sales      16715 non-null  float64\n",
      " 8   Critic_Score     8137 non-null   float64\n",
      " 9   User_Score       10014 non-null  object \n",
      " 10  Rating           9949 non-null   object \n",
      "dtypes: float64(6), object(5)\n",
      "memory usage: 1.4+ MB\n"
     ]
    },
    {
     "data": {
      "text/html": [
       "<div>\n",
       "<style scoped>\n",
       "    .dataframe tbody tr th:only-of-type {\n",
       "        vertical-align: middle;\n",
       "    }\n",
       "\n",
       "    .dataframe tbody tr th {\n",
       "        vertical-align: top;\n",
       "    }\n",
       "\n",
       "    .dataframe thead th {\n",
       "        text-align: right;\n",
       "    }\n",
       "</style>\n",
       "<table border=\"1\" class=\"dataframe\">\n",
       "  <thead>\n",
       "    <tr style=\"text-align: right;\">\n",
       "      <th></th>\n",
       "      <th>Name</th>\n",
       "      <th>Platform</th>\n",
       "      <th>Year_of_Release</th>\n",
       "      <th>Genre</th>\n",
       "      <th>NA_sales</th>\n",
       "      <th>EU_sales</th>\n",
       "      <th>JP_sales</th>\n",
       "      <th>Other_sales</th>\n",
       "      <th>Critic_Score</th>\n",
       "      <th>User_Score</th>\n",
       "      <th>Rating</th>\n",
       "    </tr>\n",
       "  </thead>\n",
       "  <tbody>\n",
       "    <tr>\n",
       "      <th>0</th>\n",
       "      <td>Wii Sports</td>\n",
       "      <td>Wii</td>\n",
       "      <td>2006.0</td>\n",
       "      <td>Sports</td>\n",
       "      <td>41.36</td>\n",
       "      <td>28.96</td>\n",
       "      <td>3.77</td>\n",
       "      <td>8.45</td>\n",
       "      <td>76.0</td>\n",
       "      <td>8</td>\n",
       "      <td>E</td>\n",
       "    </tr>\n",
       "    <tr>\n",
       "      <th>1</th>\n",
       "      <td>Super Mario Bros.</td>\n",
       "      <td>NES</td>\n",
       "      <td>1985.0</td>\n",
       "      <td>Platform</td>\n",
       "      <td>29.08</td>\n",
       "      <td>3.58</td>\n",
       "      <td>6.81</td>\n",
       "      <td>0.77</td>\n",
       "      <td>NaN</td>\n",
       "      <td>NaN</td>\n",
       "      <td>NaN</td>\n",
       "    </tr>\n",
       "    <tr>\n",
       "      <th>2</th>\n",
       "      <td>Mario Kart Wii</td>\n",
       "      <td>Wii</td>\n",
       "      <td>2008.0</td>\n",
       "      <td>Racing</td>\n",
       "      <td>15.68</td>\n",
       "      <td>12.76</td>\n",
       "      <td>3.79</td>\n",
       "      <td>3.29</td>\n",
       "      <td>82.0</td>\n",
       "      <td>8.3</td>\n",
       "      <td>E</td>\n",
       "    </tr>\n",
       "    <tr>\n",
       "      <th>3</th>\n",
       "      <td>Wii Sports Resort</td>\n",
       "      <td>Wii</td>\n",
       "      <td>2009.0</td>\n",
       "      <td>Sports</td>\n",
       "      <td>15.61</td>\n",
       "      <td>10.93</td>\n",
       "      <td>3.28</td>\n",
       "      <td>2.95</td>\n",
       "      <td>80.0</td>\n",
       "      <td>8</td>\n",
       "      <td>E</td>\n",
       "    </tr>\n",
       "    <tr>\n",
       "      <th>4</th>\n",
       "      <td>Pokemon Red/Pokemon Blue</td>\n",
       "      <td>GB</td>\n",
       "      <td>1996.0</td>\n",
       "      <td>Role-Playing</td>\n",
       "      <td>11.27</td>\n",
       "      <td>8.89</td>\n",
       "      <td>10.22</td>\n",
       "      <td>1.00</td>\n",
       "      <td>NaN</td>\n",
       "      <td>NaN</td>\n",
       "      <td>NaN</td>\n",
       "    </tr>\n",
       "    <tr>\n",
       "      <th>5</th>\n",
       "      <td>Tetris</td>\n",
       "      <td>GB</td>\n",
       "      <td>1989.0</td>\n",
       "      <td>Puzzle</td>\n",
       "      <td>23.20</td>\n",
       "      <td>2.26</td>\n",
       "      <td>4.22</td>\n",
       "      <td>0.58</td>\n",
       "      <td>NaN</td>\n",
       "      <td>NaN</td>\n",
       "      <td>NaN</td>\n",
       "    </tr>\n",
       "    <tr>\n",
       "      <th>6</th>\n",
       "      <td>New Super Mario Bros.</td>\n",
       "      <td>DS</td>\n",
       "      <td>2006.0</td>\n",
       "      <td>Platform</td>\n",
       "      <td>11.28</td>\n",
       "      <td>9.14</td>\n",
       "      <td>6.50</td>\n",
       "      <td>2.88</td>\n",
       "      <td>89.0</td>\n",
       "      <td>8.5</td>\n",
       "      <td>E</td>\n",
       "    </tr>\n",
       "    <tr>\n",
       "      <th>7</th>\n",
       "      <td>Wii Play</td>\n",
       "      <td>Wii</td>\n",
       "      <td>2006.0</td>\n",
       "      <td>Misc</td>\n",
       "      <td>13.96</td>\n",
       "      <td>9.18</td>\n",
       "      <td>2.93</td>\n",
       "      <td>2.84</td>\n",
       "      <td>58.0</td>\n",
       "      <td>6.6</td>\n",
       "      <td>E</td>\n",
       "    </tr>\n",
       "    <tr>\n",
       "      <th>8</th>\n",
       "      <td>New Super Mario Bros. Wii</td>\n",
       "      <td>Wii</td>\n",
       "      <td>2009.0</td>\n",
       "      <td>Platform</td>\n",
       "      <td>14.44</td>\n",
       "      <td>6.94</td>\n",
       "      <td>4.70</td>\n",
       "      <td>2.24</td>\n",
       "      <td>87.0</td>\n",
       "      <td>8.4</td>\n",
       "      <td>E</td>\n",
       "    </tr>\n",
       "    <tr>\n",
       "      <th>9</th>\n",
       "      <td>Duck Hunt</td>\n",
       "      <td>NES</td>\n",
       "      <td>1984.0</td>\n",
       "      <td>Shooter</td>\n",
       "      <td>26.93</td>\n",
       "      <td>0.63</td>\n",
       "      <td>0.28</td>\n",
       "      <td>0.47</td>\n",
       "      <td>NaN</td>\n",
       "      <td>NaN</td>\n",
       "      <td>NaN</td>\n",
       "    </tr>\n",
       "  </tbody>\n",
       "</table>\n",
       "</div>"
      ],
      "text/plain": [
       "                        Name Platform  Year_of_Release         Genre  \\\n",
       "0                 Wii Sports      Wii           2006.0        Sports   \n",
       "1          Super Mario Bros.      NES           1985.0      Platform   \n",
       "2             Mario Kart Wii      Wii           2008.0        Racing   \n",
       "3          Wii Sports Resort      Wii           2009.0        Sports   \n",
       "4   Pokemon Red/Pokemon Blue       GB           1996.0  Role-Playing   \n",
       "5                     Tetris       GB           1989.0        Puzzle   \n",
       "6      New Super Mario Bros.       DS           2006.0      Platform   \n",
       "7                   Wii Play      Wii           2006.0          Misc   \n",
       "8  New Super Mario Bros. Wii      Wii           2009.0      Platform   \n",
       "9                  Duck Hunt      NES           1984.0       Shooter   \n",
       "\n",
       "   NA_sales  EU_sales  JP_sales  Other_sales  Critic_Score User_Score Rating  \n",
       "0     41.36     28.96      3.77         8.45          76.0          8      E  \n",
       "1     29.08      3.58      6.81         0.77           NaN        NaN    NaN  \n",
       "2     15.68     12.76      3.79         3.29          82.0        8.3      E  \n",
       "3     15.61     10.93      3.28         2.95          80.0          8      E  \n",
       "4     11.27      8.89     10.22         1.00           NaN        NaN    NaN  \n",
       "5     23.20      2.26      4.22         0.58           NaN        NaN    NaN  \n",
       "6     11.28      9.14      6.50         2.88          89.0        8.5      E  \n",
       "7     13.96      9.18      2.93         2.84          58.0        6.6      E  \n",
       "8     14.44      6.94      4.70         2.24          87.0        8.4      E  \n",
       "9     26.93      0.63      0.28         0.47           NaN        NaN    NaN  "
      ]
     },
     "metadata": {},
     "output_type": "display_data"
    },
    {
     "data": {
      "text/html": [
       "<div>\n",
       "<style scoped>\n",
       "    .dataframe tbody tr th:only-of-type {\n",
       "        vertical-align: middle;\n",
       "    }\n",
       "\n",
       "    .dataframe tbody tr th {\n",
       "        vertical-align: top;\n",
       "    }\n",
       "\n",
       "    .dataframe thead th {\n",
       "        text-align: right;\n",
       "    }\n",
       "</style>\n",
       "<table border=\"1\" class=\"dataframe\">\n",
       "  <thead>\n",
       "    <tr style=\"text-align: right;\">\n",
       "      <th></th>\n",
       "      <th>count</th>\n",
       "      <th>mean</th>\n",
       "      <th>std</th>\n",
       "      <th>min</th>\n",
       "      <th>25%</th>\n",
       "      <th>50%</th>\n",
       "      <th>75%</th>\n",
       "      <th>max</th>\n",
       "    </tr>\n",
       "  </thead>\n",
       "  <tbody>\n",
       "    <tr>\n",
       "      <th>Year_of_Release</th>\n",
       "      <td>16446.0</td>\n",
       "      <td>2006.484616</td>\n",
       "      <td>5.877050</td>\n",
       "      <td>1980.0</td>\n",
       "      <td>2003.0</td>\n",
       "      <td>2007.00</td>\n",
       "      <td>2010.00</td>\n",
       "      <td>2016.00</td>\n",
       "    </tr>\n",
       "    <tr>\n",
       "      <th>NA_sales</th>\n",
       "      <td>16715.0</td>\n",
       "      <td>0.263377</td>\n",
       "      <td>0.813604</td>\n",
       "      <td>0.0</td>\n",
       "      <td>0.0</td>\n",
       "      <td>0.08</td>\n",
       "      <td>0.24</td>\n",
       "      <td>41.36</td>\n",
       "    </tr>\n",
       "    <tr>\n",
       "      <th>EU_sales</th>\n",
       "      <td>16715.0</td>\n",
       "      <td>0.145060</td>\n",
       "      <td>0.503339</td>\n",
       "      <td>0.0</td>\n",
       "      <td>0.0</td>\n",
       "      <td>0.02</td>\n",
       "      <td>0.11</td>\n",
       "      <td>28.96</td>\n",
       "    </tr>\n",
       "    <tr>\n",
       "      <th>JP_sales</th>\n",
       "      <td>16715.0</td>\n",
       "      <td>0.077617</td>\n",
       "      <td>0.308853</td>\n",
       "      <td>0.0</td>\n",
       "      <td>0.0</td>\n",
       "      <td>0.00</td>\n",
       "      <td>0.04</td>\n",
       "      <td>10.22</td>\n",
       "    </tr>\n",
       "    <tr>\n",
       "      <th>Other_sales</th>\n",
       "      <td>16715.0</td>\n",
       "      <td>0.047342</td>\n",
       "      <td>0.186731</td>\n",
       "      <td>0.0</td>\n",
       "      <td>0.0</td>\n",
       "      <td>0.01</td>\n",
       "      <td>0.03</td>\n",
       "      <td>10.57</td>\n",
       "    </tr>\n",
       "    <tr>\n",
       "      <th>Critic_Score</th>\n",
       "      <td>8137.0</td>\n",
       "      <td>68.967679</td>\n",
       "      <td>13.938165</td>\n",
       "      <td>13.0</td>\n",
       "      <td>60.0</td>\n",
       "      <td>71.00</td>\n",
       "      <td>79.00</td>\n",
       "      <td>98.00</td>\n",
       "    </tr>\n",
       "  </tbody>\n",
       "</table>\n",
       "</div>"
      ],
      "text/plain": [
       "                   count         mean        std     min     25%      50%  \\\n",
       "Year_of_Release  16446.0  2006.484616   5.877050  1980.0  2003.0  2007.00   \n",
       "NA_sales         16715.0     0.263377   0.813604     0.0     0.0     0.08   \n",
       "EU_sales         16715.0     0.145060   0.503339     0.0     0.0     0.02   \n",
       "JP_sales         16715.0     0.077617   0.308853     0.0     0.0     0.00   \n",
       "Other_sales      16715.0     0.047342   0.186731     0.0     0.0     0.01   \n",
       "Critic_Score      8137.0    68.967679  13.938165    13.0    60.0    71.00   \n",
       "\n",
       "                     75%      max  \n",
       "Year_of_Release  2010.00  2016.00  \n",
       "NA_sales            0.24    41.36  \n",
       "EU_sales            0.11    28.96  \n",
       "JP_sales            0.04    10.22  \n",
       "Other_sales         0.03    10.57  \n",
       "Critic_Score       79.00    98.00  "
      ]
     },
     "execution_count": 2,
     "metadata": {},
     "output_type": "execute_result"
    }
   ],
   "source": [
    "df = pd.read_csv('C:\\\\Users\\\\Яна\\\\Documents\\\\Прогр\\\\dfs\\\\games.csv')\n",
    "df.info()\n",
    "display(df.head(10))\n",
    "df.describe().T"
   ]
  },
  {
   "cell_type": "markdown",
   "metadata": {},
   "source": [
    "There are no gaps in the name of the platform and data on the number of sales.\n",
    "\n",
    "Two gaps in the columns Name and Genre of the game, at least strange. I think these are the same lines, later I'll look at them closer.\n",
    "\n",
    "Columns with the year of release of the game, the rating of critics and the rating of players need to be converted to a number format.\n",
    "\n",
    "It is also necessary to rename the columns as indicated in the data description."
   ]
  },
  {
   "cell_type": "markdown",
   "metadata": {},
   "source": [
    "## Data preprocessing"
   ]
  },
  {
   "cell_type": "markdown",
   "metadata": {},
   "source": [
    "### Rename columns"
   ]
  },
  {
   "cell_type": "code",
   "execution_count": 3,
   "metadata": {
    "scrolled": false
   },
   "outputs": [
    {
     "name": "stdout",
     "output_type": "stream",
     "text": [
      "<class 'pandas.core.frame.DataFrame'>\n",
      "RangeIndex: 16715 entries, 0 to 16714\n",
      "Data columns (total 11 columns):\n",
      " #   Column           Non-Null Count  Dtype  \n",
      "---  ------           --------------  -----  \n",
      " 0   name             16713 non-null  object \n",
      " 1   platform         16715 non-null  object \n",
      " 2   year_of_release  16446 non-null  float64\n",
      " 3   genre            16713 non-null  object \n",
      " 4   na_sales         16715 non-null  float64\n",
      " 5   eu_sales         16715 non-null  float64\n",
      " 6   jp_sales         16715 non-null  float64\n",
      " 7   other_sales      16715 non-null  float64\n",
      " 8   critic_score     8137 non-null   float64\n",
      " 9   user_score       10014 non-null  object \n",
      " 10  rating           9949 non-null   object \n",
      "dtypes: float64(6), object(5)\n",
      "memory usage: 1.4+ MB\n"
     ]
    }
   ],
   "source": [
    "df = df.rename(columns={'Name': 'name', 'Platform': 'platform', 'Year_of_Release': 'year_of_release', \n",
    "                        'Genre': 'genre', 'NA_sales': 'na_sales', 'EU_sales': 'eu_sales', 'JP_sales': 'jp_sales', \n",
    "                        'Other_sales': 'other_sales', 'Critic_Score': 'critic_score', \n",
    "                        'User_Score': 'user_score', 'Rating': 'rating' })\n",
    "\n",
    "df.info()"
   ]
  },
  {
   "cell_type": "markdown",
   "metadata": {},
   "source": [
    "### Processing missings"
   ]
  },
  {
   "cell_type": "code",
   "execution_count": 4,
   "metadata": {
    "scrolled": true
   },
   "outputs": [
    {
     "data": {
      "text/html": [
       "<div>\n",
       "<style scoped>\n",
       "    .dataframe tbody tr th:only-of-type {\n",
       "        vertical-align: middle;\n",
       "    }\n",
       "\n",
       "    .dataframe tbody tr th {\n",
       "        vertical-align: top;\n",
       "    }\n",
       "\n",
       "    .dataframe thead th {\n",
       "        text-align: right;\n",
       "    }\n",
       "</style>\n",
       "<table border=\"1\" class=\"dataframe\">\n",
       "  <thead>\n",
       "    <tr style=\"text-align: right;\">\n",
       "      <th></th>\n",
       "      <th>name</th>\n",
       "      <th>platform</th>\n",
       "      <th>year_of_release</th>\n",
       "      <th>genre</th>\n",
       "      <th>na_sales</th>\n",
       "      <th>eu_sales</th>\n",
       "      <th>jp_sales</th>\n",
       "      <th>other_sales</th>\n",
       "      <th>critic_score</th>\n",
       "      <th>user_score</th>\n",
       "      <th>rating</th>\n",
       "    </tr>\n",
       "  </thead>\n",
       "  <tbody>\n",
       "    <tr>\n",
       "      <th>659</th>\n",
       "      <td>NaN</td>\n",
       "      <td>GEN</td>\n",
       "      <td>1993.0</td>\n",
       "      <td>NaN</td>\n",
       "      <td>1.78</td>\n",
       "      <td>0.53</td>\n",
       "      <td>0.00</td>\n",
       "      <td>0.08</td>\n",
       "      <td>NaN</td>\n",
       "      <td>NaN</td>\n",
       "      <td>NaN</td>\n",
       "    </tr>\n",
       "    <tr>\n",
       "      <th>14244</th>\n",
       "      <td>NaN</td>\n",
       "      <td>GEN</td>\n",
       "      <td>1993.0</td>\n",
       "      <td>NaN</td>\n",
       "      <td>0.00</td>\n",
       "      <td>0.00</td>\n",
       "      <td>0.03</td>\n",
       "      <td>0.00</td>\n",
       "      <td>NaN</td>\n",
       "      <td>NaN</td>\n",
       "      <td>NaN</td>\n",
       "    </tr>\n",
       "  </tbody>\n",
       "</table>\n",
       "</div>"
      ],
      "text/plain": [
       "      name platform  year_of_release genre  na_sales  eu_sales  jp_sales  \\\n",
       "659    NaN      GEN           1993.0   NaN      1.78      0.53      0.00   \n",
       "14244  NaN      GEN           1993.0   NaN      0.00      0.00      0.03   \n",
       "\n",
       "       other_sales  critic_score user_score rating  \n",
       "659           0.08           NaN        NaN    NaN  \n",
       "14244         0.00           NaN        NaN    NaN  "
      ]
     },
     "metadata": {},
     "output_type": "display_data"
    }
   ],
   "source": [
    "display(df[df['name'].isna()])\n",
    "\n",
    "df['name'] = df['name'].fillna('Unknown')\n",
    "df['genre'] = df['genre'].fillna('Unknown')"
   ]
  },
  {
   "cell_type": "markdown",
   "metadata": {},
   "source": [
    "Now I'll look at those two unnamed games of an unknown genre.\n",
    "Something old and not very popular, judging by the volume of sales. Nevertheless, there is at least some data, so let it remain in the table. Missed titles and genres I'll replace with Unknown, so as not to interfere with further processing."
   ]
  },
  {
   "cell_type": "code",
   "execution_count": 5,
   "metadata": {
    "scrolled": true
   },
   "outputs": [
    {
     "name": "stdout",
     "output_type": "stream",
     "text": [
      "<class 'pandas.core.frame.DataFrame'>\n",
      "RangeIndex: 16446 entries, 0 to 16445\n",
      "Data columns (total 11 columns):\n",
      " #   Column           Non-Null Count  Dtype  \n",
      "---  ------           --------------  -----  \n",
      " 0   name             16446 non-null  object \n",
      " 1   platform         16446 non-null  object \n",
      " 2   year_of_release  16446 non-null  float64\n",
      " 3   genre            16446 non-null  object \n",
      " 4   na_sales         16446 non-null  float64\n",
      " 5   eu_sales         16446 non-null  float64\n",
      " 6   jp_sales         16446 non-null  float64\n",
      " 7   other_sales      16446 non-null  float64\n",
      " 8   critic_score     7983 non-null   float64\n",
      " 9   user_score       9839 non-null   object \n",
      " 10  rating           9768 non-null   object \n",
      "dtypes: float64(6), object(5)\n",
      "memory usage: 1.4+ MB\n"
     ]
    }
   ],
   "source": [
    "df = df.dropna(subset = ['year_of_release']).reset_index(drop = True)\n",
    "df.info()"
   ]
  },
  {
   "cell_type": "markdown",
   "metadata": {},
   "source": [
    "A little more than one and a half percent of games lack data on the release year, this is not critical, and one of the key parameters for research. There is nowhere to get this information from (unless you google it manually). So I'm just deleting those lines.\n",
    "\n",
    "As for expert and user ratings, try to fill them with any type of average, based on the genre and year of release ... It'll be like roll the dice. The same with the age rating, we can’t guess it, and not all games are assigned it. We can't also delete them, because it is more than half of the table. So I leave gaps in these columns."
   ]
  },
  {
   "cell_type": "code",
   "execution_count": 6,
   "metadata": {},
   "outputs": [
    {
     "data": {
      "text/html": [
       "<div>\n",
       "<style scoped>\n",
       "    .dataframe tbody tr th:only-of-type {\n",
       "        vertical-align: middle;\n",
       "    }\n",
       "\n",
       "    .dataframe tbody tr th {\n",
       "        vertical-align: top;\n",
       "    }\n",
       "\n",
       "    .dataframe thead th {\n",
       "        text-align: right;\n",
       "    }\n",
       "</style>\n",
       "<table border=\"1\" class=\"dataframe\">\n",
       "  <thead>\n",
       "    <tr style=\"text-align: right;\">\n",
       "      <th></th>\n",
       "      <th>name</th>\n",
       "      <th>platform</th>\n",
       "      <th>year_of_release</th>\n",
       "      <th>genre</th>\n",
       "      <th>na_sales</th>\n",
       "      <th>eu_sales</th>\n",
       "      <th>jp_sales</th>\n",
       "      <th>other_sales</th>\n",
       "      <th>critic_score</th>\n",
       "      <th>user_score</th>\n",
       "      <th>rating</th>\n",
       "    </tr>\n",
       "  </thead>\n",
       "  <tbody>\n",
       "  </tbody>\n",
       "</table>\n",
       "</div>"
      ],
      "text/plain": [
       "Empty DataFrame\n",
       "Columns: [name, platform, year_of_release, genre, na_sales, eu_sales, jp_sales, other_sales, critic_score, user_score, rating]\n",
       "Index: []"
      ]
     },
     "metadata": {},
     "output_type": "display_data"
    }
   ],
   "source": [
    "df.loc[df['user_score'] == 'tbd', 'user_score'] = np.nan\n",
    "display(df[df['user_score'] == 'tbd'])"
   ]
  },
  {
   "cell_type": "markdown",
   "metadata": {},
   "source": [
    "There are some 'tbd's in the table. This is a designation for games for which sufficient data has not yet been collected. That is, the rating will be, but later. Since then I need to bring the column to a numeric form, and these are string values, I will replace them with NaNs. From the point of view of the objectives of the study, we do not care for what reason there is no rating."
   ]
  },
  {
   "cell_type": "markdown",
   "metadata": {},
   "source": [
    "### Processing duplicates"
   ]
  },
  {
   "cell_type": "code",
   "execution_count": 7,
   "metadata": {},
   "outputs": [
    {
     "name": "stdout",
     "output_type": "stream",
     "text": [
      "(16446, 11)\n",
      "(16446, 11)\n",
      "11427\n",
      "11427\n"
     ]
    }
   ],
   "source": [
    "print(df.shape)\n",
    "df = df.drop_duplicates()\n",
    "print(df.shape)\n",
    "\n",
    "print(len(list(df['name'].unique())))\n",
    "\n",
    "names = df['name'].tolist()\n",
    "names = [x.lower() for x in names]\n",
    "    \n",
    "print(len(np.unique(names)))"
   ]
  },
  {
   "cell_type": "markdown",
   "metadata": {},
   "source": [
    "To check a list of game titles for implicit duplicates, I create a lowercase list of titles, and compare the number of unique values in that list with the number of unique values in the Name column. The number matches, so there are no implicit duplicates due to case in the table. I will leave typos on the conscience of the compilers of the dataset."
   ]
  },
  {
   "cell_type": "markdown",
   "metadata": {},
   "source": [
    "But here something interesting came out. The length of the dataset did not change after removing obvious duplicates (16446), but there are only 11427 values in the list of unique game titles. Are there about 5 thousand rows in the dataset with different data on the same games? Let's see what kind of games these are, and what to do with the lines."
   ]
  },
  {
   "cell_type": "code",
   "execution_count": 8,
   "metadata": {},
   "outputs": [
    {
     "data": {
      "text/plain": [
       "Need for Speed: Most Wanted                12\n",
       "Ratatouille                                 9\n",
       "FIFA 14                                     9\n",
       "LEGO Marvel Super Heroes                    9\n",
       "FIFA 15                                     8\n",
       "LEGO Jurassic World                         8\n",
       "Madden NFL 07                               8\n",
       "LEGO Star Wars II: The Original Trilogy     8\n",
       "FIFA Soccer 13                              8\n",
       "Angry Birds Star Wars                       8\n",
       "Name: name, dtype: int64"
      ]
     },
     "execution_count": 8,
     "metadata": {},
     "output_type": "execute_result"
    }
   ],
   "source": [
    "df['name'].value_counts().head(10)"
   ]
  },
  {
   "cell_type": "markdown",
   "metadata": {},
   "source": [
    "I see that there are quite a lot of lines with duplicated game names. I'll pick one game and see what the duplicates look like."
   ]
  },
  {
   "cell_type": "code",
   "execution_count": 9,
   "metadata": {},
   "outputs": [
    {
     "data": {
      "text/html": [
       "<div>\n",
       "<style scoped>\n",
       "    .dataframe tbody tr th:only-of-type {\n",
       "        vertical-align: middle;\n",
       "    }\n",
       "\n",
       "    .dataframe tbody tr th {\n",
       "        vertical-align: top;\n",
       "    }\n",
       "\n",
       "    .dataframe thead th {\n",
       "        text-align: right;\n",
       "    }\n",
       "</style>\n",
       "<table border=\"1\" class=\"dataframe\">\n",
       "  <thead>\n",
       "    <tr style=\"text-align: right;\">\n",
       "      <th></th>\n",
       "      <th>name</th>\n",
       "      <th>platform</th>\n",
       "      <th>year_of_release</th>\n",
       "      <th>genre</th>\n",
       "      <th>na_sales</th>\n",
       "      <th>eu_sales</th>\n",
       "      <th>jp_sales</th>\n",
       "      <th>other_sales</th>\n",
       "      <th>critic_score</th>\n",
       "      <th>user_score</th>\n",
       "      <th>rating</th>\n",
       "    </tr>\n",
       "  </thead>\n",
       "  <tbody>\n",
       "    <tr>\n",
       "      <th>252</th>\n",
       "      <td>Need for Speed: Most Wanted</td>\n",
       "      <td>PS2</td>\n",
       "      <td>2005.0</td>\n",
       "      <td>Racing</td>\n",
       "      <td>2.03</td>\n",
       "      <td>1.79</td>\n",
       "      <td>0.08</td>\n",
       "      <td>0.47</td>\n",
       "      <td>82.0</td>\n",
       "      <td>9.1</td>\n",
       "      <td>T</td>\n",
       "    </tr>\n",
       "    <tr>\n",
       "      <th>519</th>\n",
       "      <td>Need for Speed: Most Wanted</td>\n",
       "      <td>PS3</td>\n",
       "      <td>2012.0</td>\n",
       "      <td>Racing</td>\n",
       "      <td>0.71</td>\n",
       "      <td>1.46</td>\n",
       "      <td>0.06</td>\n",
       "      <td>0.58</td>\n",
       "      <td>NaN</td>\n",
       "      <td>NaN</td>\n",
       "      <td>NaN</td>\n",
       "    </tr>\n",
       "    <tr>\n",
       "      <th>1178</th>\n",
       "      <td>Need for Speed: Most Wanted</td>\n",
       "      <td>X360</td>\n",
       "      <td>2012.0</td>\n",
       "      <td>Racing</td>\n",
       "      <td>0.62</td>\n",
       "      <td>0.78</td>\n",
       "      <td>0.01</td>\n",
       "      <td>0.15</td>\n",
       "      <td>83.0</td>\n",
       "      <td>8.5</td>\n",
       "      <td>T</td>\n",
       "    </tr>\n",
       "    <tr>\n",
       "      <th>1575</th>\n",
       "      <td>Need for Speed: Most Wanted</td>\n",
       "      <td>X360</td>\n",
       "      <td>2005.0</td>\n",
       "      <td>Racing</td>\n",
       "      <td>1.00</td>\n",
       "      <td>0.13</td>\n",
       "      <td>0.02</td>\n",
       "      <td>0.10</td>\n",
       "      <td>83.0</td>\n",
       "      <td>8.5</td>\n",
       "      <td>T</td>\n",
       "    </tr>\n",
       "    <tr>\n",
       "      <th>1977</th>\n",
       "      <td>Need for Speed: Most Wanted</td>\n",
       "      <td>XB</td>\n",
       "      <td>2005.0</td>\n",
       "      <td>Racing</td>\n",
       "      <td>0.53</td>\n",
       "      <td>0.46</td>\n",
       "      <td>0.00</td>\n",
       "      <td>0.05</td>\n",
       "      <td>83.0</td>\n",
       "      <td>8.8</td>\n",
       "      <td>T</td>\n",
       "    </tr>\n",
       "    <tr>\n",
       "      <th>2026</th>\n",
       "      <td>Need for Speed: Most Wanted</td>\n",
       "      <td>PSV</td>\n",
       "      <td>2012.0</td>\n",
       "      <td>Racing</td>\n",
       "      <td>0.33</td>\n",
       "      <td>0.45</td>\n",
       "      <td>0.01</td>\n",
       "      <td>0.22</td>\n",
       "      <td>NaN</td>\n",
       "      <td>NaN</td>\n",
       "      <td>NaN</td>\n",
       "    </tr>\n",
       "    <tr>\n",
       "      <th>3532</th>\n",
       "      <td>Need for Speed: Most Wanted</td>\n",
       "      <td>GC</td>\n",
       "      <td>2005.0</td>\n",
       "      <td>Racing</td>\n",
       "      <td>0.43</td>\n",
       "      <td>0.11</td>\n",
       "      <td>0.00</td>\n",
       "      <td>0.02</td>\n",
       "      <td>80.0</td>\n",
       "      <td>9.1</td>\n",
       "      <td>T</td>\n",
       "    </tr>\n",
       "    <tr>\n",
       "      <th>5884</th>\n",
       "      <td>Need for Speed: Most Wanted</td>\n",
       "      <td>PC</td>\n",
       "      <td>2005.0</td>\n",
       "      <td>Racing</td>\n",
       "      <td>0.02</td>\n",
       "      <td>0.23</td>\n",
       "      <td>0.00</td>\n",
       "      <td>0.04</td>\n",
       "      <td>82.0</td>\n",
       "      <td>8.5</td>\n",
       "      <td>T</td>\n",
       "    </tr>\n",
       "    <tr>\n",
       "      <th>6178</th>\n",
       "      <td>Need for Speed: Most Wanted</td>\n",
       "      <td>WiiU</td>\n",
       "      <td>2013.0</td>\n",
       "      <td>Racing</td>\n",
       "      <td>0.13</td>\n",
       "      <td>0.12</td>\n",
       "      <td>0.00</td>\n",
       "      <td>0.02</td>\n",
       "      <td>NaN</td>\n",
       "      <td>NaN</td>\n",
       "      <td>NaN</td>\n",
       "    </tr>\n",
       "    <tr>\n",
       "      <th>6311</th>\n",
       "      <td>Need for Speed: Most Wanted</td>\n",
       "      <td>DS</td>\n",
       "      <td>2005.0</td>\n",
       "      <td>Racing</td>\n",
       "      <td>0.24</td>\n",
       "      <td>0.01</td>\n",
       "      <td>0.00</td>\n",
       "      <td>0.02</td>\n",
       "      <td>45.0</td>\n",
       "      <td>6.1</td>\n",
       "      <td>E</td>\n",
       "    </tr>\n",
       "    <tr>\n",
       "      <th>6374</th>\n",
       "      <td>Need for Speed: Most Wanted</td>\n",
       "      <td>GBA</td>\n",
       "      <td>2005.0</td>\n",
       "      <td>Racing</td>\n",
       "      <td>0.19</td>\n",
       "      <td>0.07</td>\n",
       "      <td>0.00</td>\n",
       "      <td>0.00</td>\n",
       "      <td>NaN</td>\n",
       "      <td>8.3</td>\n",
       "      <td>E</td>\n",
       "    </tr>\n",
       "    <tr>\n",
       "      <th>11535</th>\n",
       "      <td>Need for Speed: Most Wanted</td>\n",
       "      <td>PC</td>\n",
       "      <td>2012.0</td>\n",
       "      <td>Racing</td>\n",
       "      <td>0.00</td>\n",
       "      <td>0.06</td>\n",
       "      <td>0.00</td>\n",
       "      <td>0.02</td>\n",
       "      <td>82.0</td>\n",
       "      <td>8.5</td>\n",
       "      <td>T</td>\n",
       "    </tr>\n",
       "  </tbody>\n",
       "</table>\n",
       "</div>"
      ],
      "text/plain": [
       "                              name platform  year_of_release   genre  \\\n",
       "252    Need for Speed: Most Wanted      PS2           2005.0  Racing   \n",
       "519    Need for Speed: Most Wanted      PS3           2012.0  Racing   \n",
       "1178   Need for Speed: Most Wanted     X360           2012.0  Racing   \n",
       "1575   Need for Speed: Most Wanted     X360           2005.0  Racing   \n",
       "1977   Need for Speed: Most Wanted       XB           2005.0  Racing   \n",
       "2026   Need for Speed: Most Wanted      PSV           2012.0  Racing   \n",
       "3532   Need for Speed: Most Wanted       GC           2005.0  Racing   \n",
       "5884   Need for Speed: Most Wanted       PC           2005.0  Racing   \n",
       "6178   Need for Speed: Most Wanted     WiiU           2013.0  Racing   \n",
       "6311   Need for Speed: Most Wanted       DS           2005.0  Racing   \n",
       "6374   Need for Speed: Most Wanted      GBA           2005.0  Racing   \n",
       "11535  Need for Speed: Most Wanted       PC           2012.0  Racing   \n",
       "\n",
       "       na_sales  eu_sales  jp_sales  other_sales  critic_score user_score  \\\n",
       "252        2.03      1.79      0.08         0.47          82.0        9.1   \n",
       "519        0.71      1.46      0.06         0.58           NaN        NaN   \n",
       "1178       0.62      0.78      0.01         0.15          83.0        8.5   \n",
       "1575       1.00      0.13      0.02         0.10          83.0        8.5   \n",
       "1977       0.53      0.46      0.00         0.05          83.0        8.8   \n",
       "2026       0.33      0.45      0.01         0.22           NaN        NaN   \n",
       "3532       0.43      0.11      0.00         0.02          80.0        9.1   \n",
       "5884       0.02      0.23      0.00         0.04          82.0        8.5   \n",
       "6178       0.13      0.12      0.00         0.02           NaN        NaN   \n",
       "6311       0.24      0.01      0.00         0.02          45.0        6.1   \n",
       "6374       0.19      0.07      0.00         0.00           NaN        8.3   \n",
       "11535      0.00      0.06      0.00         0.02          82.0        8.5   \n",
       "\n",
       "      rating  \n",
       "252        T  \n",
       "519      NaN  \n",
       "1178       T  \n",
       "1575       T  \n",
       "1977       T  \n",
       "2026     NaN  \n",
       "3532       T  \n",
       "5884       T  \n",
       "6178     NaN  \n",
       "6311       E  \n",
       "6374       E  \n",
       "11535      T  "
      ]
     },
     "metadata": {},
     "output_type": "display_data"
    }
   ],
   "source": [
    "display(df[df['name'] == 'Need for Speed: Most Wanted'])"
   ]
  },
  {
   "cell_type": "markdown",
   "metadata": {},
   "source": [
    "I'm not a gamer, but judging by this table, the same game can be released on different platforms, in different years, with different success and age rating. Well, then these doubles remain in the table."
   ]
  },
  {
   "cell_type": "markdown",
   "metadata": {},
   "source": [
    "### Columns data types"
   ]
  },
  {
   "cell_type": "code",
   "execution_count": 10,
   "metadata": {},
   "outputs": [
    {
     "name": "stdout",
     "output_type": "stream",
     "text": [
      "<class 'pandas.core.frame.DataFrame'>\n",
      "Int64Index: 16446 entries, 0 to 16445\n",
      "Data columns (total 11 columns):\n",
      " #   Column           Non-Null Count  Dtype  \n",
      "---  ------           --------------  -----  \n",
      " 0   name             16446 non-null  object \n",
      " 1   platform         16446 non-null  object \n",
      " 2   year_of_release  16446 non-null  int32  \n",
      " 3   genre            16446 non-null  object \n",
      " 4   na_sales         16446 non-null  float64\n",
      " 5   eu_sales         16446 non-null  float64\n",
      " 6   jp_sales         16446 non-null  float64\n",
      " 7   other_sales      16446 non-null  float64\n",
      " 8   critic_score     7983 non-null   Int64  \n",
      " 9   user_score       7463 non-null   float64\n",
      " 10  rating           9768 non-null   object \n",
      "dtypes: Int64(1), float64(5), int32(1), object(4)\n",
      "memory usage: 1.5+ MB\n"
     ]
    }
   ],
   "source": [
    "df['year_of_release'] = df['year_of_release'].astype(int)\n",
    "df['critic_score'] = df['critic_score'].astype({\"critic_score\": \"Int64\"})\n",
    "df[\"user_score\"] = pd.to_numeric(df[\"user_score\"])\n",
    "\n",
    "df.info()"
   ]
  },
  {
   "cell_type": "markdown",
   "metadata": {},
   "source": [
    "### Adding total sales"
   ]
  },
  {
   "cell_type": "code",
   "execution_count": 11,
   "metadata": {},
   "outputs": [
    {
     "data": {
      "text/html": [
       "<div>\n",
       "<style scoped>\n",
       "    .dataframe tbody tr th:only-of-type {\n",
       "        vertical-align: middle;\n",
       "    }\n",
       "\n",
       "    .dataframe tbody tr th {\n",
       "        vertical-align: top;\n",
       "    }\n",
       "\n",
       "    .dataframe thead th {\n",
       "        text-align: right;\n",
       "    }\n",
       "</style>\n",
       "<table border=\"1\" class=\"dataframe\">\n",
       "  <thead>\n",
       "    <tr style=\"text-align: right;\">\n",
       "      <th></th>\n",
       "      <th>name</th>\n",
       "      <th>platform</th>\n",
       "      <th>year_of_release</th>\n",
       "      <th>genre</th>\n",
       "      <th>na_sales</th>\n",
       "      <th>eu_sales</th>\n",
       "      <th>jp_sales</th>\n",
       "      <th>other_sales</th>\n",
       "      <th>critic_score</th>\n",
       "      <th>user_score</th>\n",
       "      <th>rating</th>\n",
       "      <th>tot_sales</th>\n",
       "    </tr>\n",
       "  </thead>\n",
       "  <tbody>\n",
       "    <tr>\n",
       "      <th>0</th>\n",
       "      <td>Wii Sports</td>\n",
       "      <td>Wii</td>\n",
       "      <td>2006</td>\n",
       "      <td>Sports</td>\n",
       "      <td>41.36</td>\n",
       "      <td>28.96</td>\n",
       "      <td>3.77</td>\n",
       "      <td>8.45</td>\n",
       "      <td>76</td>\n",
       "      <td>8.0</td>\n",
       "      <td>E</td>\n",
       "      <td>82.54</td>\n",
       "    </tr>\n",
       "    <tr>\n",
       "      <th>1</th>\n",
       "      <td>Super Mario Bros.</td>\n",
       "      <td>NES</td>\n",
       "      <td>1985</td>\n",
       "      <td>Platform</td>\n",
       "      <td>29.08</td>\n",
       "      <td>3.58</td>\n",
       "      <td>6.81</td>\n",
       "      <td>0.77</td>\n",
       "      <td>&lt;NA&gt;</td>\n",
       "      <td>NaN</td>\n",
       "      <td>NaN</td>\n",
       "      <td>40.24</td>\n",
       "    </tr>\n",
       "    <tr>\n",
       "      <th>2</th>\n",
       "      <td>Mario Kart Wii</td>\n",
       "      <td>Wii</td>\n",
       "      <td>2008</td>\n",
       "      <td>Racing</td>\n",
       "      <td>15.68</td>\n",
       "      <td>12.76</td>\n",
       "      <td>3.79</td>\n",
       "      <td>3.29</td>\n",
       "      <td>82</td>\n",
       "      <td>8.3</td>\n",
       "      <td>E</td>\n",
       "      <td>35.52</td>\n",
       "    </tr>\n",
       "    <tr>\n",
       "      <th>3</th>\n",
       "      <td>Wii Sports Resort</td>\n",
       "      <td>Wii</td>\n",
       "      <td>2009</td>\n",
       "      <td>Sports</td>\n",
       "      <td>15.61</td>\n",
       "      <td>10.93</td>\n",
       "      <td>3.28</td>\n",
       "      <td>2.95</td>\n",
       "      <td>80</td>\n",
       "      <td>8.0</td>\n",
       "      <td>E</td>\n",
       "      <td>32.77</td>\n",
       "    </tr>\n",
       "    <tr>\n",
       "      <th>4</th>\n",
       "      <td>Pokemon Red/Pokemon Blue</td>\n",
       "      <td>GB</td>\n",
       "      <td>1996</td>\n",
       "      <td>Role-Playing</td>\n",
       "      <td>11.27</td>\n",
       "      <td>8.89</td>\n",
       "      <td>10.22</td>\n",
       "      <td>1.00</td>\n",
       "      <td>&lt;NA&gt;</td>\n",
       "      <td>NaN</td>\n",
       "      <td>NaN</td>\n",
       "      <td>31.38</td>\n",
       "    </tr>\n",
       "    <tr>\n",
       "      <th>5</th>\n",
       "      <td>Tetris</td>\n",
       "      <td>GB</td>\n",
       "      <td>1989</td>\n",
       "      <td>Puzzle</td>\n",
       "      <td>23.20</td>\n",
       "      <td>2.26</td>\n",
       "      <td>4.22</td>\n",
       "      <td>0.58</td>\n",
       "      <td>&lt;NA&gt;</td>\n",
       "      <td>NaN</td>\n",
       "      <td>NaN</td>\n",
       "      <td>30.26</td>\n",
       "    </tr>\n",
       "    <tr>\n",
       "      <th>6</th>\n",
       "      <td>New Super Mario Bros.</td>\n",
       "      <td>DS</td>\n",
       "      <td>2006</td>\n",
       "      <td>Platform</td>\n",
       "      <td>11.28</td>\n",
       "      <td>9.14</td>\n",
       "      <td>6.50</td>\n",
       "      <td>2.88</td>\n",
       "      <td>89</td>\n",
       "      <td>8.5</td>\n",
       "      <td>E</td>\n",
       "      <td>29.80</td>\n",
       "    </tr>\n",
       "    <tr>\n",
       "      <th>7</th>\n",
       "      <td>Wii Play</td>\n",
       "      <td>Wii</td>\n",
       "      <td>2006</td>\n",
       "      <td>Misc</td>\n",
       "      <td>13.96</td>\n",
       "      <td>9.18</td>\n",
       "      <td>2.93</td>\n",
       "      <td>2.84</td>\n",
       "      <td>58</td>\n",
       "      <td>6.6</td>\n",
       "      <td>E</td>\n",
       "      <td>28.91</td>\n",
       "    </tr>\n",
       "    <tr>\n",
       "      <th>8</th>\n",
       "      <td>New Super Mario Bros. Wii</td>\n",
       "      <td>Wii</td>\n",
       "      <td>2009</td>\n",
       "      <td>Platform</td>\n",
       "      <td>14.44</td>\n",
       "      <td>6.94</td>\n",
       "      <td>4.70</td>\n",
       "      <td>2.24</td>\n",
       "      <td>87</td>\n",
       "      <td>8.4</td>\n",
       "      <td>E</td>\n",
       "      <td>28.32</td>\n",
       "    </tr>\n",
       "    <tr>\n",
       "      <th>9</th>\n",
       "      <td>Duck Hunt</td>\n",
       "      <td>NES</td>\n",
       "      <td>1984</td>\n",
       "      <td>Shooter</td>\n",
       "      <td>26.93</td>\n",
       "      <td>0.63</td>\n",
       "      <td>0.28</td>\n",
       "      <td>0.47</td>\n",
       "      <td>&lt;NA&gt;</td>\n",
       "      <td>NaN</td>\n",
       "      <td>NaN</td>\n",
       "      <td>28.31</td>\n",
       "    </tr>\n",
       "  </tbody>\n",
       "</table>\n",
       "</div>"
      ],
      "text/plain": [
       "                        name platform  year_of_release         genre  \\\n",
       "0                 Wii Sports      Wii             2006        Sports   \n",
       "1          Super Mario Bros.      NES             1985      Platform   \n",
       "2             Mario Kart Wii      Wii             2008        Racing   \n",
       "3          Wii Sports Resort      Wii             2009        Sports   \n",
       "4   Pokemon Red/Pokemon Blue       GB             1996  Role-Playing   \n",
       "5                     Tetris       GB             1989        Puzzle   \n",
       "6      New Super Mario Bros.       DS             2006      Platform   \n",
       "7                   Wii Play      Wii             2006          Misc   \n",
       "8  New Super Mario Bros. Wii      Wii             2009      Platform   \n",
       "9                  Duck Hunt      NES             1984       Shooter   \n",
       "\n",
       "   na_sales  eu_sales  jp_sales  other_sales  critic_score  user_score rating  \\\n",
       "0     41.36     28.96      3.77         8.45            76         8.0      E   \n",
       "1     29.08      3.58      6.81         0.77          <NA>         NaN    NaN   \n",
       "2     15.68     12.76      3.79         3.29            82         8.3      E   \n",
       "3     15.61     10.93      3.28         2.95            80         8.0      E   \n",
       "4     11.27      8.89     10.22         1.00          <NA>         NaN    NaN   \n",
       "5     23.20      2.26      4.22         0.58          <NA>         NaN    NaN   \n",
       "6     11.28      9.14      6.50         2.88            89         8.5      E   \n",
       "7     13.96      9.18      2.93         2.84            58         6.6      E   \n",
       "8     14.44      6.94      4.70         2.24            87         8.4      E   \n",
       "9     26.93      0.63      0.28         0.47          <NA>         NaN    NaN   \n",
       "\n",
       "   tot_sales  \n",
       "0      82.54  \n",
       "1      40.24  \n",
       "2      35.52  \n",
       "3      32.77  \n",
       "4      31.38  \n",
       "5      30.26  \n",
       "6      29.80  \n",
       "7      28.91  \n",
       "8      28.32  \n",
       "9      28.31  "
      ]
     },
     "metadata": {},
     "output_type": "display_data"
    }
   ],
   "source": [
    "df['tot_sales'] = df['na_sales'] + df['eu_sales'] + df['jp_sales'] + df['other_sales']\n",
    "\n",
    "display(df.head(10))"
   ]
  },
  {
   "cell_type": "markdown",
   "metadata": {},
   "source": [
    "Count the total sales for all regions for each game."
   ]
  },
  {
   "cell_type": "markdown",
   "metadata": {},
   "source": [
    "## Data analysis"
   ]
  },
  {
   "cell_type": "markdown",
   "metadata": {},
   "source": [
    "### Question 1. Look at how many games were released in different years. Is data for all periods important?"
   ]
  },
  {
   "cell_type": "code",
   "execution_count": 12,
   "metadata": {},
   "outputs": [
    {
     "data": {
      "image/png": "[encoded data removed]",
      "text/plain": [
       "<Figure size 576x144 with 1 Axes>"
      ]
     },
     "metadata": {
      "needs_background": "light"
     },
     "output_type": "display_data"
    }
   ],
   "source": [
    "df_year = df.groupby('year_of_release')['tot_sales'].count()\n",
    "df_year.plot(figsize = (8, 2))\n",
    "plt.title('Dynamics of the number of released games')\n",
    "plt.xlabel('Year')\n",
    "plt.ylabel('N of games')\n",
    "plt.show()"
   ]
  },
  {
   "cell_type": "markdown",
   "metadata": {},
   "source": [
    "I group the data by year of release.\n",
    "\n",
    "The graph shows two sharp jumps, when the number of games per year increased approximately twice - in 1994 and in 2002. in 2008-2009 there was a peak in the number of released games, and then a noticeable decline. The chart has been relatively stable since 2012. I will consider the data from this year as relevant.\n",
    "\n",
    "Note: we have data up to 2016. According to the project objective, we make a forecast for 2017."
   ]
  },
  {
   "cell_type": "markdown",
   "metadata": {},
   "source": [
    "### Question 2: See how sales have changed by platform. Select the platforms with the highest total sales and plot the distribution by year. How long does it take for new platforms to appear and old ones to disappear?"
   ]
  },
  {
   "cell_type": "code",
   "execution_count": 13,
   "metadata": {
    "scrolled": true
   },
   "outputs": [
    {
     "name": "stdout",
     "output_type": "stream",
     "text": [
      "Num of platforms in the table: 31\n",
      "\n"
     ]
    },
    {
     "data": {
      "text/plain": [
       "platform\n",
       "PS2     1233.56\n",
       "X360     961.24\n",
       "PS3      931.34\n",
       "Wii      891.18\n",
       "DS       802.78\n",
       "PS       727.58\n",
       "PS4      314.14\n",
       "GBA      312.88\n",
       "PSP      289.53\n",
       "3DS      257.81\n",
       "PC       255.76\n",
       "GB       254.43\n",
       "XB       251.57\n",
       "NES      251.05\n",
       "N64      218.01\n",
       "SNES     200.04\n",
       "GC       196.73\n",
       "XOne     159.32\n",
       "2600      86.48\n",
       "WiiU      82.19\n",
       "PSV       53.81\n",
       "SAT       33.59\n",
       "GEN       30.77\n",
       "DC        15.95\n",
       "SCD        1.86\n",
       "NG         1.44\n",
       "WS         1.42\n",
       "TG16       0.16\n",
       "3DO        0.10\n",
       "GG         0.04\n",
       "PCFX       0.03\n",
       "Name: tot_sales, dtype: float64"
      ]
     },
     "metadata": {},
     "output_type": "display_data"
    }
   ],
   "source": [
    "plat_sales = df.groupby('platform')['tot_sales'].agg('sum').sort_values(ascending = False)\n",
    "print('Num of platforms in the table:', len(plat_sales))\n",
    "print()\n",
    "display(plat_sales)"
   ]
  },
  {
   "cell_type": "markdown",
   "metadata": {},
   "source": [
    "To choose an approach to solving this task, I make an overall sales rating and see how many platforms it has. Thirty one. Too much to build a graph for each. So I display the entire rating on the screen and look at it.\n",
    "\n",
    "There are also two sharp jumps in sales volumes, for the analysis of sales I'll take the top six."
   ]
  },
  {
   "cell_type": "code",
   "execution_count": 14,
   "metadata": {},
   "outputs": [],
   "source": [
    "df_top_sales = df[['platform', 'year_of_release', 'tot_sales']]\n",
    "top_sales = df_top_sales.groupby(['platform', 'year_of_release'])['tot_sales'].sum().reset_index()\n",
    "\n",
    "PS2 = top_sales[top_sales['platform'] == 'PS2'].copy()\n",
    "X360 = top_sales[top_sales['platform'] == 'X360'].copy()\n",
    "PS3 = top_sales[top_sales['platform'] == 'PS3'].copy()\n",
    "Wii = top_sales[top_sales['platform'] == 'Wii'].copy()\n",
    "DS = top_sales[top_sales['platform'] == 'DS'].copy()\n",
    "PS = top_sales[top_sales['platform'] == 'PS'].copy()\n",
    "\n",
    "PS2['PS2_sales'] = PS2['tot_sales']\n",
    "X360['X360_sales'] = X360['tot_sales']\n",
    "PS3['PS3_sales'] = PS3['tot_sales']\n",
    "Wii['Wii_sales'] = Wii['tot_sales']\n",
    "DS['DS_sales'] = DS['tot_sales']\n",
    "PS['PS_sales'] = PS['tot_sales']"
   ]
  },
  {
   "cell_type": "markdown",
   "metadata": {},
   "source": [
    "I create separate datasets for each platform so that the graph is more visual.\n",
    "\n",
    "Then I build graphs on common axes."
   ]
  },
  {
   "cell_type": "code",
   "execution_count": 15,
   "metadata": {},
   "outputs": [
    {
     "data": {
      "image/png": "[encoded data removed]",
      "text/plain": [
       "<Figure size 1008x288 with 1 Axes>"
      ]
     },
     "metadata": {
      "needs_background": "light"
     },
     "output_type": "display_data"
    }
   ],
   "source": [
    "ax = PS2.plot(x = 'year_of_release', y = 'PS2_sales', figsize = (14, 4))\n",
    "X360.plot(x = 'year_of_release', y = 'X360_sales', ax = ax)\n",
    "PS3.plot(x = 'year_of_release', y = 'PS3_sales', ax = ax)\n",
    "Wii.plot(x = 'year_of_release', y = 'Wii_sales', ax = ax)\n",
    "DS.plot(x = 'year_of_release', y = 'DS_sales', ax = ax)\n",
    "PS.plot(x = 'year_of_release', y = 'PS_sales', ax = ax)\n",
    "\n",
    "plt.title('Sales charts by year')\n",
    "plt.xlabel('Year')\n",
    "plt.ylabel('Sales')\n",
    "plt.show()"
   ]
  },
  {
   "cell_type": "markdown",
   "metadata": {},
   "source": [
    "From the graph, we can see that all the lines have the shape of a mountain - that is, any platform gains popularity, and then loses it. There are no charts where a significant decline would be replaced by a rise to a much greater height. Obviously, in the world of gamers, novelty matters."
   ]
  },
  {
   "cell_type": "markdown",
   "metadata": {},
   "source": [
    "### Estimation of the characteristic lifetime of platforms"
   ]
  },
  {
   "cell_type": "code",
   "execution_count": 16,
   "metadata": {
    "scrolled": true
   },
   "outputs": [
    {
     "data": {
      "image/png": "[encoded data removed]",
      "text/plain": [
       "<Figure size 432x288 with 1 Axes>"
      ]
     },
     "metadata": {
      "needs_background": "light"
     },
     "output_type": "display_data"
    },
    {
     "name": "stdout",
     "output_type": "stream",
     "text": [
      "count    31.000000\n",
      "mean      7.612903\n",
      "std       6.998464\n",
      "min       0.000000\n",
      "25%       3.000000\n",
      "50%       6.000000\n",
      "75%      10.000000\n",
      "max      31.000000\n",
      "Name: lifetime, dtype: float64\n"
     ]
    },
    {
     "data": {
      "text/html": [
       "<div>\n",
       "<style scoped>\n",
       "    .dataframe tbody tr th:only-of-type {\n",
       "        vertical-align: middle;\n",
       "    }\n",
       "\n",
       "    .dataframe tbody tr th {\n",
       "        vertical-align: top;\n",
       "    }\n",
       "\n",
       "    .dataframe thead th {\n",
       "        text-align: right;\n",
       "    }\n",
       "</style>\n",
       "<table border=\"1\" class=\"dataframe\">\n",
       "  <thead>\n",
       "    <tr style=\"text-align: right;\">\n",
       "      <th></th>\n",
       "      <th>min</th>\n",
       "      <th>max</th>\n",
       "      <th>lifetime</th>\n",
       "    </tr>\n",
       "    <tr>\n",
       "      <th>platform</th>\n",
       "      <th></th>\n",
       "      <th></th>\n",
       "      <th></th>\n",
       "    </tr>\n",
       "  </thead>\n",
       "  <tbody>\n",
       "    <tr>\n",
       "      <th>DS</th>\n",
       "      <td>1985</td>\n",
       "      <td>2013</td>\n",
       "      <td>28</td>\n",
       "    </tr>\n",
       "    <tr>\n",
       "      <th>PC</th>\n",
       "      <td>1985</td>\n",
       "      <td>2016</td>\n",
       "      <td>31</td>\n",
       "    </tr>\n",
       "  </tbody>\n",
       "</table>\n",
       "</div>"
      ],
      "text/plain": [
       "           min   max  lifetime\n",
       "platform                      \n",
       "DS        1985  2013        28\n",
       "PC        1985  2016        31"
      ]
     },
     "metadata": {},
     "output_type": "display_data"
    }
   ],
   "source": [
    "df_existing = df[['platform', 'year_of_release']]\n",
    "df_exist = df_existing.groupby(['platform'])['year_of_release'].agg(['min', 'max'])\n",
    "df_exist['lifetime'] = df_exist['max'] - df_exist['min']\n",
    "\n",
    "df_exist['lifetime'].hist(bins = 15)\n",
    "plt.title('Platform lifetime')\n",
    "plt.xlabel('N of years')\n",
    "plt.ylabel('N of platforms')\n",
    "plt.show()\n",
    "\n",
    "print(df_exist['lifetime'].describe())\n",
    "\n",
    "display(df_exist[df_exist['lifetime'] > 25])"
   ]
  },
  {
   "cell_type": "markdown",
   "metadata": {},
   "source": [
    "To estimate the lifespan of platforms, I create a dataset with the years of release of the first and last games on the platform. Then I add a column with a difference - the number of years the platform has existed.\n",
    "I build a histogram and display the characteristics of the sample.\n",
    "\n",
    "The histogram shows that platforms most often exist for no more than a year. If the platform managed to survive the first four years, then most likely it will live for 9-10 years.\n",
    "Median lifetime 6 years, average 7.6. But the average is obviously distorted by the \"centenarians\" who reached about up to thirty. Surely I'd call them legendary if I played something other than Tetris."
   ]
  },
  {
   "cell_type": "markdown",
   "metadata": {},
   "source": [
    "### Question 3. Take data for the actual period. Determine the actual period yourself as a result of the study of the previous questions. The main factor is that these data will help build a forecast for 2017."
   ]
  },
  {
   "cell_type": "markdown",
   "metadata": {},
   "source": [
    "As I wrote above, the number of games released to the market has been at the current level since 2012. In addition, the median lifetime of the platform is six years, which means that it makes no sense to take data before 2010. Most likely there will be many platforms that are no longer on the market. So I set the current period 2012-2016."
   ]
  },
  {
   "cell_type": "code",
   "execution_count": 17,
   "metadata": {},
   "outputs": [],
   "source": [
    "df = df[df['year_of_release'] >= 2012]"
   ]
  },
  {
   "cell_type": "markdown",
   "metadata": {},
   "source": [
    "Deleted all irrelevant data from the dataframe."
   ]
  },
  {
   "cell_type": "markdown",
   "metadata": {},
   "source": [
    "### Question 4. Which platforms are leading in sales, rising or falling? Pick a few potentially profitable platforms."
   ]
  },
  {
   "cell_type": "code",
   "execution_count": 18,
   "metadata": {},
   "outputs": [
    {
     "name": "stdout",
     "output_type": "stream",
     "text": [
      "['PS3' 'X360' 'PS4' '3DS' 'DS' 'XOne' 'WiiU' 'Wii' 'PC' 'PSV' 'PSP']\n"
     ]
    },
    {
     "data": {
      "text/plain": [
       "platform\n",
       "PS4     314.14\n",
       "PS3     288.79\n",
       "X360    236.54\n",
       "3DS     194.61\n",
       "XOne    159.32\n",
       "WiiU     82.19\n",
       "PC       62.65\n",
       "PSV      49.18\n",
       "Wii      35.37\n",
       "DS       12.55\n",
       "PSP      11.19\n",
       "Name: tot_sales, dtype: float64"
      ]
     },
     "metadata": {},
     "output_type": "display_data"
    }
   ],
   "source": [
    "print(df['platform'].unique())\n",
    "display(df.groupby('platform')['tot_sales'].agg('sum').sort_values(ascending = False))"
   ]
  },
  {
   "cell_type": "markdown",
   "metadata": {},
   "source": [
    "First, let's see how many platforms are left in the table, and which of them is the leader in sales.\n",
    "\n",
    "There are 11 platforms left with very different sales figures. It should be noted that after the deletion of obsolete data, the top six has changed."
   ]
  },
  {
   "cell_type": "code",
   "execution_count": 19,
   "metadata": {
    "scrolled": true
   },
   "outputs": [
    {
     "data": {
      "image/png": "[encoded data removed]",
      "text/plain": [
       "<Figure size 1080x288 with 1 Axes>"
      ]
     },
     "metadata": {
      "needs_background": "light"
     },
     "output_type": "display_data"
    }
   ],
   "source": [
    "actual_sales = df[['platform', 'year_of_release', 'tot_sales']]\n",
    "actual_sales = actual_sales[actual_sales['platform'] != 'DS']\n",
    "actual_sales = actual_sales[actual_sales['platform'] != 'PSP'] \n",
    "\n",
    "actual_dinamic = actual_sales.groupby(['platform', 'year_of_release']).sum()\n",
    "actual_dinamic = actual_dinamic.reset_index().rename_axis(None, axis=1)\n",
    "actual_dinamic = actual_dinamic.pivot(index = 'year_of_release', columns = 'platform', values = 'tot_sales')\n",
    "\n",
    "actual_dinamic.plot(figsize = (15, 4))\n",
    "plt.title('Dynamics of sales of games on different platforms over the past five years')\n",
    "plt.xlabel('Year')\n",
    "plt.ylabel('Sales')\n",
    "plt.show()"
   ]
  },
  {
   "cell_type": "markdown",
   "metadata": {},
   "source": [
    "Even in the last five years, there were two platforms that are no longer on the market (I removed them in this cell from the dataset so that the chart would not be noisy). The other two have only been around for four years and have the highest sales figures in the last three years (although the last year, like everyone else, showed a decline in profits).\n",
    "\n",
    "Leading in sales XOne and PS4. PS3 and X360 fall most noticeably. Potentially profitable, I would include the same XOne and PS4, as the newest and most profitable over the past year, and 3DS, as the most profitable stable."
   ]
  },
  {
   "cell_type": "markdown",
   "metadata": {},
   "source": [
    "### Question 5: Graph global game sales by platform. Describe the result."
   ]
  },
  {
   "cell_type": "code",
   "execution_count": 20,
   "metadata": {},
   "outputs": [
    {
     "data": {
      "image/png": "[encoded data removed]",
      "text/plain": [
       "<Figure size 432x288 with 1 Axes>"
      ]
     },
     "metadata": {
      "needs_background": "light"
     },
     "output_type": "display_data"
    }
   ],
   "source": [
    "actual_dinamic.boxplot()\n",
    "plt.title('Sales on different platforms for 2012-2016')\n",
    "plt.xlabel('Platform')\n",
    "plt.ylabel('Sales')\n",
    "plt.show()"
   ]
  },
  {
   "cell_type": "markdown",
   "metadata": {},
   "source": [
    "I'm building a boxplot. It shows that the four platforms have consistently low sales, with separate successful (PC, Wii) or unsuccessful (WiiU) years.\n",
    "\n",
    "For two platforms (PS3, X360), the values are very widely distributed, with short whiskers and no outliers, which means that in the specified period there were smooth but significant changes, a trend towards growth or decline in sales over several years (from the previous chart we know what was decline). At the same time, their medians are located significantly below the middle of the boxes, which means that the periods of high sales were rather short-lived.\n",
    "\n",
    "PS4 shows the opposite picture - a high median and a long whiskers. This means that the platform had a short period of low sales, a short peak, and a most time-consuming period of relatively high sales (volumes are closer to the peak than to the bottom).\n",
    "\n",
    "Two platforms (3DS, XOne) show stable revenue, not super high, but without emissions. The boxes are small, the whiskers too, that means there were no such significant fluctuations in sales volumes as on the platforms PS3 and X360. The 3DS has a slightly higher median than the XOne, but the lower tail is also longer, which means there was some local decline in revenue. The XOne boxplot is almost symmetrical, which means there was some ups and downs."
   ]
  },
  {
   "cell_type": "markdown",
   "metadata": {},
   "source": [
    "Based on these two graphs, for further analysis, I will keep only the market leaders - XOne, PS4 and 3DS"
   ]
  },
  {
   "cell_type": "markdown",
   "metadata": {},
   "source": [
    "### Question 6. Look at how sales within one popular platform are affected by user and critic reviews. Plot a scatterplot and calculate the correlation between reviews and sales. Formulate conclusions."
   ]
  },
  {
   "cell_type": "code",
   "execution_count": 21,
   "metadata": {},
   "outputs": [
    {
     "data": {
      "text/html": [
       "<div>\n",
       "<style scoped>\n",
       "    .dataframe tbody tr th:only-of-type {\n",
       "        vertical-align: middle;\n",
       "    }\n",
       "\n",
       "    .dataframe tbody tr th {\n",
       "        vertical-align: top;\n",
       "    }\n",
       "\n",
       "    .dataframe thead th {\n",
       "        text-align: right;\n",
       "    }\n",
       "</style>\n",
       "<table border=\"1\" class=\"dataframe\">\n",
       "  <thead>\n",
       "    <tr style=\"text-align: right;\">\n",
       "      <th></th>\n",
       "      <th>platform</th>\n",
       "      <th>user_score</th>\n",
       "      <th>critic_score</th>\n",
       "      <th>tot_sales</th>\n",
       "    </tr>\n",
       "  </thead>\n",
       "  <tbody>\n",
       "    <tr>\n",
       "      <th>42</th>\n",
       "      <td>PS4</td>\n",
       "      <td>8.3</td>\n",
       "      <td>97</td>\n",
       "      <td>12.62</td>\n",
       "    </tr>\n",
       "    <tr>\n",
       "      <th>62</th>\n",
       "      <td>3DS</td>\n",
       "      <td>7.2</td>\n",
       "      <td>78</td>\n",
       "      <td>9.90</td>\n",
       "    </tr>\n",
       "    <tr>\n",
       "      <th>73</th>\n",
       "      <td>3DS</td>\n",
       "      <td>8.7</td>\n",
       "      <td>88</td>\n",
       "      <td>9.17</td>\n",
       "    </tr>\n",
       "    <tr>\n",
       "      <th>77</th>\n",
       "      <td>PS4</td>\n",
       "      <td>4.3</td>\n",
       "      <td>82</td>\n",
       "      <td>8.58</td>\n",
       "    </tr>\n",
       "    <tr>\n",
       "      <th>92</th>\n",
       "      <td>PS4</td>\n",
       "      <td>5.7</td>\n",
       "      <td>83</td>\n",
       "      <td>7.66</td>\n",
       "    </tr>\n",
       "    <tr>\n",
       "      <th>...</th>\n",
       "      <td>...</td>\n",
       "      <td>...</td>\n",
       "      <td>...</td>\n",
       "      <td>...</td>\n",
       "    </tr>\n",
       "    <tr>\n",
       "      <th>16257</th>\n",
       "      <td>PS4</td>\n",
       "      <td>7.9</td>\n",
       "      <td>61</td>\n",
       "      <td>0.01</td>\n",
       "    </tr>\n",
       "    <tr>\n",
       "      <th>16261</th>\n",
       "      <td>PS4</td>\n",
       "      <td>5.5</td>\n",
       "      <td>51</td>\n",
       "      <td>0.01</td>\n",
       "    </tr>\n",
       "    <tr>\n",
       "      <th>16328</th>\n",
       "      <td>XOne</td>\n",
       "      <td>6.0</td>\n",
       "      <td>65</td>\n",
       "      <td>0.01</td>\n",
       "    </tr>\n",
       "    <tr>\n",
       "      <th>16361</th>\n",
       "      <td>XOne</td>\n",
       "      <td>8.2</td>\n",
       "      <td>63</td>\n",
       "      <td>0.01</td>\n",
       "    </tr>\n",
       "    <tr>\n",
       "      <th>16391</th>\n",
       "      <td>XOne</td>\n",
       "      <td>6.7</td>\n",
       "      <td>74</td>\n",
       "      <td>0.01</td>\n",
       "    </tr>\n",
       "  </tbody>\n",
       "</table>\n",
       "<p>514 rows × 4 columns</p>\n",
       "</div>"
      ],
      "text/plain": [
       "      platform  user_score  critic_score  tot_sales\n",
       "42         PS4         8.3            97      12.62\n",
       "62         3DS         7.2            78       9.90\n",
       "73         3DS         8.7            88       9.17\n",
       "77         PS4         4.3            82       8.58\n",
       "92         PS4         5.7            83       7.66\n",
       "...        ...         ...           ...        ...\n",
       "16257      PS4         7.9            61       0.01\n",
       "16261      PS4         5.5            51       0.01\n",
       "16328     XOne         6.0            65       0.01\n",
       "16361     XOne         8.2            63       0.01\n",
       "16391     XOne         6.7            74       0.01\n",
       "\n",
       "[514 rows x 4 columns]"
      ]
     },
     "metadata": {},
     "output_type": "display_data"
    }
   ],
   "source": [
    "top_list = ['XOne', 'PS4', '3DS']\n",
    "df_scores = df[(df['user_score'].notna()) & (df['critic_score'].notna()) & (df['platform'].isin(top_list))]\n",
    "df_scores = df_scores[['platform', 'user_score', 'critic_score', 'tot_sales']]\n",
    "display(df_scores)"
   ]
  },
  {
   "cell_type": "markdown",
   "metadata": {},
   "source": [
    "I create a common dataframe without gaps in the assessments of critics, players and with three top platforms. Yes, I understand that some of the ratings disappeared in those lines where there was no rating from one of the sources, but there were quite a few of them. And now we have clean complete data."
   ]
  },
  {
   "cell_type": "code",
   "execution_count": 22,
   "metadata": {},
   "outputs": [
    {
     "data": {
      "image/png": "[encoded data removed]",
      "text/plain": [
       "<Figure size 432x288 with 1 Axes>"
      ]
     },
     "metadata": {
      "needs_background": "light"
     },
     "output_type": "display_data"
    },
    {
     "data": {
      "image/png": "[encoded data removed]",
      "text/plain": [
       "<Figure size 432x288 with 1 Axes>"
      ]
     },
     "metadata": {
      "needs_background": "light"
     },
     "output_type": "display_data"
    }
   ],
   "source": [
    "df_PS4_scores = df_scores[df_scores['platform'] == 'PS4']\n",
    "df_PS4_scores.plot(kind = 'scatter', x = 'critic_score', y = 'tot_sales')\n",
    "plt.title('Sales volumes depending on critics score')\n",
    "plt.xlabel('Critics score')\n",
    "plt.ylabel('Sales')\n",
    "plt.show()\n",
    "\n",
    "df_PS4_scores.plot(kind = 'scatter', x = 'user_score', y = 'tot_sales')\n",
    "plt.title('Sales volumes depending on users score')\n",
    "plt.xlabel('Users score')\n",
    "plt.ylabel('Sales')\n",
    "plt.show()"
   ]
  },
  {
   "cell_type": "markdown",
   "metadata": {},
   "source": [
    "I build scatter plots of sales volumes depending on the ratings of critics and players.\n",
    "\n",
    "Visually, we can say that there is definitely a correlation - the higher the ratings, the higher the sales. At the same time, the data is not evenly distributed; there are very few sales in the area of low estimates. Critics' ratings are much more strongly correlated with sales, while users rate the best-selling games as mediocre. This is easily explained by the factor of subjective experience.\n",
    "\n",
    "At the same time, most games, both with high and low ratings, have rather low sales, up to 1 million copies.\n",
    "\n",
    "Now let's look at the numbers."
   ]
  },
  {
   "cell_type": "code",
   "execution_count": 23,
   "metadata": {},
   "outputs": [
    {
     "data": {
      "text/html": [
       "<div>\n",
       "<style scoped>\n",
       "    .dataframe tbody tr th:only-of-type {\n",
       "        vertical-align: middle;\n",
       "    }\n",
       "\n",
       "    .dataframe tbody tr th {\n",
       "        vertical-align: top;\n",
       "    }\n",
       "\n",
       "    .dataframe thead th {\n",
       "        text-align: right;\n",
       "    }\n",
       "</style>\n",
       "<table border=\"1\" class=\"dataframe\">\n",
       "  <thead>\n",
       "    <tr style=\"text-align: right;\">\n",
       "      <th></th>\n",
       "      <th>user_score</th>\n",
       "      <th>critic_score</th>\n",
       "      <th>tot_sales</th>\n",
       "    </tr>\n",
       "  </thead>\n",
       "  <tbody>\n",
       "    <tr>\n",
       "      <th>user_score</th>\n",
       "      <td>1.000000</td>\n",
       "      <td>0.557654</td>\n",
       "      <td>-0.033625</td>\n",
       "    </tr>\n",
       "    <tr>\n",
       "      <th>critic_score</th>\n",
       "      <td>0.557654</td>\n",
       "      <td>1.000000</td>\n",
       "      <td>0.405895</td>\n",
       "    </tr>\n",
       "    <tr>\n",
       "      <th>tot_sales</th>\n",
       "      <td>-0.033625</td>\n",
       "      <td>0.405895</td>\n",
       "      <td>1.000000</td>\n",
       "    </tr>\n",
       "  </tbody>\n",
       "</table>\n",
       "</div>"
      ],
      "text/plain": [
       "              user_score  critic_score  tot_sales\n",
       "user_score      1.000000      0.557654  -0.033625\n",
       "critic_score    0.557654      1.000000   0.405895\n",
       "tot_sales      -0.033625      0.405895   1.000000"
      ]
     },
     "execution_count": 23,
     "metadata": {},
     "output_type": "execute_result"
    }
   ],
   "source": [
    "df_PS4_scores.corr()"
   ]
  },
  {
   "cell_type": "markdown",
   "metadata": {},
   "source": [
    "Critics' score moderately but surely correlates with sales volume, the correlation coefficient is 0.41. But for users ratings, the connection with sales is approximately zero, we can’t even confidently talk about its presence. \n",
    "\n",
    "Now let's look at the two remaining platforms."
   ]
  },
  {
   "cell_type": "code",
   "execution_count": 24,
   "metadata": {},
   "outputs": [
    {
     "data": {
      "image/png": "[encoded data removed]",
      "text/plain": [
       "<Figure size 432x288 with 1 Axes>"
      ]
     },
     "metadata": {
      "needs_background": "light"
     },
     "output_type": "display_data"
    },
    {
     "data": {
      "image/png": "[encoded data removed]",
      "text/plain": [
       "<Figure size 432x288 with 1 Axes>"
      ]
     },
     "metadata": {
      "needs_background": "light"
     },
     "output_type": "display_data"
    }
   ],
   "source": [
    "df_XOne_scores = df_scores[df_scores['platform'] == 'XOne']\n",
    "df_XOne_scores.plot(kind = 'scatter', x = 'critic_score', y = 'tot_sales')\n",
    "plt.title('Sales volumes depending on critics score')\n",
    "plt.xlabel('Critics score')\n",
    "plt.ylabel('Sales')\n",
    "plt.show()\n",
    "\n",
    "df_XOne_scores.plot(kind = 'scatter', x = 'user_score', y = 'tot_sales')\n",
    "plt.title('Sales volumes depending on users score')\n",
    "plt.xlabel('Users score')\n",
    "plt.ylabel('Sales')\n",
    "plt.show()"
   ]
  },
  {
   "cell_type": "markdown",
   "metadata": {},
   "source": [
    "Sales on the XOne platform. The trend is the same as the PS4 - most games have sales under a million, critics' ratings seem to correlate with sales, players ratings are scattered even more chaotically and hardly show any correlation.\n",
    "\n",
    "Let's look at the numbers:"
   ]
  },
  {
   "cell_type": "code",
   "execution_count": 25,
   "metadata": {},
   "outputs": [
    {
     "data": {
      "text/html": [
       "<div>\n",
       "<style scoped>\n",
       "    .dataframe tbody tr th:only-of-type {\n",
       "        vertical-align: middle;\n",
       "    }\n",
       "\n",
       "    .dataframe tbody tr th {\n",
       "        vertical-align: top;\n",
       "    }\n",
       "\n",
       "    .dataframe thead th {\n",
       "        text-align: right;\n",
       "    }\n",
       "</style>\n",
       "<table border=\"1\" class=\"dataframe\">\n",
       "  <thead>\n",
       "    <tr style=\"text-align: right;\">\n",
       "      <th></th>\n",
       "      <th>user_score</th>\n",
       "      <th>critic_score</th>\n",
       "      <th>tot_sales</th>\n",
       "    </tr>\n",
       "  </thead>\n",
       "  <tbody>\n",
       "    <tr>\n",
       "      <th>user_score</th>\n",
       "      <td>1.000000</td>\n",
       "      <td>0.472462</td>\n",
       "      <td>-0.094003</td>\n",
       "    </tr>\n",
       "    <tr>\n",
       "      <th>critic_score</th>\n",
       "      <td>0.472462</td>\n",
       "      <td>1.000000</td>\n",
       "      <td>0.410422</td>\n",
       "    </tr>\n",
       "    <tr>\n",
       "      <th>tot_sales</th>\n",
       "      <td>-0.094003</td>\n",
       "      <td>0.410422</td>\n",
       "      <td>1.000000</td>\n",
       "    </tr>\n",
       "  </tbody>\n",
       "</table>\n",
       "</div>"
      ],
      "text/plain": [
       "              user_score  critic_score  tot_sales\n",
       "user_score      1.000000      0.472462  -0.094003\n",
       "critic_score    0.472462      1.000000   0.410422\n",
       "tot_sales      -0.094003      0.410422   1.000000"
      ]
     },
     "execution_count": 25,
     "metadata": {},
     "output_type": "execute_result"
    }
   ],
   "source": [
    "df_XOne_scores.corr()"
   ]
  },
  {
   "cell_type": "markdown",
   "metadata": {},
   "source": [
    "The numbers are also close to the first platform - 0.41 for the critics' ratings, and a slightly more minus zero for the players' ratings. It is already clear that it makes no sense to conduct surveys of players to increase sales."
   ]
  },
  {
   "cell_type": "code",
   "execution_count": 26,
   "metadata": {},
   "outputs": [
    {
     "data": {
      "image/png": "[encoded data removed]",
      "text/plain": [
       "<Figure size 432x288 with 1 Axes>"
      ]
     },
     "metadata": {
      "needs_background": "light"
     },
     "output_type": "display_data"
    },
    {
     "data": {
      "image/png": "[encoded data removed]",
      "text/plain": [
       "<Figure size 432x288 with 1 Axes>"
      ]
     },
     "metadata": {
      "needs_background": "light"
     },
     "output_type": "display_data"
    }
   ],
   "source": [
    "df_3DS_scores = df_scores[df_scores['platform'] == '3DS']\n",
    "df_3DS_scores.plot(kind = 'scatter', x = 'critic_score', y = 'tot_sales')\n",
    "plt.title('Sales volumes depending on critics score')\n",
    "plt.xlabel('Critics score')\n",
    "plt.ylabel('Sales')\n",
    "plt.show()\n",
    "\n",
    "df_3DS_scores.plot(kind = 'scatter', x = 'user_score', y = 'tot_sales')\n",
    "plt.title('Sales volumes depending on users score')\n",
    "plt.xlabel('Users score')\n",
    "plt.ylabel('Sales')\n",
    "plt.show()"
   ]
  },
  {
   "cell_type": "markdown",
   "metadata": {},
   "source": [
    "There are fewer games on the 3DS platform, so the graphs look empty and practically do not differ from each other in the shape of the scattering."
   ]
  },
  {
   "cell_type": "code",
   "execution_count": 27,
   "metadata": {},
   "outputs": [
    {
     "data": {
      "text/html": [
       "<div>\n",
       "<style scoped>\n",
       "    .dataframe tbody tr th:only-of-type {\n",
       "        vertical-align: middle;\n",
       "    }\n",
       "\n",
       "    .dataframe tbody tr th {\n",
       "        vertical-align: top;\n",
       "    }\n",
       "\n",
       "    .dataframe thead th {\n",
       "        text-align: right;\n",
       "    }\n",
       "</style>\n",
       "<table border=\"1\" class=\"dataframe\">\n",
       "  <thead>\n",
       "    <tr style=\"text-align: right;\">\n",
       "      <th></th>\n",
       "      <th>user_score</th>\n",
       "      <th>critic_score</th>\n",
       "      <th>tot_sales</th>\n",
       "    </tr>\n",
       "  </thead>\n",
       "  <tbody>\n",
       "    <tr>\n",
       "      <th>user_score</th>\n",
       "      <td>1.000000</td>\n",
       "      <td>0.722762</td>\n",
       "      <td>0.201813</td>\n",
       "    </tr>\n",
       "    <tr>\n",
       "      <th>critic_score</th>\n",
       "      <td>0.722762</td>\n",
       "      <td>1.000000</td>\n",
       "      <td>0.310553</td>\n",
       "    </tr>\n",
       "    <tr>\n",
       "      <th>tot_sales</th>\n",
       "      <td>0.201813</td>\n",
       "      <td>0.310553</td>\n",
       "      <td>1.000000</td>\n",
       "    </tr>\n",
       "  </tbody>\n",
       "</table>\n",
       "</div>"
      ],
      "text/plain": [
       "              user_score  critic_score  tot_sales\n",
       "user_score      1.000000      0.722762   0.201813\n",
       "critic_score    0.722762      1.000000   0.310553\n",
       "tot_sales       0.201813      0.310553   1.000000"
      ]
     },
     "execution_count": 27,
     "metadata": {},
     "output_type": "execute_result"
    }
   ],
   "source": [
    "df_3DS_scores.corr()"
   ]
  },
  {
   "cell_type": "markdown",
   "metadata": {},
   "source": [
    "The numbers here differ from the two previous platforms: the critics are less accurate, the correlation is 0.31. Weak positive relationship, but still it is more likely than not.\n",
    "\n",
    "The players still don't know what they want, but they are already trying to figure it out: the 0.2 correlation can also indicate the presence of a weak positive relationship (with more observations, of course). For now, just stating a fact: on this platform, judging by this sample, the opinion of the players is more correlated with their willingness to buy games."
   ]
  },
  {
   "cell_type": "markdown",
   "metadata": {},
   "source": [
    "### Question 7. Look at the overall distribution of games by genre. What about the most profitable genres? Do genres with high and low sales stand out?"
   ]
  },
  {
   "cell_type": "code",
   "execution_count": 28,
   "metadata": {},
   "outputs": [
    {
     "name": "stderr",
     "output_type": "stream",
     "text": [
      "C:\\ProgramData\\Anaconda3\\lib\\site-packages\\seaborn\\_decorators.py:36: FutureWarning: Pass the following variables as keyword args: x, y. From version 0.12, the only valid positional argument will be `data`, and passing other arguments without an explicit keyword will result in an error or misinterpretation.\n",
      "  warnings.warn(\n"
     ]
    },
    {
     "data": {
      "image/png": "[encoded data removed]",
      "text/plain": [
       "<Figure size 1080x432 with 1 Axes>"
      ]
     },
     "metadata": {
      "needs_background": "light"
     },
     "output_type": "display_data"
    },
    {
     "name": "stderr",
     "output_type": "stream",
     "text": [
      "C:\\ProgramData\\Anaconda3\\lib\\site-packages\\seaborn\\_decorators.py:36: FutureWarning: Pass the following variables as keyword args: x, y. From version 0.12, the only valid positional argument will be `data`, and passing other arguments without an explicit keyword will result in an error or misinterpretation.\n",
      "  warnings.warn(\n"
     ]
    },
    {
     "name": "stdout",
     "output_type": "stream",
     "text": [
      "\n"
     ]
    },
    {
     "data": {
      "image/png": "[encoded data removed]",
      "text/plain": [
       "<Figure size 1080x432 with 1 Axes>"
      ]
     },
     "metadata": {
      "needs_background": "light"
     },
     "output_type": "display_data"
    }
   ],
   "source": [
    "df_genre = df[['genre', 'tot_sales']]\n",
    "\n",
    "genre_n = df_genre.groupby(by = 'genre').count().sort_values(by = 'tot_sales', ascending = False)\n",
    "plt.figure(figsize=(15,6))\n",
    "sns.barplot(genre_n.index, genre_n['tot_sales'])\n",
    "plt.title('Number of released games of different genres')\n",
    "plt.xlabel('Genre')\n",
    "plt.ylabel('N of games')\n",
    "plt.show()\n",
    "\n",
    "print()\n",
    "genre_s = df_genre.groupby(by = 'genre').sum().sort_values(by = 'tot_sales', ascending = False)\n",
    "plt.figure(figsize=(15, 6))\n",
    "sns.barplot(genre_s.index, genre_s['tot_sales'])\n",
    "plt.title('Sales of games of different genres')\n",
    "plt.xlabel('Genre')\n",
    "plt.ylabel('N of games')\n",
    "plt.show()"
   ]
  },
  {
   "cell_type": "markdown",
   "metadata": {},
   "source": [
    "Look. See that games of different genres are produced in different numbers, and their sales volumes are also very different. At the same time, the position of games in the first and second ratings +/- is the same, which is logical - the more games of a certain genre generate income, the more developers try to release them. The most profitable genres are Action, Shooters, role-playing and sports games. The rest are more than twice behind them.\n",
    "\n",
    "The least popular are strategies and puzzles."
   ]
  },
  {
   "cell_type": "markdown",
   "metadata": {},
   "source": [
    "## Create a user profile for each region"
   ]
  },
  {
   "cell_type": "markdown",
   "metadata": {},
   "source": [
    "Define for the user of each region (NA, EU, JP):\n",
    "- Most popular platforms (top 5). Describe the differences in sales shares.\n",
    "- The most popular genres (top 5). Explain the difference.\n",
    "\n",
    "Does the ESRB rating affect sales in a particular region?"
   ]
  },
  {
   "cell_type": "code",
   "execution_count": 29,
   "metadata": {},
   "outputs": [],
   "source": [
    "df_na = df[['na_sales', 'platform', 'genre', 'rating']]\n",
    "df_eu = df[['eu_sales', 'platform', 'genre', 'rating']]\n",
    "df_jp = df[['jp_sales', 'platform', 'genre', 'rating']]"
   ]
  },
  {
   "cell_type": "markdown",
   "metadata": {},
   "source": [
    "Create dataframes by region."
   ]
  },
  {
   "cell_type": "markdown",
   "metadata": {},
   "source": [
    "### Identifying the most popular platforms by region"
   ]
  },
  {
   "cell_type": "code",
   "execution_count": 30,
   "metadata": {},
   "outputs": [
    {
     "name": "stdout",
     "output_type": "stream",
     "text": [
      "Top-5 Popular Platforms:\n",
      "\n",
      "North America:\n",
      "platform\n",
      "X360    140.05\n",
      "PS4     108.74\n",
      "PS3     103.38\n",
      "XOne     93.12\n",
      "3DS      55.31\n",
      "Name: na_sales, dtype: float64\n",
      "\n",
      "Europe:\n",
      "platform\n",
      "PS4     141.09\n",
      "PS3     106.86\n",
      "X360     74.52\n",
      "XOne     51.59\n",
      "3DS      42.64\n",
      "Name: eu_sales, dtype: float64\n",
      "\n",
      "Japan:\n",
      "platform\n",
      "3DS     87.79\n",
      "PS3     35.29\n",
      "PSV     21.04\n",
      "PS4     15.96\n",
      "WiiU    13.01\n",
      "Name: jp_sales, dtype: float64\n"
     ]
    }
   ],
   "source": [
    "print('Top-5 Popular Platforms:')\n",
    "print()\n",
    "print('North America:')\n",
    "print(df_na.groupby('platform')['na_sales'].sum().sort_values(ascending = False).head())\n",
    "print()\n",
    "print('Europe:')\n",
    "print(df_eu.groupby('platform')['eu_sales'].sum().sort_values(ascending = False).head())\n",
    "print()\n",
    "print('Japan:')\n",
    "print(df_jp.groupby('platform')['jp_sales'].sum().sort_values(ascending = False).head())"
   ]
  },
  {
   "cell_type": "markdown",
   "metadata": {},
   "source": [
    "As we can see, the popularity of platforms varies widely across countries. So, in North America, the X360 is in the lead, and in Japan it didn't even get into the top five.\n",
    "\n",
    "In all regions, PS3, PS4 and 3DS are in the lead. And here Japan goes its own way - PS4 is only fourth, and even if we adjust for the size of the market, it still will not catch up with the popularity of this platform either in Europe or in America. PSV and WiiU, which are present in the Japanese top, are not popular either in Europe or in America."
   ]
  },
  {
   "cell_type": "markdown",
   "metadata": {},
   "source": [
    "### Identifying the most popular game genres by region"
   ]
  },
  {
   "cell_type": "code",
   "execution_count": 31,
   "metadata": {},
   "outputs": [
    {
     "name": "stdout",
     "output_type": "stream",
     "text": [
      "Top-5 popular genres:\n",
      "\n",
      "North America:\n",
      "genre\n",
      "Action          177.84\n",
      "Shooter         144.77\n",
      "Sports           81.53\n",
      "Role-Playing     64.00\n",
      "Misc             38.19\n",
      "Name: na_sales, dtype: float64\n",
      "\n",
      "Europe:\n",
      "genre\n",
      "Action          159.34\n",
      "Shooter         113.47\n",
      "Sports           69.09\n",
      "Role-Playing     48.53\n",
      "Racing           27.29\n",
      "Name: eu_sales, dtype: float64\n",
      "\n",
      "Japan:\n",
      "genre\n",
      "Role-Playing    65.44\n",
      "Action          52.80\n",
      "Misc            12.86\n",
      "Simulation      10.41\n",
      "Fighting         9.44\n",
      "Name: jp_sales, dtype: float64\n"
     ]
    }
   ],
   "source": [
    "print('Top-5 popular genres:')\n",
    "print()\n",
    "print('North America:')\n",
    "display()\n",
    "print(df_na.groupby('genre')['na_sales'].sum().sort_values(ascending = False).head())\n",
    "print()\n",
    "print('Europe:')\n",
    "display()\n",
    "print(df_eu.groupby('genre')['eu_sales'].sum().sort_values(ascending = False).head())\n",
    "print()\n",
    "print('Japan:')\n",
    "display()\n",
    "print(df_jp.groupby('genre')['jp_sales'].sum().sort_values(ascending = False).head())"
   ]
  },
  {
   "cell_type": "markdown",
   "metadata": {},
   "source": [
    "The genre preferences of American and European gamers are very close - only the fifth line of the rating differs. Japan matches their top with only two positions - action and role-playing games, and then with reverse popularity. In general, we can say that Action is the leader in popularity in the world."
   ]
  },
  {
   "cell_type": "markdown",
   "metadata": {},
   "source": [
    "### Assessing the impact of the ESRB rating on sales volumes"
   ]
  },
  {
   "cell_type": "code",
   "execution_count": 32,
   "metadata": {},
   "outputs": [],
   "source": [
    "df_na = df_na[df_na['rating'].notna()]\n",
    "df_eu = df_eu[df_eu['rating'].notna()]\n",
    "df_jp = df_jp[df_jp['rating'].notna()]"
   ]
  },
  {
   "cell_type": "markdown",
   "metadata": {},
   "source": [
    "ESRB rating is not numeric and contains NanS. Preliminary removal of rows with gaps would reduce the sample for analysis, so I'm removing the gaps now, from the subsets. Then I'm assigning a numerical index to each rating, and calculating the correlations."
   ]
  },
  {
   "cell_type": "code",
   "execution_count": 33,
   "metadata": {},
   "outputs": [
    {
     "name": "stdout",
     "output_type": "stream",
     "text": [
      "['M' nan 'E' 'E10+' 'T']\n"
     ]
    },
    {
     "data": {
      "text/html": [
       "<div>\n",
       "<style scoped>\n",
       "    .dataframe tbody tr th:only-of-type {\n",
       "        vertical-align: middle;\n",
       "    }\n",
       "\n",
       "    .dataframe tbody tr th {\n",
       "        vertical-align: top;\n",
       "    }\n",
       "\n",
       "    .dataframe thead th {\n",
       "        text-align: right;\n",
       "    }\n",
       "</style>\n",
       "<table border=\"1\" class=\"dataframe\">\n",
       "  <thead>\n",
       "    <tr style=\"text-align: right;\">\n",
       "      <th></th>\n",
       "      <th>na_sales</th>\n",
       "      <th>platform</th>\n",
       "      <th>genre</th>\n",
       "      <th>rating</th>\n",
       "      <th>rating_cat</th>\n",
       "    </tr>\n",
       "  </thead>\n",
       "  <tbody>\n",
       "    <tr>\n",
       "      <th>16</th>\n",
       "      <td>7.02</td>\n",
       "      <td>PS3</td>\n",
       "      <td>Action</td>\n",
       "      <td>M</td>\n",
       "      <td>4</td>\n",
       "    </tr>\n",
       "    <tr>\n",
       "      <th>23</th>\n",
       "      <td>9.66</td>\n",
       "      <td>X360</td>\n",
       "      <td>Action</td>\n",
       "      <td>M</td>\n",
       "      <td>4</td>\n",
       "    </tr>\n",
       "    <tr>\n",
       "      <th>34</th>\n",
       "      <td>4.99</td>\n",
       "      <td>PS3</td>\n",
       "      <td>Shooter</td>\n",
       "      <td>M</td>\n",
       "      <td>4</td>\n",
       "    </tr>\n",
       "    <tr>\n",
       "      <th>35</th>\n",
       "      <td>8.25</td>\n",
       "      <td>X360</td>\n",
       "      <td>Shooter</td>\n",
       "      <td>M</td>\n",
       "      <td>4</td>\n",
       "    </tr>\n",
       "    <tr>\n",
       "      <th>42</th>\n",
       "      <td>3.96</td>\n",
       "      <td>PS4</td>\n",
       "      <td>Action</td>\n",
       "      <td>M</td>\n",
       "      <td>4</td>\n",
       "    </tr>\n",
       "    <tr>\n",
       "      <th>60</th>\n",
       "      <td>6.73</td>\n",
       "      <td>X360</td>\n",
       "      <td>Shooter</td>\n",
       "      <td>M</td>\n",
       "      <td>4</td>\n",
       "    </tr>\n",
       "    <tr>\n",
       "      <th>62</th>\n",
       "      <td>3.66</td>\n",
       "      <td>3DS</td>\n",
       "      <td>Platform</td>\n",
       "      <td>E</td>\n",
       "      <td>1</td>\n",
       "    </tr>\n",
       "    <tr>\n",
       "      <th>66</th>\n",
       "      <td>6.65</td>\n",
       "      <td>X360</td>\n",
       "      <td>Shooter</td>\n",
       "      <td>M</td>\n",
       "      <td>4</td>\n",
       "    </tr>\n",
       "    <tr>\n",
       "      <th>69</th>\n",
       "      <td>4.10</td>\n",
       "      <td>PS3</td>\n",
       "      <td>Shooter</td>\n",
       "      <td>M</td>\n",
       "      <td>4</td>\n",
       "    </tr>\n",
       "    <tr>\n",
       "      <th>73</th>\n",
       "      <td>2.03</td>\n",
       "      <td>3DS</td>\n",
       "      <td>Simulation</td>\n",
       "      <td>E</td>\n",
       "      <td>1</td>\n",
       "    </tr>\n",
       "    <tr>\n",
       "      <th>77</th>\n",
       "      <td>1.12</td>\n",
       "      <td>PS4</td>\n",
       "      <td>Sports</td>\n",
       "      <td>E</td>\n",
       "      <td>1</td>\n",
       "    </tr>\n",
       "    <tr>\n",
       "      <th>81</th>\n",
       "      <td>1.06</td>\n",
       "      <td>PS3</td>\n",
       "      <td>Action</td>\n",
       "      <td>E</td>\n",
       "      <td>1</td>\n",
       "    </tr>\n",
       "    <tr>\n",
       "      <th>92</th>\n",
       "      <td>2.81</td>\n",
       "      <td>PS4</td>\n",
       "      <td>Shooter</td>\n",
       "      <td>M</td>\n",
       "      <td>4</td>\n",
       "    </tr>\n",
       "    <tr>\n",
       "      <th>94</th>\n",
       "      <td>0.66</td>\n",
       "      <td>PS4</td>\n",
       "      <td>Sports</td>\n",
       "      <td>E</td>\n",
       "      <td>1</td>\n",
       "    </tr>\n",
       "    <tr>\n",
       "      <th>105</th>\n",
       "      <td>2.53</td>\n",
       "      <td>PS4</td>\n",
       "      <td>Role-Playing</td>\n",
       "      <td>M</td>\n",
       "      <td>4</td>\n",
       "    </tr>\n",
       "    <tr>\n",
       "      <th>110</th>\n",
       "      <td>3.15</td>\n",
       "      <td>WiiU</td>\n",
       "      <td>Racing</td>\n",
       "      <td>E</td>\n",
       "      <td>1</td>\n",
       "    </tr>\n",
       "    <tr>\n",
       "      <th>116</th>\n",
       "      <td>4.05</td>\n",
       "      <td>Wii</td>\n",
       "      <td>Misc</td>\n",
       "      <td>E10+</td>\n",
       "      <td>2</td>\n",
       "    </tr>\n",
       "    <tr>\n",
       "      <th>126</th>\n",
       "      <td>0.78</td>\n",
       "      <td>PS3</td>\n",
       "      <td>Sports</td>\n",
       "      <td>E</td>\n",
       "      <td>1</td>\n",
       "    </tr>\n",
       "    <tr>\n",
       "      <th>127</th>\n",
       "      <td>2.64</td>\n",
       "      <td>PS3</td>\n",
       "      <td>Action</td>\n",
       "      <td>M</td>\n",
       "      <td>4</td>\n",
       "    </tr>\n",
       "    <tr>\n",
       "      <th>143</th>\n",
       "      <td>0.80</td>\n",
       "      <td>PS4</td>\n",
       "      <td>Sports</td>\n",
       "      <td>E</td>\n",
       "      <td>1</td>\n",
       "    </tr>\n",
       "  </tbody>\n",
       "</table>\n",
       "</div>"
      ],
      "text/plain": [
       "     na_sales platform         genre rating  rating_cat\n",
       "16       7.02      PS3        Action      M           4\n",
       "23       9.66     X360        Action      M           4\n",
       "34       4.99      PS3       Shooter      M           4\n",
       "35       8.25     X360       Shooter      M           4\n",
       "42       3.96      PS4        Action      M           4\n",
       "60       6.73     X360       Shooter      M           4\n",
       "62       3.66      3DS      Platform      E           1\n",
       "66       6.65     X360       Shooter      M           4\n",
       "69       4.10      PS3       Shooter      M           4\n",
       "73       2.03      3DS    Simulation      E           1\n",
       "77       1.12      PS4        Sports      E           1\n",
       "81       1.06      PS3        Action      E           1\n",
       "92       2.81      PS4       Shooter      M           4\n",
       "94       0.66      PS4        Sports      E           1\n",
       "105      2.53      PS4  Role-Playing      M           4\n",
       "110      3.15     WiiU        Racing      E           1\n",
       "116      4.05      Wii          Misc   E10+           2\n",
       "126      0.78      PS3        Sports      E           1\n",
       "127      2.64      PS3        Action      M           4\n",
       "143      0.80      PS4        Sports      E           1"
      ]
     },
     "metadata": {},
     "output_type": "display_data"
    }
   ],
   "source": [
    "print(df['rating'].unique())\n",
    "\n",
    "def rating_cat(row):\n",
    "    if row['rating'] == 'E':\n",
    "        return 1\n",
    "    elif row['rating'] == 'E10+':\n",
    "        return 2\n",
    "    elif row['rating'] == 'T':\n",
    "        return 3\n",
    "    return 4\n",
    "\n",
    "df_na['rating_cat'] = df_na.apply(rating_cat, axis = 1)\n",
    "df_eu['rating_cat'] = df_eu.apply(rating_cat, axis = 1)\n",
    "df_jp['rating_cat'] = df_jp.apply(rating_cat, axis = 1)\n",
    "\n",
    "display(df_na.head(20))"
   ]
  },
  {
   "cell_type": "markdown",
   "metadata": {},
   "source": [
    "I look at the list of ratings and write a function to match them with category numbers. Next, I apply the function to the dataframes of the regions."
   ]
  },
  {
   "cell_type": "code",
   "execution_count": 34,
   "metadata": {},
   "outputs": [
    {
     "name": "stdout",
     "output_type": "stream",
     "text": [
      "Correlation between sales and age rating:\n",
      "\n",
      "North America\n",
      "0.08902967110546689\n",
      "\n",
      "Europe\n",
      "0.05959965918542144\n",
      "\n",
      "Japan\n",
      "-0.03568696539945692\n"
     ]
    }
   ],
   "source": [
    "print('Correlation between sales and age rating:')\n",
    "print()\n",
    "print('North America')\n",
    "print(df_na['rating_cat'].corr(df_na['na_sales']))\n",
    "print()\n",
    "print('Europe')\n",
    "print(df_eu['rating_cat'].corr(df_eu['eu_sales']))\n",
    "print()\n",
    "print('Japan')\n",
    "print(df_jp['rating_cat'].corr(df_jp['jp_sales']))"
   ]
  },
  {
   "cell_type": "markdown",
   "metadata": {},
   "source": [
    "Next, I calculate the correlations between sales and age rating.\n",
    "\n",
    "In all three regions, the relations between the rating and sales success is tend to zero. Which is understandable, a good or bad game can be made for any audience, and both adults and children are equally active in computer games (the volume of markets does not differ much)."
   ]
  },
  {
   "cell_type": "markdown",
   "metadata": {},
   "source": [
    "## Test Hypotheses"
   ]
  },
  {
   "cell_type": "markdown",
   "metadata": {},
   "source": [
    "### The average userы ratings of the Xbox One and PC platforms are the same"
   ]
  },
  {
   "cell_type": "code",
   "execution_count": 35,
   "metadata": {},
   "outputs": [
    {
     "name": "stdout",
     "output_type": "stream",
     "text": [
      "0.5535080500643661\n",
      "Can't reject the null hypothesis\n"
     ]
    }
   ],
   "source": [
    "alpha = .05\n",
    "us_scor = df.loc[df['user_score'].notna()]\n",
    "\n",
    "plat_rat = st.ttest_ind(us_scor.loc[us_scor['platform'] == 'XOne', \"user_score\"], us_scor.loc[us_scor['platform'] == 'PC', \"user_score\"])\n",
    "\n",
    "print(plat_rat.pvalue)\n",
    "\n",
    "if plat_rat.pvalue < alpha:\n",
    "    print(\"Rejecting the null hypothesis\")\n",
    "else:\n",
    "    print(\"Can't reject the null hypothesis\") "
   ]
  },
  {
   "cell_type": "markdown",
   "metadata": {},
   "source": [
    "To test the first assumption, I formulate the null and alternative hypotheses:\n",
    "\n",
    "H0 - The average user ratings of the Xbox One and PC platforms are equal.\n",
    "\n",
    "H1 - The average user ratings of the Xbox One and PC platforms differ.\n",
    "\n",
    "I create a df without gaps with the user estimates and perform a statistical check for the significance of the differences in the means of the two samples.\n",
    "\n",
    "I use the t-test to check. The hypothesis is two-sided, it is not necessary to divide the resulting p-value. I take the alpha significance level as standard.\n",
    "\n",
    "As a result of the check, we get p = 0.55 - there can be no talk of any significant differences. Obviously both successful and unsuccessful games come out on both platforms."
   ]
  },
  {
   "cell_type": "markdown",
   "metadata": {},
   "source": [
    "### Average user ratings for the Action and Sports genres are different"
   ]
  },
  {
   "cell_type": "code",
   "execution_count": 36,
   "metadata": {},
   "outputs": [
    {
     "name": "stdout",
     "output_type": "stream",
     "text": [
      "3.7163089460934874e-26\n",
      "Rejecting the null hypothesis\n"
     ]
    }
   ],
   "source": [
    "gen_rat = st.ttest_ind(us_scor.loc[us_scor['genre'] == 'Action', \"user_score\"], us_scor.loc[us_scor['genre'] == 'Sports', \"user_score\"])\n",
    "\n",
    "print(gen_rat.pvalue)\n",
    "\n",
    "if gen_rat.pvalue < alpha:\n",
    "    print(\"Rejecting the null hypothesis\")\n",
    "else:\n",
    "    print(\"Can't reject the null hypothesis\") "
   ]
  },
  {
   "cell_type": "markdown",
   "metadata": {},
   "source": [
    "For the second assumption, the hypotheses will be:\n",
    "\n",
    "H0 - the average user ratings of the Action and Sports genres are the same.\n",
    "\n",
    "H1 - the average user ratings of the Action and Sports genres differ significantly.\n",
    "\n",
    "I use the same dataset and the same level of significance.\n",
    "\n",
    "The null hypothesis is categorically rejected. This is strange, because it would seem that each genre has its own audience, and no one forces you to play unloved games. However, the fact remains, we can only accept the numbers."
   ]
  },
  {
   "cell_type": "markdown",
   "metadata": {},
   "source": [
    "## Conclusions"
   ]
  },
  {
   "cell_type": "markdown",
   "metadata": {},
   "source": [
    "Based on the results of the study, I can give clients the following recommendations:\n",
    "- It is worth focusing on the XOne, PS4 and 3DS platforms. PS3, although included in the top five in all regions, rather rests on laurels - the last three years, sales on the platform are not very good and declining. PS4 deserves special attention, as sales on this platform over the past two years are greater than on the other two combined (188.15 million versus 129.21 million for 3DS and Xone combined).\n",
    "- When planning work, you should not rely on user reviews - their enthusiasm and disappointment do not particularly correlate with the willingness to pay money (the correlation coefficient ranges from 0.2 to -0.09 - as you understand, these numbers are closer to zero than to some kind of relationship). But the reviews of critics are worth listening to, obviously, they analyze the basic needs of the gaming world, and not subjective experience. Also not perfect, their estimates correlate with sales by 30-40%.\n",
    "- It is worth paying attention to the fact that the genres in which the most games are released and the genres in which games are best sold are not exactly the same genres. So, adventures take the third place in terms of the volume of released games, but in terms of sales they are third from the bottom. If you want to make a large assortment and not lose revenue, then it is best to focus on the Action, RPG, Shooter and Sports genres - these are the top 4 in terms of sales and the top 5 (together with adventure) in terms of released games. Action - the undisputed leader, sales are about 400 million. Shooters, with a relatively small number of released games, are sold for 300 million, obviously each of these positions is in demand. Role-playing and sports games have sales of about 200 million, despite the fact that both of them are produced more than shooters.\n",
    "- Japan is very different from Europe and North America in terms of preferences, both in preferred platforms and in favorite genres. So, the most popular PS4 in Europe and North America (about 140 and 110 million sales, respectively) in Japan barely even reached 16 million. And in general, the Japanese market is much smaller - sales for the most popular genre of games in the CA and the EU are 178 and 159 million copies, and only 65 million in Japan. Think carefully about whether you need this market, and if so, get ready to expand the range for specific requests.\n",
    "- The age rating of the game does not affect sales. You can even sell Teletubbies if it's Action with a high critics score.\n",
    "- If new platforms appear, it is better to add them to the assortment closer to their first birthday. Most of the platforms don't survive one year, but in survivors the peak of interest falls on the second or third year of existence - the gaming world is characterized by interest in new products. In 5-7 years this platform will most likely disappear."
   ]
  }
 ],
 "metadata": {
  "ExecuteTimeLog": [
   {
    "duration": 573,
    "start_time": "2022-01-15T15:16:01.793Z"
   },
   {
    "duration": 55,
    "start_time": "2022-01-15T15:25:14.214Z"
   },
   {
    "duration": 70,
    "start_time": "2022-01-15T15:25:52.874Z"
   },
   {
    "duration": 3,
    "start_time": "2022-01-15T15:25:56.626Z"
   },
   {
    "duration": 57,
    "start_time": "2022-01-15T15:32:24.273Z"
   },
   {
    "duration": 17,
    "start_time": "2022-01-15T15:50:37.552Z"
   },
   {
    "duration": 12,
    "start_time": "2022-01-15T15:53:30.092Z"
   },
   {
    "duration": 16,
    "start_time": "2022-01-15T16:01:27.531Z"
   },
   {
    "duration": 12,
    "start_time": "2022-01-15T16:01:42.960Z"
   },
   {
    "duration": 279,
    "start_time": "2022-01-15T16:22:19.895Z"
   },
   {
    "duration": 229,
    "start_time": "2022-01-15T16:22:35.083Z"
   },
   {
    "duration": 77,
    "start_time": "2022-01-15T16:23:22.294Z"
   },
   {
    "duration": 4,
    "start_time": "2022-01-15T16:23:28.380Z"
   },
   {
    "duration": 260,
    "start_time": "2022-01-15T16:23:51.448Z"
   },
   {
    "duration": 229,
    "start_time": "2022-01-15T16:29:10.027Z"
   },
   {
    "duration": 15955,
    "start_time": "2022-01-15T16:32:05.695Z"
   },
   {
    "duration": 4,
    "start_time": "2022-01-15T16:32:51.830Z"
   },
   {
    "duration": 12,
    "start_time": "2022-01-15T16:33:16.259Z"
   },
   {
    "duration": 3,
    "start_time": "2022-01-15T16:33:35.071Z"
   },
   {
    "duration": 234,
    "start_time": "2022-01-15T16:35:47.247Z"
   },
   {
    "duration": 423,
    "start_time": "2022-01-15T16:35:53.198Z"
   },
   {
    "duration": 32,
    "start_time": "2022-01-15T16:35:56.806Z"
   },
   {
    "duration": 30,
    "start_time": "2022-01-15T16:36:10.575Z"
   },
   {
    "duration": 17640,
    "start_time": "2022-01-15T16:38:37.955Z"
   },
   {
    "duration": 16797,
    "start_time": "2022-01-15T16:39:13.173Z"
   },
   {
    "duration": 1549,
    "start_time": "2022-01-15T16:40:15.082Z"
   },
   {
    "duration": 62,
    "start_time": "2022-01-15T16:40:16.633Z"
   },
   {
    "duration": 24,
    "start_time": "2022-01-15T16:40:16.697Z"
   },
   {
    "duration": 24,
    "start_time": "2022-01-15T16:40:16.723Z"
   },
   {
    "duration": 15916,
    "start_time": "2022-01-15T16:40:19.095Z"
   },
   {
    "duration": 1029,
    "start_time": "2022-01-15T16:41:24.402Z"
   },
   {
    "duration": 60,
    "start_time": "2022-01-15T16:41:25.433Z"
   },
   {
    "duration": 20,
    "start_time": "2022-01-15T16:41:25.495Z"
   },
   {
    "duration": 26,
    "start_time": "2022-01-15T16:41:25.517Z"
   },
   {
    "duration": 16329,
    "start_time": "2022-01-15T16:41:29.713Z"
   },
   {
    "duration": 302,
    "start_time": "2022-01-15T16:45:12.288Z"
   },
   {
    "duration": 312,
    "start_time": "2022-01-15T16:53:48.375Z"
   },
   {
    "duration": 4,
    "start_time": "2022-01-15T16:54:07.549Z"
   },
   {
    "duration": 3468,
    "start_time": "2022-01-15T16:54:22.201Z"
   },
   {
    "duration": 222,
    "start_time": "2022-01-15T16:54:28.754Z"
   },
   {
    "duration": 1111,
    "start_time": "2022-01-15T16:54:46.823Z"
   },
   {
    "duration": 57,
    "start_time": "2022-01-15T16:54:47.936Z"
   },
   {
    "duration": 22,
    "start_time": "2022-01-15T16:54:47.995Z"
   },
   {
    "duration": 14,
    "start_time": "2022-01-15T16:54:48.019Z"
   },
   {
    "duration": 16422,
    "start_time": "2022-01-15T16:54:48.041Z"
   },
   {
    "duration": 12,
    "start_time": "2022-01-15T16:55:15.069Z"
   },
   {
    "duration": 24,
    "start_time": "2022-01-15T16:55:43.143Z"
   },
   {
    "duration": 80,
    "start_time": "2022-01-15T16:56:28.125Z"
   },
   {
    "duration": 20,
    "start_time": "2022-01-15T16:56:38.221Z"
   },
   {
    "duration": 12,
    "start_time": "2022-01-15T17:03:55.417Z"
   },
   {
    "duration": 13,
    "start_time": "2022-01-15T17:05:29.612Z"
   },
   {
    "duration": 25,
    "start_time": "2022-01-15T17:05:41.427Z"
   },
   {
    "duration": 12,
    "start_time": "2022-01-15T17:05:49.361Z"
   },
   {
    "duration": 16,
    "start_time": "2022-01-15T17:06:00.979Z"
   },
   {
    "duration": 13,
    "start_time": "2022-01-15T17:06:08.909Z"
   },
   {
    "duration": 12,
    "start_time": "2022-01-15T17:06:13.189Z"
   },
   {
    "duration": 16,
    "start_time": "2022-01-15T17:06:22.236Z"
   },
   {
    "duration": 11,
    "start_time": "2022-01-15T17:06:31.502Z"
   },
   {
    "duration": 11,
    "start_time": "2022-01-15T17:06:35.749Z"
   },
   {
    "duration": 11,
    "start_time": "2022-01-15T17:06:42.365Z"
   },
   {
    "duration": 12,
    "start_time": "2022-01-15T17:06:47.520Z"
   },
   {
    "duration": 13,
    "start_time": "2022-01-15T17:06:57.001Z"
   },
   {
    "duration": 13,
    "start_time": "2022-01-15T17:07:03.729Z"
   },
   {
    "duration": 14,
    "start_time": "2022-01-15T17:07:07.936Z"
   },
   {
    "duration": 13,
    "start_time": "2022-01-15T17:07:13.564Z"
   },
   {
    "duration": 13,
    "start_time": "2022-01-15T17:07:16.580Z"
   },
   {
    "duration": 13,
    "start_time": "2022-01-15T17:07:21.767Z"
   },
   {
    "duration": 12,
    "start_time": "2022-01-15T17:07:24.684Z"
   },
   {
    "duration": 12,
    "start_time": "2022-01-15T17:07:28.598Z"
   },
   {
    "duration": 13,
    "start_time": "2022-01-15T17:07:34.845Z"
   },
   {
    "duration": 31,
    "start_time": "2022-01-15T17:07:41.493Z"
   },
   {
    "duration": 12,
    "start_time": "2022-01-15T17:07:51.444Z"
   },
   {
    "duration": 12,
    "start_time": "2022-01-15T17:07:54.162Z"
   },
   {
    "duration": 15,
    "start_time": "2022-01-15T17:07:58.472Z"
   },
   {
    "duration": 13,
    "start_time": "2022-01-15T17:08:06.848Z"
   },
   {
    "duration": 12,
    "start_time": "2022-01-15T17:08:24.324Z"
   },
   {
    "duration": 7,
    "start_time": "2022-01-15T17:10:25.966Z"
   },
   {
    "duration": 14,
    "start_time": "2022-01-15T17:10:44.949Z"
   },
   {
    "duration": 12,
    "start_time": "2022-01-15T17:14:19.615Z"
   },
   {
    "duration": 324,
    "start_time": "2022-01-15T17:14:43.775Z"
   },
   {
    "duration": 14,
    "start_time": "2022-01-15T17:20:34.666Z"
   },
   {
    "duration": 14,
    "start_time": "2022-01-15T17:21:01.135Z"
   },
   {
    "duration": 15,
    "start_time": "2022-01-15T17:21:29.171Z"
   },
   {
    "duration": 14,
    "start_time": "2022-01-15T17:25:09.504Z"
   },
   {
    "duration": 16,
    "start_time": "2022-01-15T17:25:22.112Z"
   },
   {
    "duration": 19,
    "start_time": "2022-01-15T17:28:57.268Z"
   },
   {
    "duration": 19,
    "start_time": "2022-01-15T17:29:29.589Z"
   },
   {
    "duration": 20,
    "start_time": "2022-01-15T17:31:27.432Z"
   },
   {
    "duration": 20,
    "start_time": "2022-01-15T17:32:14.223Z"
   },
   {
    "duration": 17,
    "start_time": "2022-01-15T17:33:31.583Z"
   },
   {
    "duration": 6175,
    "start_time": "2022-01-15T17:42:01.580Z"
   },
   {
    "duration": 5,
    "start_time": "2022-01-15T17:42:22.674Z"
   },
   {
    "duration": 8,
    "start_time": "2022-01-15T17:52:35.046Z"
   },
   {
    "duration": 245,
    "start_time": "2022-01-15T17:53:11.521Z"
   },
   {
    "duration": 5,
    "start_time": "2022-01-15T17:54:50.037Z"
   },
   {
    "duration": 13,
    "start_time": "2022-01-15T17:55:16.064Z"
   },
   {
    "duration": 248,
    "start_time": "2022-01-15T17:56:12.202Z"
   },
   {
    "duration": 236,
    "start_time": "2022-01-15T17:56:26.189Z"
   },
   {
    "duration": 303,
    "start_time": "2022-01-15T18:10:51.109Z"
   },
   {
    "duration": 13,
    "start_time": "2022-01-15T18:12:14.267Z"
   },
   {
    "duration": 18,
    "start_time": "2022-01-15T18:12:51.571Z"
   },
   {
    "duration": 1139,
    "start_time": "2022-01-15T18:13:01.657Z"
   },
   {
    "duration": 75,
    "start_time": "2022-01-15T18:13:02.798Z"
   },
   {
    "duration": 36,
    "start_time": "2022-01-15T18:13:02.876Z"
   },
   {
    "duration": 6650,
    "start_time": "2022-01-15T18:13:02.915Z"
   },
   {
    "duration": 2093,
    "start_time": "2022-01-15T18:13:07.474Z"
   },
   {
    "duration": 2091,
    "start_time": "2022-01-15T18:13:07.477Z"
   },
   {
    "duration": 2088,
    "start_time": "2022-01-15T18:13:07.481Z"
   },
   {
    "duration": 2086,
    "start_time": "2022-01-15T18:13:07.484Z"
   },
   {
    "duration": 3,
    "start_time": "2022-01-15T18:14:21.618Z"
   },
   {
    "duration": 58,
    "start_time": "2022-01-15T18:14:21.624Z"
   },
   {
    "duration": 23,
    "start_time": "2022-01-15T18:14:21.684Z"
   },
   {
    "duration": 32,
    "start_time": "2022-01-15T18:14:21.709Z"
   },
   {
    "duration": 4,
    "start_time": "2022-01-15T18:14:21.743Z"
   },
   {
    "duration": 8,
    "start_time": "2022-01-15T18:14:21.749Z"
   },
   {
    "duration": 31,
    "start_time": "2022-01-15T18:14:21.758Z"
   },
   {
    "duration": 24,
    "start_time": "2022-01-15T18:14:21.791Z"
   },
   {
    "duration": 30,
    "start_time": "2022-01-15T18:14:36.563Z"
   },
   {
    "duration": 255,
    "start_time": "2022-01-15T18:15:13.337Z"
   },
   {
    "duration": 383,
    "start_time": "2022-01-15T18:15:49.456Z"
   },
   {
    "duration": 2115,
    "start_time": "2022-01-15T18:15:47.726Z"
   },
   {
    "duration": 1191,
    "start_time": "2022-01-15T18:16:00.505Z"
   },
   {
    "duration": 83,
    "start_time": "2022-01-15T18:16:01.699Z"
   },
   {
    "duration": 36,
    "start_time": "2022-01-15T18:16:01.784Z"
   },
   {
    "duration": 31,
    "start_time": "2022-01-15T18:16:01.822Z"
   },
   {
    "duration": 36,
    "start_time": "2022-01-15T18:16:01.855Z"
   },
   {
    "duration": 23,
    "start_time": "2022-01-15T18:16:01.893Z"
   },
   {
    "duration": 53,
    "start_time": "2022-01-15T18:16:01.918Z"
   },
   {
    "duration": 64,
    "start_time": "2022-01-15T18:16:01.973Z"
   },
   {
    "duration": 385,
    "start_time": "2022-01-15T18:16:06.254Z"
   },
   {
    "duration": 29,
    "start_time": "2022-01-15T18:17:24.400Z"
   },
   {
    "duration": 20,
    "start_time": "2022-01-15T18:17:51.142Z"
   },
   {
    "duration": 1050,
    "start_time": "2022-01-15T18:18:17.778Z"
   },
   {
    "duration": 57,
    "start_time": "2022-01-15T18:18:18.829Z"
   },
   {
    "duration": 25,
    "start_time": "2022-01-15T18:18:18.888Z"
   },
   {
    "duration": 28,
    "start_time": "2022-01-15T18:18:18.915Z"
   },
   {
    "duration": 6,
    "start_time": "2022-01-15T18:18:18.945Z"
   },
   {
    "duration": 5,
    "start_time": "2022-01-15T18:18:18.953Z"
   },
   {
    "duration": 4,
    "start_time": "2022-01-15T18:18:18.960Z"
   },
   {
    "duration": 17,
    "start_time": "2022-01-15T18:18:18.966Z"
   },
   {
    "duration": 28,
    "start_time": "2022-01-15T18:18:22.468Z"
   },
   {
    "duration": 19,
    "start_time": "2022-01-15T18:18:38.467Z"
   },
   {
    "duration": 24,
    "start_time": "2022-01-15T18:18:51.629Z"
   },
   {
    "duration": 12,
    "start_time": "2022-01-15T18:21:20.457Z"
   },
   {
    "duration": 4066,
    "start_time": "2022-01-15T18:26:19.652Z"
   },
   {
    "duration": 430,
    "start_time": "2022-01-15T18:26:42.665Z"
   },
   {
    "duration": 222,
    "start_time": "2022-01-15T18:30:09.625Z"
   },
   {
    "duration": 1347,
    "start_time": "2022-01-17T11:10:33.194Z"
   },
   {
    "duration": 83,
    "start_time": "2022-01-17T11:10:34.544Z"
   },
   {
    "duration": 37,
    "start_time": "2022-01-17T11:10:34.630Z"
   },
   {
    "duration": 22,
    "start_time": "2022-01-17T11:10:34.670Z"
   },
   {
    "duration": 12,
    "start_time": "2022-01-17T11:10:34.723Z"
   },
   {
    "duration": 13,
    "start_time": "2022-01-17T11:10:34.737Z"
   },
   {
    "duration": 19,
    "start_time": "2022-01-17T11:10:34.752Z"
   },
   {
    "duration": 24,
    "start_time": "2022-01-17T11:10:34.774Z"
   },
   {
    "duration": 44,
    "start_time": "2022-01-17T11:10:34.800Z"
   },
   {
    "duration": 18,
    "start_time": "2022-01-17T11:10:34.846Z"
   },
   {
    "duration": 754,
    "start_time": "2022-01-17T11:10:45.233Z"
   },
   {
    "duration": 13,
    "start_time": "2022-01-17T11:13:57.889Z"
   },
   {
    "duration": 31,
    "start_time": "2022-01-17T11:14:15.028Z"
   },
   {
    "duration": 9,
    "start_time": "2022-01-17T11:16:26.460Z"
   },
   {
    "duration": 4,
    "start_time": "2022-01-17T11:24:35.867Z"
   },
   {
    "duration": 76,
    "start_time": "2022-01-17T11:24:35.873Z"
   },
   {
    "duration": 35,
    "start_time": "2022-01-17T11:24:35.953Z"
   },
   {
    "duration": 37,
    "start_time": "2022-01-17T11:24:35.991Z"
   },
   {
    "duration": 7,
    "start_time": "2022-01-17T11:24:36.031Z"
   },
   {
    "duration": 8,
    "start_time": "2022-01-17T11:24:36.040Z"
   },
   {
    "duration": 5,
    "start_time": "2022-01-17T11:24:36.051Z"
   },
   {
    "duration": 24,
    "start_time": "2022-01-17T11:24:36.059Z"
   },
   {
    "duration": 70,
    "start_time": "2022-01-17T11:24:36.085Z"
   },
   {
    "duration": 18,
    "start_time": "2022-01-17T11:24:36.157Z"
   },
   {
    "duration": 805,
    "start_time": "2022-01-17T11:24:36.177Z"
   },
   {
    "duration": 322,
    "start_time": "2022-01-17T11:32:43.059Z"
   },
   {
    "duration": 264,
    "start_time": "2022-01-17T11:33:18.633Z"
   },
   {
    "duration": 256,
    "start_time": "2022-01-17T11:33:29.869Z"
   },
   {
    "duration": 494,
    "start_time": "2022-01-17T11:34:14.353Z"
   },
   {
    "duration": 246,
    "start_time": "2022-01-17T11:34:35.559Z"
   },
   {
    "duration": 235,
    "start_time": "2022-01-17T11:42:41.606Z"
   },
   {
    "duration": 229,
    "start_time": "2022-01-17T11:43:10.649Z"
   },
   {
    "duration": 504,
    "start_time": "2022-01-17T12:44:36.279Z"
   },
   {
    "duration": 6,
    "start_time": "2022-01-17T12:45:31.979Z"
   },
   {
    "duration": 5,
    "start_time": "2022-01-17T12:46:08.516Z"
   },
   {
    "duration": 5,
    "start_time": "2022-01-17T12:49:06.714Z"
   },
   {
    "duration": 333,
    "start_time": "2022-01-17T12:49:22.056Z"
   },
   {
    "duration": 356,
    "start_time": "2022-01-17T12:49:43.995Z"
   },
   {
    "duration": 10636,
    "start_time": "2022-01-17T12:49:59.167Z"
   },
   {
    "duration": 10,
    "start_time": "2022-01-17T12:50:26.356Z"
   },
   {
    "duration": 11,
    "start_time": "2022-01-17T12:51:42.125Z"
   },
   {
    "duration": 307,
    "start_time": "2022-01-17T12:52:56.917Z"
   },
   {
    "duration": 378,
    "start_time": "2022-01-17T12:53:46.437Z"
   },
   {
    "duration": 16,
    "start_time": "2022-01-17T12:53:55.052Z"
   },
   {
    "duration": 31,
    "start_time": "2022-01-17T12:54:14.584Z"
   },
   {
    "duration": 298,
    "start_time": "2022-01-17T12:57:07.660Z"
   },
   {
    "duration": 1343,
    "start_time": "2022-01-17T12:57:37.427Z"
   },
   {
    "duration": 75,
    "start_time": "2022-01-17T12:57:38.773Z"
   },
   {
    "duration": 36,
    "start_time": "2022-01-17T12:57:38.851Z"
   },
   {
    "duration": 46,
    "start_time": "2022-01-17T12:57:38.890Z"
   },
   {
    "duration": 12,
    "start_time": "2022-01-17T12:57:38.938Z"
   },
   {
    "duration": 6,
    "start_time": "2022-01-17T12:57:38.952Z"
   },
   {
    "duration": 6,
    "start_time": "2022-01-17T12:57:38.960Z"
   },
   {
    "duration": 25,
    "start_time": "2022-01-17T12:57:38.969Z"
   },
   {
    "duration": 60,
    "start_time": "2022-01-17T12:57:38.997Z"
   },
   {
    "duration": 18,
    "start_time": "2022-01-17T12:57:39.059Z"
   },
   {
    "duration": 809,
    "start_time": "2022-01-17T12:57:39.080Z"
   },
   {
    "duration": 262,
    "start_time": "2022-01-17T12:57:39.891Z"
   },
   {
    "duration": 418,
    "start_time": "2022-01-17T12:58:37.923Z"
   },
   {
    "duration": 29,
    "start_time": "2022-01-17T13:00:12.959Z"
   },
   {
    "duration": 1448,
    "start_time": "2022-01-17T13:01:42.424Z"
   },
   {
    "duration": 72,
    "start_time": "2022-01-17T13:01:43.875Z"
   },
   {
    "duration": 37,
    "start_time": "2022-01-17T13:01:43.950Z"
   },
   {
    "duration": 46,
    "start_time": "2022-01-17T13:01:43.990Z"
   },
   {
    "duration": 7,
    "start_time": "2022-01-17T13:01:44.039Z"
   },
   {
    "duration": 7,
    "start_time": "2022-01-17T13:01:44.048Z"
   },
   {
    "duration": 7,
    "start_time": "2022-01-17T13:01:44.057Z"
   },
   {
    "duration": 23,
    "start_time": "2022-01-17T13:01:44.067Z"
   },
   {
    "duration": 43,
    "start_time": "2022-01-17T13:01:44.123Z"
   },
   {
    "duration": 21,
    "start_time": "2022-01-17T13:01:44.168Z"
   },
   {
    "duration": 808,
    "start_time": "2022-01-17T13:01:44.191Z"
   },
   {
    "duration": 264,
    "start_time": "2022-01-17T13:01:45.002Z"
   },
   {
    "duration": 427,
    "start_time": "2022-01-17T13:01:47.866Z"
   },
   {
    "duration": 31,
    "start_time": "2022-01-17T13:05:53.083Z"
   },
   {
    "duration": 39,
    "start_time": "2022-01-17T13:06:13.742Z"
   },
   {
    "duration": 57,
    "start_time": "2022-01-17T13:06:42.806Z"
   },
   {
    "duration": 34,
    "start_time": "2022-01-17T13:07:03.852Z"
   },
   {
    "duration": 335,
    "start_time": "2022-01-17T13:08:26.316Z"
   },
   {
    "duration": 13,
    "start_time": "2022-01-17T13:08:42.401Z"
   },
   {
    "duration": 408,
    "start_time": "2022-01-17T13:08:50.792Z"
   },
   {
    "duration": 13,
    "start_time": "2022-01-17T13:08:56.510Z"
   },
   {
    "duration": 14,
    "start_time": "2022-01-17T13:09:25.211Z"
   },
   {
    "duration": 366,
    "start_time": "2022-01-17T13:11:04.680Z"
   },
   {
    "duration": 12,
    "start_time": "2022-01-17T13:11:19.916Z"
   },
   {
    "duration": 12,
    "start_time": "2022-01-17T13:11:39.994Z"
   },
   {
    "duration": 8921,
    "start_time": "2022-01-17T13:13:58.966Z"
   },
   {
    "duration": 5,
    "start_time": "2022-01-17T13:14:10.481Z"
   },
   {
    "duration": 19,
    "start_time": "2022-01-17T13:15:11.367Z"
   },
   {
    "duration": 8,
    "start_time": "2022-01-17T13:16:26.451Z"
   },
   {
    "duration": 91,
    "start_time": "2022-01-17T13:16:26.461Z"
   },
   {
    "duration": 36,
    "start_time": "2022-01-17T13:16:26.554Z"
   },
   {
    "duration": 47,
    "start_time": "2022-01-17T13:16:26.593Z"
   },
   {
    "duration": 8,
    "start_time": "2022-01-17T13:16:26.643Z"
   },
   {
    "duration": 4,
    "start_time": "2022-01-17T13:16:26.653Z"
   },
   {
    "duration": 6,
    "start_time": "2022-01-17T13:16:26.659Z"
   },
   {
    "duration": 25,
    "start_time": "2022-01-17T13:16:26.667Z"
   },
   {
    "duration": 41,
    "start_time": "2022-01-17T13:16:26.723Z"
   },
   {
    "duration": 22,
    "start_time": "2022-01-17T13:16:26.766Z"
   },
   {
    "duration": 783,
    "start_time": "2022-01-17T13:16:26.790Z"
   },
   {
    "duration": 246,
    "start_time": "2022-01-17T13:16:27.577Z"
   },
   {
    "duration": 15,
    "start_time": "2022-01-17T13:16:35.433Z"
   },
   {
    "duration": 26,
    "start_time": "2022-01-17T13:19:17.624Z"
   },
   {
    "duration": 25,
    "start_time": "2022-01-17T13:20:37.031Z"
   },
   {
    "duration": 35,
    "start_time": "2022-01-17T13:21:41.064Z"
   },
   {
    "duration": 16,
    "start_time": "2022-01-17T13:22:37.656Z"
   },
   {
    "duration": 37,
    "start_time": "2022-01-17T13:23:17.355Z"
   },
   {
    "duration": 335,
    "start_time": "2022-01-17T13:23:43.505Z"
   },
   {
    "duration": 1436,
    "start_time": "2022-01-17T13:23:49.687Z"
   },
   {
    "duration": 75,
    "start_time": "2022-01-17T13:23:51.125Z"
   },
   {
    "duration": 50,
    "start_time": "2022-01-17T13:23:51.203Z"
   },
   {
    "duration": 24,
    "start_time": "2022-01-17T13:23:51.257Z"
   },
   {
    "duration": 7,
    "start_time": "2022-01-17T13:23:51.284Z"
   },
   {
    "duration": 30,
    "start_time": "2022-01-17T13:23:51.293Z"
   },
   {
    "duration": 3,
    "start_time": "2022-01-17T13:23:51.325Z"
   },
   {
    "duration": 23,
    "start_time": "2022-01-17T13:23:51.331Z"
   },
   {
    "duration": 68,
    "start_time": "2022-01-17T13:23:51.357Z"
   },
   {
    "duration": 20,
    "start_time": "2022-01-17T13:23:51.428Z"
   },
   {
    "duration": 779,
    "start_time": "2022-01-17T13:23:51.451Z"
   },
   {
    "duration": 244,
    "start_time": "2022-01-17T13:23:52.232Z"
   },
   {
    "duration": 34,
    "start_time": "2022-01-17T13:23:54.956Z"
   },
   {
    "duration": 395,
    "start_time": "2022-01-17T14:22:04.734Z"
   },
   {
    "duration": 12,
    "start_time": "2022-01-17T14:22:37.484Z"
   },
   {
    "duration": 12,
    "start_time": "2022-01-17T14:27:08.347Z"
   },
   {
    "duration": 337,
    "start_time": "2022-01-17T14:41:48.374Z"
   },
   {
    "duration": 352,
    "start_time": "2022-01-17T14:42:09.099Z"
   },
   {
    "duration": 21,
    "start_time": "2022-01-17T14:46:21.642Z"
   },
   {
    "duration": 13,
    "start_time": "2022-01-17T14:46:34.405Z"
   },
   {
    "duration": 1343,
    "start_time": "2022-01-17T14:48:51.736Z"
   },
   {
    "duration": 76,
    "start_time": "2022-01-17T14:48:53.082Z"
   },
   {
    "duration": 178,
    "start_time": "2022-01-17T14:48:53.161Z"
   },
   {
    "duration": 311,
    "start_time": "2022-01-17T14:48:53.343Z"
   },
   {
    "duration": 190,
    "start_time": "2022-01-17T14:48:53.657Z"
   },
   {
    "duration": 279,
    "start_time": "2022-01-17T14:48:53.850Z"
   },
   {
    "duration": 297,
    "start_time": "2022-01-17T14:48:54.132Z"
   },
   {
    "duration": 300,
    "start_time": "2022-01-17T14:48:54.433Z"
   },
   {
    "duration": 207,
    "start_time": "2022-01-17T14:48:54.736Z"
   },
   {
    "duration": 300,
    "start_time": "2022-01-17T14:48:54.945Z"
   },
   {
    "duration": 977,
    "start_time": "2022-01-17T14:48:55.248Z"
   },
   {
    "duration": 246,
    "start_time": "2022-01-17T14:48:56.228Z"
   },
   {
    "duration": 40,
    "start_time": "2022-01-17T14:49:03.333Z"
   },
   {
    "duration": 657,
    "start_time": "2022-01-17T14:49:26.292Z"
   },
   {
    "duration": 1325,
    "start_time": "2022-01-17T14:50:11.449Z"
   },
   {
    "duration": 76,
    "start_time": "2022-01-17T14:50:12.777Z"
   },
   {
    "duration": 133,
    "start_time": "2022-01-17T14:50:12.857Z"
   },
   {
    "duration": 194,
    "start_time": "2022-01-17T14:50:12.994Z"
   },
   {
    "duration": 199,
    "start_time": "2022-01-17T14:50:13.191Z"
   },
   {
    "duration": 205,
    "start_time": "2022-01-17T14:50:13.393Z"
   },
   {
    "duration": 184,
    "start_time": "2022-01-17T14:50:13.601Z"
   },
   {
    "duration": 241,
    "start_time": "2022-01-17T14:50:13.789Z"
   },
   {
    "duration": 220,
    "start_time": "2022-01-17T14:50:14.033Z"
   },
   {
    "duration": 289,
    "start_time": "2022-01-17T14:50:14.255Z"
   },
   {
    "duration": 1000,
    "start_time": "2022-01-17T14:50:14.546Z"
   },
   {
    "duration": 253,
    "start_time": "2022-01-17T14:50:15.549Z"
   },
   {
    "duration": 41,
    "start_time": "2022-01-17T14:50:55.583Z"
   },
   {
    "duration": 105,
    "start_time": "2022-01-17T14:55:28.024Z"
   },
   {
    "duration": 36,
    "start_time": "2022-01-17T14:56:48.539Z"
   },
   {
    "duration": 21,
    "start_time": "2022-01-17T14:58:56.710Z"
   },
   {
    "duration": 1380,
    "start_time": "2022-01-17T15:00:16.913Z"
   },
   {
    "duration": 78,
    "start_time": "2022-01-17T15:00:18.295Z"
   },
   {
    "duration": 132,
    "start_time": "2022-01-17T15:00:18.377Z"
   },
   {
    "duration": 113,
    "start_time": "2022-01-17T15:00:18.513Z"
   },
   {
    "duration": 160,
    "start_time": "2022-01-17T15:00:18.629Z"
   },
   {
    "duration": 176,
    "start_time": "2022-01-17T15:00:18.792Z"
   },
   {
    "duration": 145,
    "start_time": "2022-01-17T15:00:18.971Z"
   },
   {
    "duration": 185,
    "start_time": "2022-01-17T15:00:19.120Z"
   },
   {
    "duration": 165,
    "start_time": "2022-01-17T15:00:19.308Z"
   },
   {
    "duration": 152,
    "start_time": "2022-01-17T15:00:19.475Z"
   },
   {
    "duration": 995,
    "start_time": "2022-01-17T15:00:19.630Z"
   },
   {
    "duration": 254,
    "start_time": "2022-01-17T15:00:20.628Z"
   },
   {
    "duration": 48,
    "start_time": "2022-01-17T15:00:20.885Z"
   },
   {
    "duration": 23,
    "start_time": "2022-01-17T15:00:26.266Z"
   },
   {
    "duration": 268,
    "start_time": "2022-01-17T15:01:14.020Z"
   },
   {
    "duration": 1464,
    "start_time": "2022-01-17T15:40:23.663Z"
   },
   {
    "duration": 80,
    "start_time": "2022-01-17T15:40:25.130Z"
   },
   {
    "duration": 231,
    "start_time": "2022-01-17T15:40:25.224Z"
   },
   {
    "duration": 251,
    "start_time": "2022-01-17T15:40:25.458Z"
   },
   {
    "duration": 171,
    "start_time": "2022-01-17T15:40:25.712Z"
   },
   {
    "duration": 312,
    "start_time": "2022-01-17T15:40:25.886Z"
   },
   {
    "duration": 262,
    "start_time": "2022-01-17T15:40:26.201Z"
   },
   {
    "duration": 222,
    "start_time": "2022-01-17T15:40:26.468Z"
   },
   {
    "duration": 212,
    "start_time": "2022-01-17T15:40:26.692Z"
   },
   {
    "duration": 268,
    "start_time": "2022-01-17T15:40:26.906Z"
   },
   {
    "duration": 1213,
    "start_time": "2022-01-17T15:40:27.176Z"
   },
   {
    "duration": 299,
    "start_time": "2022-01-17T15:40:28.393Z"
   },
   {
    "duration": 19,
    "start_time": "2022-01-17T15:40:33.275Z"
   },
   {
    "duration": 26,
    "start_time": "2022-01-17T15:41:18.913Z"
   },
   {
    "duration": 304,
    "start_time": "2022-01-17T15:43:18.422Z"
   },
   {
    "duration": 340,
    "start_time": "2022-01-17T15:43:43.279Z"
   },
   {
    "duration": 339,
    "start_time": "2022-01-17T15:45:18.209Z"
   },
   {
    "duration": 13,
    "start_time": "2022-01-17T15:48:48.615Z"
   },
   {
    "duration": 49,
    "start_time": "2022-01-17T16:07:29.351Z"
   },
   {
    "duration": 8022,
    "start_time": "2022-01-17T16:08:09.250Z"
   },
   {
    "duration": 8022,
    "start_time": "2022-01-17T16:08:24.894Z"
   },
   {
    "duration": 4145,
    "start_time": "2022-01-17T16:09:15.210Z"
   },
   {
    "duration": 1375,
    "start_time": "2022-01-17T16:09:37.908Z"
   },
   {
    "duration": 79,
    "start_time": "2022-01-17T16:09:39.285Z"
   },
   {
    "duration": 157,
    "start_time": "2022-01-17T16:09:39.367Z"
   },
   {
    "duration": 150,
    "start_time": "2022-01-17T16:09:39.527Z"
   },
   {
    "duration": 194,
    "start_time": "2022-01-17T16:09:39.680Z"
   },
   {
    "duration": 225,
    "start_time": "2022-01-17T16:09:39.877Z"
   },
   {
    "duration": 211,
    "start_time": "2022-01-17T16:09:40.104Z"
   },
   {
    "duration": 235,
    "start_time": "2022-01-17T16:09:40.320Z"
   },
   {
    "duration": 228,
    "start_time": "2022-01-17T16:09:40.557Z"
   },
   {
    "duration": 286,
    "start_time": "2022-01-17T16:09:40.787Z"
   },
   {
    "duration": 960,
    "start_time": "2022-01-17T16:09:41.076Z"
   },
   {
    "duration": 265,
    "start_time": "2022-01-17T16:09:42.039Z"
   },
   {
    "duration": 53,
    "start_time": "2022-01-17T16:09:46.789Z"
   },
   {
    "duration": 270,
    "start_time": "2022-01-17T16:11:56.891Z"
   },
   {
    "duration": 282,
    "start_time": "2022-01-17T16:12:16.215Z"
   },
   {
    "duration": 283,
    "start_time": "2022-01-17T16:13:42.004Z"
   },
   {
    "duration": 1417,
    "start_time": "2022-01-17T16:14:28.161Z"
   },
   {
    "duration": 80,
    "start_time": "2022-01-17T16:14:29.581Z"
   },
   {
    "duration": 260,
    "start_time": "2022-01-17T16:14:29.664Z"
   },
   {
    "duration": 293,
    "start_time": "2022-01-17T16:14:29.927Z"
   },
   {
    "duration": 258,
    "start_time": "2022-01-17T16:14:30.223Z"
   },
   {
    "duration": 253,
    "start_time": "2022-01-17T16:14:30.484Z"
   },
   {
    "duration": 278,
    "start_time": "2022-01-17T16:14:30.739Z"
   },
   {
    "duration": 295,
    "start_time": "2022-01-17T16:14:31.021Z"
   },
   {
    "duration": 301,
    "start_time": "2022-01-17T16:14:31.318Z"
   },
   {
    "duration": 269,
    "start_time": "2022-01-17T16:14:31.622Z"
   },
   {
    "duration": 961,
    "start_time": "2022-01-17T16:14:31.893Z"
   },
   {
    "duration": 271,
    "start_time": "2022-01-17T16:14:32.857Z"
   },
   {
    "duration": 269,
    "start_time": "2022-01-17T16:14:40.141Z"
   },
   {
    "duration": 283,
    "start_time": "2022-01-17T16:15:39.267Z"
   },
   {
    "duration": 283,
    "start_time": "2022-01-17T16:16:03.768Z"
   },
   {
    "duration": 319,
    "start_time": "2022-01-17T16:16:33.083Z"
   },
   {
    "duration": 2186,
    "start_time": "2022-01-17T16:17:20.290Z"
   },
   {
    "duration": 989,
    "start_time": "2022-01-17T16:18:37.263Z"
   },
   {
    "duration": 560,
    "start_time": "2022-01-17T16:18:50.514Z"
   },
   {
    "duration": 425,
    "start_time": "2022-01-17T16:19:32.248Z"
   },
   {
    "duration": 475,
    "start_time": "2022-01-17T16:19:37.752Z"
   },
   {
    "duration": 499,
    "start_time": "2022-01-17T16:19:43.865Z"
   },
   {
    "duration": 502,
    "start_time": "2022-01-17T16:21:07.705Z"
   },
   {
    "duration": 440,
    "start_time": "2022-01-17T16:21:28.430Z"
   },
   {
    "duration": 279,
    "start_time": "2022-01-17T16:22:58.119Z"
   },
   {
    "duration": 443,
    "start_time": "2022-01-17T16:24:11.036Z"
   },
   {
    "duration": 527,
    "start_time": "2022-01-17T16:29:31.052Z"
   },
   {
    "duration": 550,
    "start_time": "2022-01-17T16:39:22.998Z"
   },
   {
    "duration": 542,
    "start_time": "2022-01-17T16:39:37.914Z"
   },
   {
    "duration": 326,
    "start_time": "2022-01-17T16:43:35.186Z"
   },
   {
    "duration": 345,
    "start_time": "2022-01-17T16:43:51.070Z"
   },
   {
    "duration": 325,
    "start_time": "2022-01-17T16:47:15.575Z"
   },
   {
    "duration": 567,
    "start_time": "2022-01-17T16:47:59.687Z"
   },
   {
    "duration": 8,
    "start_time": "2022-01-17T17:46:02.138Z"
   },
   {
    "duration": 32,
    "start_time": "2022-01-17T17:47:55.303Z"
   },
   {
    "duration": 13,
    "start_time": "2022-01-17T17:50:06.512Z"
   },
   {
    "duration": 290,
    "start_time": "2022-01-17T18:00:51.861Z"
   },
   {
    "duration": 348,
    "start_time": "2022-01-17T18:01:10.415Z"
   },
   {
    "duration": 14,
    "start_time": "2022-01-17T18:01:17.184Z"
   },
   {
    "duration": 26,
    "start_time": "2022-01-17T18:05:55.443Z"
   },
   {
    "duration": 26,
    "start_time": "2022-01-17T18:06:37.345Z"
   },
   {
    "duration": 27,
    "start_time": "2022-01-17T18:06:51.663Z"
   },
   {
    "duration": 78,
    "start_time": "2022-01-17T18:11:07.052Z"
   },
   {
    "duration": 8166,
    "start_time": "2022-01-17T18:15:32.892Z"
   },
   {
    "duration": 1392,
    "start_time": "2022-01-17T18:15:57.938Z"
   },
   {
    "duration": 78,
    "start_time": "2022-01-17T18:15:59.333Z"
   },
   {
    "duration": 43,
    "start_time": "2022-01-17T18:15:59.413Z"
   },
   {
    "duration": 26,
    "start_time": "2022-01-17T18:15:59.459Z"
   },
   {
    "duration": 37,
    "start_time": "2022-01-17T18:15:59.487Z"
   },
   {
    "duration": 4,
    "start_time": "2022-01-17T18:15:59.527Z"
   },
   {
    "duration": 19,
    "start_time": "2022-01-17T18:15:59.534Z"
   },
   {
    "duration": 24,
    "start_time": "2022-01-17T18:15:59.558Z"
   },
   {
    "duration": 67,
    "start_time": "2022-01-17T18:15:59.585Z"
   },
   {
    "duration": 21,
    "start_time": "2022-01-17T18:15:59.655Z"
   },
   {
    "duration": 1285,
    "start_time": "2022-01-17T18:15:59.679Z"
   },
   {
    "duration": 396,
    "start_time": "2022-01-17T18:16:00.967Z"
   },
   {
    "duration": 37,
    "start_time": "2022-01-17T18:16:01.366Z"
   },
   {
    "duration": 349,
    "start_time": "2022-01-17T18:16:01.424Z"
   },
   {
    "duration": 8,
    "start_time": "2022-01-17T18:16:01.776Z"
   },
   {
    "duration": 38,
    "start_time": "2022-01-17T18:16:01.786Z"
   },
   {
    "duration": 5,
    "start_time": "2022-01-17T18:16:12.814Z"
   },
   {
    "duration": 7612,
    "start_time": "2022-01-17T18:16:15.913Z"
   },
   {
    "duration": 27,
    "start_time": "2022-01-17T18:16:41.129Z"
   },
   {
    "duration": 33,
    "start_time": "2022-01-17T18:16:58.826Z"
   },
   {
    "duration": 32,
    "start_time": "2022-01-17T18:26:07.631Z"
   },
   {
    "duration": 59,
    "start_time": "2022-01-17T18:26:44.235Z"
   },
   {
    "duration": 1310,
    "start_time": "2022-01-17T18:28:24.960Z"
   },
   {
    "duration": 75,
    "start_time": "2022-01-17T18:28:26.273Z"
   },
   {
    "duration": 37,
    "start_time": "2022-01-17T18:28:26.351Z"
   },
   {
    "duration": 48,
    "start_time": "2022-01-17T18:28:26.391Z"
   },
   {
    "duration": 8,
    "start_time": "2022-01-17T18:28:26.442Z"
   },
   {
    "duration": 3,
    "start_time": "2022-01-17T18:28:26.453Z"
   },
   {
    "duration": 5,
    "start_time": "2022-01-17T18:28:26.459Z"
   },
   {
    "duration": 61,
    "start_time": "2022-01-17T18:28:26.468Z"
   },
   {
    "duration": 43,
    "start_time": "2022-01-17T18:28:26.531Z"
   },
   {
    "duration": 49,
    "start_time": "2022-01-17T18:28:26.577Z"
   },
   {
    "duration": 782,
    "start_time": "2022-01-17T18:28:26.628Z"
   },
   {
    "duration": 273,
    "start_time": "2022-01-17T18:28:27.413Z"
   },
   {
    "duration": 52,
    "start_time": "2022-01-17T18:28:27.690Z"
   },
   {
    "duration": 349,
    "start_time": "2022-01-17T18:28:27.744Z"
   },
   {
    "duration": 8,
    "start_time": "2022-01-17T18:28:28.095Z"
   },
   {
    "duration": 20,
    "start_time": "2022-01-17T18:28:28.105Z"
   },
   {
    "duration": 111,
    "start_time": "2022-01-17T18:28:31.819Z"
   },
   {
    "duration": 20,
    "start_time": "2022-01-17T18:30:49.710Z"
   },
   {
    "duration": 15,
    "start_time": "2022-01-17T18:31:24.563Z"
   },
   {
    "duration": 16,
    "start_time": "2022-01-17T18:32:10.830Z"
   },
   {
    "duration": 62,
    "start_time": "2022-01-17T18:33:38.245Z"
   },
   {
    "duration": 566,
    "start_time": "2022-01-17T18:35:14.018Z"
   },
   {
    "duration": 1398,
    "start_time": "2022-01-17T18:35:36.770Z"
   },
   {
    "duration": 81,
    "start_time": "2022-01-17T18:35:38.171Z"
   },
   {
    "duration": 40,
    "start_time": "2022-01-17T18:35:38.255Z"
   },
   {
    "duration": 45,
    "start_time": "2022-01-17T18:35:38.298Z"
   },
   {
    "duration": 16,
    "start_time": "2022-01-17T18:35:38.346Z"
   },
   {
    "duration": 4,
    "start_time": "2022-01-17T18:35:38.365Z"
   },
   {
    "duration": 5,
    "start_time": "2022-01-17T18:35:38.372Z"
   },
   {
    "duration": 58,
    "start_time": "2022-01-17T18:35:38.381Z"
   },
   {
    "duration": 43,
    "start_time": "2022-01-17T18:35:38.442Z"
   },
   {
    "duration": 54,
    "start_time": "2022-01-17T18:35:38.488Z"
   },
   {
    "duration": 817,
    "start_time": "2022-01-17T18:35:38.545Z"
   },
   {
    "duration": 265,
    "start_time": "2022-01-17T18:35:39.364Z"
   },
   {
    "duration": 37,
    "start_time": "2022-01-17T18:35:39.632Z"
   },
   {
    "duration": 370,
    "start_time": "2022-01-17T18:35:39.671Z"
   },
   {
    "duration": 9,
    "start_time": "2022-01-17T18:35:40.044Z"
   },
   {
    "duration": 6,
    "start_time": "2022-01-17T18:35:40.056Z"
   },
   {
    "duration": 473,
    "start_time": "2022-01-17T18:35:43.660Z"
   },
   {
    "duration": 7569,
    "start_time": "2022-01-17T18:37:34.078Z"
   },
   {
    "duration": 8063,
    "start_time": "2022-01-17T18:39:45.861Z"
   },
   {
    "duration": 345,
    "start_time": "2022-01-17T18:49:02.123Z"
   },
   {
    "duration": 83,
    "start_time": "2022-01-17T18:50:36.367Z"
   },
   {
    "duration": 544,
    "start_time": "2022-01-17T18:51:20.364Z"
   },
   {
    "duration": 727,
    "start_time": "2022-01-17T18:53:10.883Z"
   },
   {
    "duration": 788,
    "start_time": "2022-01-17T18:53:53.686Z"
   },
   {
    "duration": 600,
    "start_time": "2022-01-17T18:54:00.557Z"
   },
   {
    "duration": 15,
    "start_time": "2022-01-17T18:54:22.592Z"
   },
   {
    "duration": 689,
    "start_time": "2022-01-17T18:57:11.053Z"
   },
   {
    "duration": 692,
    "start_time": "2022-01-17T18:57:29.222Z"
   },
   {
    "duration": 110,
    "start_time": "2022-01-17T19:00:42.486Z"
   },
   {
    "duration": 501,
    "start_time": "2022-01-17T19:01:26.068Z"
   },
   {
    "duration": 470,
    "start_time": "2022-01-17T19:02:34.953Z"
   },
   {
    "duration": 247,
    "start_time": "2022-01-17T19:05:11.895Z"
   },
   {
    "duration": 374,
    "start_time": "2022-01-17T19:10:05.071Z"
   },
   {
    "duration": 1390,
    "start_time": "2022-01-17T19:10:24.999Z"
   },
   {
    "duration": 80,
    "start_time": "2022-01-17T19:10:26.392Z"
   },
   {
    "duration": 57,
    "start_time": "2022-01-17T19:10:26.475Z"
   },
   {
    "duration": 23,
    "start_time": "2022-01-17T19:10:26.535Z"
   },
   {
    "duration": 9,
    "start_time": "2022-01-17T19:10:26.561Z"
   },
   {
    "duration": 11,
    "start_time": "2022-01-17T19:10:26.572Z"
   },
   {
    "duration": 6,
    "start_time": "2022-01-17T19:10:26.585Z"
   },
   {
    "duration": 48,
    "start_time": "2022-01-17T19:10:26.594Z"
   },
   {
    "duration": 43,
    "start_time": "2022-01-17T19:10:26.646Z"
   },
   {
    "duration": 20,
    "start_time": "2022-01-17T19:10:26.724Z"
   },
   {
    "duration": 818,
    "start_time": "2022-01-17T19:10:26.747Z"
   },
   {
    "duration": 268,
    "start_time": "2022-01-17T19:10:27.568Z"
   },
   {
    "duration": 456,
    "start_time": "2022-01-17T19:10:27.839Z"
   },
   {
    "duration": 488,
    "start_time": "2022-01-17T19:10:36.182Z"
   },
   {
    "duration": 8,
    "start_time": "2022-01-17T19:12:41.683Z"
   },
   {
    "duration": 15,
    "start_time": "2022-01-17T19:12:45.083Z"
   },
   {
    "duration": 13,
    "start_time": "2022-01-17T19:13:12.843Z"
   },
   {
    "duration": 501,
    "start_time": "2022-01-17T19:14:20.988Z"
   },
   {
    "duration": 506,
    "start_time": "2022-01-17T19:15:39.212Z"
   },
   {
    "duration": 572,
    "start_time": "2022-01-17T19:24:05.675Z"
   },
   {
    "duration": 1303,
    "start_time": "2022-01-18T10:21:14.216Z"
   },
   {
    "duration": 79,
    "start_time": "2022-01-18T10:21:15.522Z"
   },
   {
    "duration": 59,
    "start_time": "2022-01-18T10:21:15.606Z"
   },
   {
    "duration": 26,
    "start_time": "2022-01-18T10:21:15.668Z"
   },
   {
    "duration": 9,
    "start_time": "2022-01-18T10:21:15.696Z"
   },
   {
    "duration": 4,
    "start_time": "2022-01-18T10:21:15.708Z"
   },
   {
    "duration": 50,
    "start_time": "2022-01-18T10:21:15.714Z"
   },
   {
    "duration": 24,
    "start_time": "2022-01-18T10:21:15.769Z"
   },
   {
    "duration": 68,
    "start_time": "2022-01-18T10:21:15.796Z"
   },
   {
    "duration": 22,
    "start_time": "2022-01-18T10:21:15.867Z"
   },
   {
    "duration": 780,
    "start_time": "2022-01-18T10:21:15.891Z"
   },
   {
    "duration": 262,
    "start_time": "2022-01-18T10:21:16.673Z"
   },
   {
    "duration": 46,
    "start_time": "2022-01-18T10:21:16.937Z"
   },
   {
    "duration": 345,
    "start_time": "2022-01-18T10:21:16.985Z"
   },
   {
    "duration": 7,
    "start_time": "2022-01-18T10:21:17.332Z"
   },
   {
    "duration": 36,
    "start_time": "2022-01-18T10:21:17.342Z"
   },
   {
    "duration": 481,
    "start_time": "2022-01-18T10:21:20.787Z"
   },
   {
    "duration": 17,
    "start_time": "2022-01-18T10:25:59.028Z"
   },
   {
    "duration": 403,
    "start_time": "2022-01-18T10:27:25.595Z"
   },
   {
    "duration": 430,
    "start_time": "2022-01-18T10:29:17.178Z"
   },
   {
    "duration": 432,
    "start_time": "2022-01-18T10:42:22.287Z"
   },
   {
    "duration": 22,
    "start_time": "2022-01-18T11:09:03.788Z"
   },
   {
    "duration": 33,
    "start_time": "2022-01-18T11:10:45.922Z"
   },
   {
    "duration": 33,
    "start_time": "2022-01-18T11:11:34.821Z"
   },
   {
    "duration": 61,
    "start_time": "2022-01-18T11:11:44.369Z"
   },
   {
    "duration": 422,
    "start_time": "2022-01-18T11:13:10.300Z"
   },
   {
    "duration": 117,
    "start_time": "2022-01-18T11:13:33.688Z"
   },
   {
    "duration": 89,
    "start_time": "2022-01-18T11:14:09.818Z"
   },
   {
    "duration": 66,
    "start_time": "2022-01-18T11:18:40.053Z"
   },
   {
    "duration": 36,
    "start_time": "2022-01-18T11:18:58.720Z"
   },
   {
    "duration": 7357,
    "start_time": "2022-01-18T11:20:28.685Z"
   },
   {
    "duration": 21,
    "start_time": "2022-01-18T11:20:41.043Z"
   },
   {
    "duration": 23,
    "start_time": "2022-01-18T11:21:38.164Z"
   },
   {
    "duration": 1032,
    "start_time": "2022-01-18T13:58:52.215Z"
   },
   {
    "duration": 57,
    "start_time": "2022-01-18T13:58:53.249Z"
   },
   {
    "duration": 24,
    "start_time": "2022-01-18T13:58:53.308Z"
   },
   {
    "duration": 29,
    "start_time": "2022-01-18T13:58:53.334Z"
   },
   {
    "duration": 5,
    "start_time": "2022-01-18T13:58:53.365Z"
   },
   {
    "duration": 21,
    "start_time": "2022-01-18T13:58:53.371Z"
   },
   {
    "duration": 20,
    "start_time": "2022-01-18T13:58:53.393Z"
   },
   {
    "duration": 38,
    "start_time": "2022-01-18T13:58:53.415Z"
   },
   {
    "duration": 44,
    "start_time": "2022-01-18T13:58:53.454Z"
   },
   {
    "duration": 13,
    "start_time": "2022-01-18T13:58:53.500Z"
   },
   {
    "duration": 484,
    "start_time": "2022-01-18T13:58:53.515Z"
   },
   {
    "duration": 169,
    "start_time": "2022-01-18T13:58:54.001Z"
   },
   {
    "duration": 23,
    "start_time": "2022-01-18T13:58:54.172Z"
   },
   {
    "duration": 223,
    "start_time": "2022-01-18T13:58:54.197Z"
   },
   {
    "duration": 5,
    "start_time": "2022-01-18T13:58:54.422Z"
   },
   {
    "duration": 33,
    "start_time": "2022-01-18T13:58:54.428Z"
   },
   {
    "duration": 325,
    "start_time": "2022-01-18T13:58:54.463Z"
   },
   {
    "duration": 271,
    "start_time": "2022-01-18T13:58:54.789Z"
   },
   {
    "duration": 13,
    "start_time": "2022-01-18T13:58:55.062Z"
   },
   {
    "duration": 18,
    "start_time": "2022-01-18T13:59:02.104Z"
   },
   {
    "duration": 12,
    "start_time": "2022-01-18T13:59:18.420Z"
   },
   {
    "duration": 17,
    "start_time": "2022-01-18T13:59:55.702Z"
   },
   {
    "duration": 17,
    "start_time": "2022-01-18T14:08:14.428Z"
   },
   {
    "duration": 1095,
    "start_time": "2022-01-18T14:08:43.974Z"
   },
   {
    "duration": 58,
    "start_time": "2022-01-18T14:08:45.071Z"
   },
   {
    "duration": 35,
    "start_time": "2022-01-18T14:08:45.132Z"
   },
   {
    "duration": 18,
    "start_time": "2022-01-18T14:08:45.169Z"
   },
   {
    "duration": 7,
    "start_time": "2022-01-18T14:08:45.189Z"
   },
   {
    "duration": 3,
    "start_time": "2022-01-18T14:08:45.198Z"
   },
   {
    "duration": 4,
    "start_time": "2022-01-18T14:08:45.203Z"
   },
   {
    "duration": 54,
    "start_time": "2022-01-18T14:08:45.211Z"
   },
   {
    "duration": 26,
    "start_time": "2022-01-18T14:08:45.267Z"
   },
   {
    "duration": 14,
    "start_time": "2022-01-18T14:08:45.295Z"
   },
   {
    "duration": 541,
    "start_time": "2022-01-18T14:08:45.311Z"
   },
   {
    "duration": 169,
    "start_time": "2022-01-18T14:08:45.854Z"
   },
   {
    "duration": 22,
    "start_time": "2022-01-18T14:08:46.025Z"
   },
   {
    "duration": 223,
    "start_time": "2022-01-18T14:08:46.061Z"
   },
   {
    "duration": 5,
    "start_time": "2022-01-18T14:08:46.285Z"
   },
   {
    "duration": 9,
    "start_time": "2022-01-18T14:08:46.291Z"
   },
   {
    "duration": 328,
    "start_time": "2022-01-18T14:08:46.302Z"
   },
   {
    "duration": 361,
    "start_time": "2022-01-18T14:08:46.632Z"
   },
   {
    "duration": 13,
    "start_time": "2022-01-18T14:08:46.995Z"
   },
   {
    "duration": 17,
    "start_time": "2022-01-18T14:08:49.887Z"
   },
   {
    "duration": 17,
    "start_time": "2022-01-18T14:11:07.998Z"
   },
   {
    "duration": 327,
    "start_time": "2022-01-18T14:12:30.540Z"
   },
   {
    "duration": 261,
    "start_time": "2022-01-18T14:12:35.022Z"
   },
   {
    "duration": 297,
    "start_time": "2022-01-18T14:13:29.668Z"
   },
   {
    "duration": 1055,
    "start_time": "2022-01-18T14:18:02.689Z"
   },
   {
    "duration": 17,
    "start_time": "2022-01-18T14:18:47.526Z"
   },
   {
    "duration": 315,
    "start_time": "2022-01-18T14:20:29.923Z"
   },
   {
    "duration": 316,
    "start_time": "2022-01-18T14:23:57.272Z"
   },
   {
    "duration": 285,
    "start_time": "2022-01-18T14:26:37.205Z"
   },
   {
    "duration": 307,
    "start_time": "2022-01-18T14:28:05.392Z"
   },
   {
    "duration": 694,
    "start_time": "2022-01-18T14:29:20.417Z"
   },
   {
    "duration": 10,
    "start_time": "2022-01-18T14:43:22.076Z"
   },
   {
    "duration": 570,
    "start_time": "2022-01-18T14:52:17.224Z"
   },
   {
    "duration": 9,
    "start_time": "2022-01-18T14:54:57.520Z"
   },
   {
    "duration": 578,
    "start_time": "2022-01-18T14:57:23.402Z"
   },
   {
    "duration": 9,
    "start_time": "2022-01-18T14:59:15.506Z"
   },
   {
    "duration": 285,
    "start_time": "2022-01-18T16:44:38.443Z"
   },
   {
    "duration": 263,
    "start_time": "2022-01-18T16:46:00.388Z"
   },
   {
    "duration": 6412,
    "start_time": "2022-01-18T16:46:20.252Z"
   },
   {
    "duration": 258,
    "start_time": "2022-01-18T16:47:17.854Z"
   },
   {
    "duration": 11,
    "start_time": "2022-01-18T16:47:29.662Z"
   },
   {
    "duration": 11,
    "start_time": "2022-01-18T16:49:04.087Z"
   },
   {
    "duration": 18,
    "start_time": "2022-01-18T16:53:13.008Z"
   },
   {
    "duration": 81,
    "start_time": "2022-01-18T16:53:27.124Z"
   },
   {
    "duration": 20,
    "start_time": "2022-01-18T16:54:17.488Z"
   },
   {
    "duration": 1051,
    "start_time": "2022-01-19T11:35:22.425Z"
   },
   {
    "duration": 62,
    "start_time": "2022-01-19T11:35:23.478Z"
   },
   {
    "duration": 27,
    "start_time": "2022-01-19T11:35:23.543Z"
   },
   {
    "duration": 33,
    "start_time": "2022-01-19T11:35:23.573Z"
   },
   {
    "duration": 6,
    "start_time": "2022-01-19T11:35:23.608Z"
   },
   {
    "duration": 3,
    "start_time": "2022-01-19T11:35:23.615Z"
   },
   {
    "duration": 5,
    "start_time": "2022-01-19T11:35:23.620Z"
   },
   {
    "duration": 16,
    "start_time": "2022-01-19T11:35:23.627Z"
   },
   {
    "duration": 60,
    "start_time": "2022-01-19T11:35:23.645Z"
   },
   {
    "duration": 13,
    "start_time": "2022-01-19T11:35:23.707Z"
   },
   {
    "duration": 468,
    "start_time": "2022-01-19T11:35:23.722Z"
   },
   {
    "duration": 166,
    "start_time": "2022-01-19T11:35:24.192Z"
   },
   {
    "duration": 23,
    "start_time": "2022-01-19T11:35:24.359Z"
   },
   {
    "duration": 221,
    "start_time": "2022-01-19T11:35:24.397Z"
   },
   {
    "duration": 4,
    "start_time": "2022-01-19T11:35:24.620Z"
   },
   {
    "duration": 25,
    "start_time": "2022-01-19T11:35:24.625Z"
   },
   {
    "duration": 308,
    "start_time": "2022-01-19T11:35:24.651Z"
   },
   {
    "duration": 305,
    "start_time": "2022-01-19T11:35:24.961Z"
   },
   {
    "duration": 13,
    "start_time": "2022-01-19T11:35:25.268Z"
   },
   {
    "duration": 17,
    "start_time": "2022-01-19T11:35:25.297Z"
   },
   {
    "duration": 596,
    "start_time": "2022-01-19T11:35:25.315Z"
   },
   {
    "duration": 8,
    "start_time": "2022-01-19T11:35:25.913Z"
   },
   {
    "duration": 585,
    "start_time": "2022-01-19T11:35:25.924Z"
   },
   {
    "duration": 9,
    "start_time": "2022-01-19T11:35:26.511Z"
   },
   {
    "duration": 688,
    "start_time": "2022-01-19T11:35:26.521Z"
   },
   {
    "duration": 8,
    "start_time": "2022-01-19T11:35:27.211Z"
   },
   {
    "duration": 27,
    "start_time": "2022-01-19T11:35:27.221Z"
   },
   {
    "duration": 14,
    "start_time": "2022-01-19T11:41:11.777Z"
   },
   {
    "duration": 4966,
    "start_time": "2022-01-19T11:43:13.097Z"
   },
   {
    "duration": 6,
    "start_time": "2022-01-19T11:43:44.134Z"
   },
   {
    "duration": 7,
    "start_time": "2022-01-19T11:48:17.439Z"
   },
   {
    "duration": 8,
    "start_time": "2022-01-19T11:52:40.140Z"
   },
   {
    "duration": 7,
    "start_time": "2022-01-19T11:53:02.087Z"
   },
   {
    "duration": 188,
    "start_time": "2022-01-19T11:53:56.108Z"
   },
   {
    "duration": 14,
    "start_time": "2022-01-19T11:54:23.271Z"
   },
   {
    "duration": 13,
    "start_time": "2022-01-19T11:54:35.534Z"
   },
   {
    "duration": 225,
    "start_time": "2022-01-19T11:55:17.797Z"
   },
   {
    "duration": 12,
    "start_time": "2022-01-19T11:56:18.487Z"
   },
   {
    "duration": 14,
    "start_time": "2022-01-19T12:05:16.889Z"
   },
   {
    "duration": 180,
    "start_time": "2022-01-19T12:05:48.066Z"
   },
   {
    "duration": 5,
    "start_time": "2022-01-19T12:06:17.414Z"
   },
   {
    "duration": 73,
    "start_time": "2022-01-19T12:06:30.494Z"
   },
   {
    "duration": 4,
    "start_time": "2022-01-19T12:06:35.925Z"
   },
   {
    "duration": 318,
    "start_time": "2022-01-19T12:09:50.391Z"
   },
   {
    "duration": 5141,
    "start_time": "2022-01-19T12:10:31.118Z"
   },
   {
    "duration": 4,
    "start_time": "2022-01-19T12:10:54.083Z"
   },
   {
    "duration": 13,
    "start_time": "2022-01-19T12:12:26.351Z"
   },
   {
    "duration": 13,
    "start_time": "2022-01-19T12:13:35.948Z"
   },
   {
    "duration": 11,
    "start_time": "2022-01-19T12:14:24.081Z"
   },
   {
    "duration": 1038,
    "start_time": "2022-01-19T12:14:43.243Z"
   },
   {
    "duration": 61,
    "start_time": "2022-01-19T12:14:44.283Z"
   },
   {
    "duration": 27,
    "start_time": "2022-01-19T12:14:44.347Z"
   },
   {
    "duration": 35,
    "start_time": "2022-01-19T12:14:44.376Z"
   },
   {
    "duration": 9,
    "start_time": "2022-01-19T12:14:44.413Z"
   },
   {
    "duration": 4,
    "start_time": "2022-01-19T12:14:44.424Z"
   },
   {
    "duration": 14,
    "start_time": "2022-01-19T12:14:44.430Z"
   },
   {
    "duration": 15,
    "start_time": "2022-01-19T12:14:44.447Z"
   },
   {
    "duration": 48,
    "start_time": "2022-01-19T12:14:44.465Z"
   },
   {
    "duration": 14,
    "start_time": "2022-01-19T12:14:44.515Z"
   },
   {
    "duration": 484,
    "start_time": "2022-01-19T12:14:44.530Z"
   },
   {
    "duration": 180,
    "start_time": "2022-01-19T12:14:45.017Z"
   },
   {
    "duration": 23,
    "start_time": "2022-01-19T12:14:45.199Z"
   },
   {
    "duration": 234,
    "start_time": "2022-01-19T12:14:45.224Z"
   },
   {
    "duration": 5,
    "start_time": "2022-01-19T12:14:45.460Z"
   },
   {
    "duration": 10,
    "start_time": "2022-01-19T12:14:45.467Z"
   },
   {
    "duration": 336,
    "start_time": "2022-01-19T12:14:45.497Z"
   },
   {
    "duration": 300,
    "start_time": "2022-01-19T12:14:45.835Z"
   },
   {
    "duration": 14,
    "start_time": "2022-01-19T12:14:46.137Z"
   },
   {
    "duration": 20,
    "start_time": "2022-01-19T12:14:46.152Z"
   },
   {
    "duration": 644,
    "start_time": "2022-01-19T12:14:46.173Z"
   },
   {
    "duration": 8,
    "start_time": "2022-01-19T12:14:46.819Z"
   },
   {
    "duration": 573,
    "start_time": "2022-01-19T12:14:46.831Z"
   },
   {
    "duration": 8,
    "start_time": "2022-01-19T12:14:47.406Z"
   },
   {
    "duration": 694,
    "start_time": "2022-01-19T12:14:47.416Z"
   },
   {
    "duration": 8,
    "start_time": "2022-01-19T12:14:48.112Z"
   },
   {
    "duration": 21,
    "start_time": "2022-01-19T12:14:48.122Z"
   },
   {
    "duration": 13,
    "start_time": "2022-01-19T12:14:48.145Z"
   },
   {
    "duration": 41,
    "start_time": "2022-01-19T12:14:48.160Z"
   },
   {
    "duration": 23,
    "start_time": "2022-01-19T12:14:48.203Z"
   },
   {
    "duration": 13,
    "start_time": "2022-01-19T12:14:56.520Z"
   },
   {
    "duration": 14,
    "start_time": "2022-01-19T12:17:39.129Z"
   },
   {
    "duration": 8,
    "start_time": "2022-01-19T12:22:58.506Z"
   },
   {
    "duration": 461,
    "start_time": "2022-01-19T12:28:33.522Z"
   },
   {
    "duration": 7,
    "start_time": "2022-01-19T12:29:33.819Z"
   },
   {
    "duration": 8,
    "start_time": "2022-01-19T12:33:13.673Z"
   },
   {
    "duration": 2389,
    "start_time": "2022-01-19T12:38:43.466Z"
   },
   {
    "duration": 102,
    "start_time": "2022-01-19T12:39:13.850Z"
   },
   {
    "duration": 10,
    "start_time": "2022-01-19T12:55:14.441Z"
   },
   {
    "duration": 8,
    "start_time": "2022-01-19T12:55:44.767Z"
   },
   {
    "duration": 9,
    "start_time": "2022-01-19T12:56:08.344Z"
   },
   {
    "duration": 8,
    "start_time": "2022-01-19T13:14:46.402Z"
   },
   {
    "duration": 9,
    "start_time": "2022-01-19T13:16:31.286Z"
   },
   {
    "duration": 7,
    "start_time": "2022-01-19T13:17:20.254Z"
   },
   {
    "duration": 2438,
    "start_time": "2022-01-19T13:20:46.168Z"
   },
   {
    "duration": 2386,
    "start_time": "2022-01-19T14:46:42.541Z"
   },
   {
    "duration": 6,
    "start_time": "2022-01-19T14:49:28.213Z"
   },
   {
    "duration": 7,
    "start_time": "2022-01-19T14:50:42.387Z"
   },
   {
    "duration": 28,
    "start_time": "2022-01-19T14:51:55.990Z"
   },
   {
    "duration": 24,
    "start_time": "2022-01-19T14:57:14.521Z"
   },
   {
    "duration": 10,
    "start_time": "2022-01-19T14:57:25.419Z"
   },
   {
    "duration": 6,
    "start_time": "2022-01-19T15:03:15.857Z"
   },
   {
    "duration": 10,
    "start_time": "2022-01-19T15:07:25.178Z"
   },
   {
    "duration": 15,
    "start_time": "2022-01-19T15:07:55.318Z"
   },
   {
    "duration": 17,
    "start_time": "2022-01-19T15:08:31.499Z"
   },
   {
    "duration": 183,
    "start_time": "2022-01-19T15:48:57.206Z"
   },
   {
    "duration": 23,
    "start_time": "2022-01-19T15:50:17.672Z"
   },
   {
    "duration": 216,
    "start_time": "2022-01-19T15:50:29.131Z"
   },
   {
    "duration": 1088,
    "start_time": "2022-01-19T15:50:56.775Z"
   },
   {
    "duration": 60,
    "start_time": "2022-01-19T15:50:59.288Z"
   },
   {
    "duration": 31,
    "start_time": "2022-01-19T15:51:03.082Z"
   },
   {
    "duration": 17,
    "start_time": "2022-01-19T15:51:05.080Z"
   },
   {
    "duration": 146,
    "start_time": "2022-01-19T15:51:06.847Z"
   },
   {
    "duration": 16,
    "start_time": "2022-01-19T15:51:22.283Z"
   },
   {
    "duration": 29,
    "start_time": "2022-01-19T15:51:25.748Z"
   },
   {
    "duration": 14,
    "start_time": "2022-01-19T15:51:30.611Z"
   },
   {
    "duration": 483,
    "start_time": "2022-01-19T15:51:33.100Z"
   },
   {
    "duration": 176,
    "start_time": "2022-01-19T15:51:37.323Z"
   },
   {
    "duration": 167,
    "start_time": "2022-01-19T15:51:55.282Z"
   },
   {
    "duration": 24,
    "start_time": "2022-01-19T15:52:06.108Z"
   },
   {
    "duration": 318,
    "start_time": "2022-01-19T15:52:13.683Z"
   },
   {
    "duration": 23,
    "start_time": "2022-01-19T15:52:43.440Z"
   },
   {
    "duration": 9,
    "start_time": "2022-01-19T18:00:39.700Z"
   },
   {
    "duration": 1177,
    "start_time": "2022-01-19T18:40:14.737Z"
   },
   {
    "duration": 62,
    "start_time": "2022-01-19T18:40:15.916Z"
   },
   {
    "duration": 37,
    "start_time": "2022-01-19T18:40:15.980Z"
   },
   {
    "duration": 31,
    "start_time": "2022-01-19T18:40:16.019Z"
   },
   {
    "duration": 192,
    "start_time": "2022-01-19T18:40:16.052Z"
   },
   {
    "duration": 12,
    "start_time": "2022-01-19T18:40:16.246Z"
   },
   {
    "duration": 30,
    "start_time": "2022-01-19T18:40:16.260Z"
   },
   {
    "duration": 51,
    "start_time": "2022-01-19T18:40:16.294Z"
   },
   {
    "duration": 57,
    "start_time": "2022-01-19T18:40:16.348Z"
   },
   {
    "duration": 21,
    "start_time": "2022-01-19T18:40:16.409Z"
   },
   {
    "duration": 528,
    "start_time": "2022-01-19T18:40:16.431Z"
   },
   {
    "duration": 204,
    "start_time": "2022-01-19T18:40:16.961Z"
   },
   {
    "duration": 9,
    "start_time": "2022-01-19T18:40:17.166Z"
   },
   {
    "duration": 51,
    "start_time": "2022-01-19T18:40:17.177Z"
   },
   {
    "duration": 385,
    "start_time": "2022-01-19T18:40:17.230Z"
   },
   {
    "duration": 239,
    "start_time": "2022-01-19T18:40:17.617Z"
   },
   {
    "duration": 4,
    "start_time": "2022-01-19T18:40:17.858Z"
   },
   {
    "duration": 34,
    "start_time": "2022-01-19T18:40:17.864Z"
   },
   {
    "duration": 372,
    "start_time": "2022-01-19T18:40:17.901Z"
   },
   {
    "duration": 322,
    "start_time": "2022-01-19T18:40:18.275Z"
   },
   {
    "duration": 26,
    "start_time": "2022-01-19T18:40:18.600Z"
   },
   {
    "duration": 644,
    "start_time": "2022-01-19T18:40:18.628Z"
   },
   {
    "duration": 9,
    "start_time": "2022-01-19T18:40:19.275Z"
   },
   {
    "duration": 748,
    "start_time": "2022-01-19T18:40:19.286Z"
   },
   {
    "duration": 9,
    "start_time": "2022-01-19T18:40:20.036Z"
   },
   {
    "duration": 617,
    "start_time": "2022-01-19T18:40:20.046Z"
   },
   {
    "duration": 9,
    "start_time": "2022-01-19T18:40:20.665Z"
   },
   {
    "duration": 43,
    "start_time": "2022-01-19T18:40:20.676Z"
   },
   {
    "duration": 6,
    "start_time": "2022-01-19T18:40:20.721Z"
   },
   {
    "duration": 17,
    "start_time": "2022-01-19T18:40:20.729Z"
   },
   {
    "duration": 13,
    "start_time": "2022-01-19T18:40:20.748Z"
   },
   {
    "duration": 34,
    "start_time": "2022-01-19T18:40:20.763Z"
   },
   {
    "duration": 129,
    "start_time": "2022-01-19T18:40:20.801Z"
   },
   {
    "duration": 8,
    "start_time": "2022-01-19T18:40:20.932Z"
   },
   {
    "duration": 10,
    "start_time": "2022-01-19T18:40:20.942Z"
   },
   {
    "duration": 11,
    "start_time": "2022-01-19T18:40:20.953Z"
   },
   {
    "duration": 15,
    "start_time": "2022-01-19T18:41:16.726Z"
   },
   {
    "duration": 16,
    "start_time": "2022-01-19T18:42:22.514Z"
   },
   {
    "duration": 17,
    "start_time": "2022-01-19T18:43:31.699Z"
   },
   {
    "duration": 9,
    "start_time": "2022-01-19T18:43:55.916Z"
   },
   {
    "duration": 1046,
    "start_time": "2022-01-19T18:44:16.729Z"
   },
   {
    "duration": 1548,
    "start_time": "2022-01-19T18:44:19.385Z"
   },
   {
    "duration": 29,
    "start_time": "2022-01-19T18:44:24.478Z"
   },
   {
    "duration": 17,
    "start_time": "2022-01-19T18:44:26.740Z"
   },
   {
    "duration": 131,
    "start_time": "2022-01-19T18:44:29.202Z"
   },
   {
    "duration": 12,
    "start_time": "2022-01-19T18:44:31.859Z"
   },
   {
    "duration": 16,
    "start_time": "2022-01-19T18:44:44.042Z"
   },
   {
    "duration": 16,
    "start_time": "2022-01-19T18:45:18.775Z"
   },
   {
    "duration": 29,
    "start_time": "2022-01-19T18:45:21.609Z"
   },
   {
    "duration": 14,
    "start_time": "2022-01-19T18:45:38.858Z"
   },
   {
    "duration": 438,
    "start_time": "2022-01-19T18:45:42.422Z"
   },
   {
    "duration": 173,
    "start_time": "2022-01-19T18:45:46.514Z"
   },
   {
    "duration": 9,
    "start_time": "2022-01-19T18:45:49.346Z"
   },
   {
    "duration": 20,
    "start_time": "2022-01-19T18:45:59.244Z"
   },
   {
    "duration": 319,
    "start_time": "2022-01-19T18:46:02.580Z"
   },
   {
    "duration": 224,
    "start_time": "2022-01-19T18:46:05.220Z"
   },
   {
    "duration": 5,
    "start_time": "2022-01-19T18:46:09.166Z"
   },
   {
    "duration": 9,
    "start_time": "2022-01-19T18:46:11.026Z"
   },
   {
    "duration": 306,
    "start_time": "2022-01-19T18:46:13.519Z"
   },
   {
    "duration": 288,
    "start_time": "2022-01-19T18:46:16.359Z"
   },
   {
    "duration": 19,
    "start_time": "2022-01-19T18:46:19.845Z"
   },
   {
    "duration": 579,
    "start_time": "2022-01-19T18:46:22.639Z"
   },
   {
    "duration": 8,
    "start_time": "2022-01-19T18:46:26.632Z"
   },
   {
    "duration": 661,
    "start_time": "2022-01-19T18:46:28.367Z"
   },
   {
    "duration": 9,
    "start_time": "2022-01-19T18:46:31.032Z"
   },
   {
    "duration": 639,
    "start_time": "2022-01-19T18:46:33.377Z"
   },
   {
    "duration": 9,
    "start_time": "2022-01-19T18:46:37.529Z"
   },
   {
    "duration": 19,
    "start_time": "2022-01-19T18:46:40.256Z"
   },
   {
    "duration": 6,
    "start_time": "2022-01-19T18:46:44.459Z"
   },
   {
    "duration": 14,
    "start_time": "2022-01-19T18:46:46.316Z"
   },
   {
    "duration": 16,
    "start_time": "2022-01-19T18:46:49.171Z"
   },
   {
    "duration": 8,
    "start_time": "2022-01-19T18:46:51.635Z"
   },
   {
    "duration": 114,
    "start_time": "2022-01-19T18:46:53.387Z"
   },
   {
    "duration": 8,
    "start_time": "2022-01-19T18:46:57.243Z"
   },
   {
    "duration": 8,
    "start_time": "2022-01-19T18:47:00.277Z"
   },
   {
    "duration": 8,
    "start_time": "2022-01-19T18:47:03.035Z"
   },
   {
    "duration": 101,
    "start_time": "2022-01-19T18:47:20.247Z"
   },
   {
    "duration": 8,
    "start_time": "2022-01-19T18:47:26.185Z"
   },
   {
    "duration": 1064,
    "start_time": "2022-01-24T13:26:18.565Z"
   },
   {
    "duration": 54,
    "start_time": "2022-01-24T13:26:19.631Z"
   },
   {
    "duration": 24,
    "start_time": "2022-01-24T13:26:19.687Z"
   },
   {
    "duration": 478,
    "start_time": "2022-01-24T13:26:19.713Z"
   },
   {
    "duration": 410,
    "start_time": "2022-01-24T13:26:19.782Z"
   },
   {
    "duration": 402,
    "start_time": "2022-01-24T13:26:19.791Z"
   },
   {
    "duration": 396,
    "start_time": "2022-01-24T13:26:19.798Z"
   },
   {
    "duration": 390,
    "start_time": "2022-01-24T13:26:19.805Z"
   },
   {
    "duration": 384,
    "start_time": "2022-01-24T13:26:19.812Z"
   },
   {
    "duration": 377,
    "start_time": "2022-01-24T13:26:19.819Z"
   },
   {
    "duration": 15,
    "start_time": "2022-01-24T13:26:58.956Z"
   },
   {
    "duration": 14,
    "start_time": "2022-01-24T13:27:03.994Z"
   },
   {
    "duration": 363,
    "start_time": "2022-01-24T13:27:19.715Z"
   },
   {
    "duration": 23,
    "start_time": "2022-01-24T13:27:32.940Z"
   },
   {
    "duration": 11,
    "start_time": "2022-01-24T13:27:37.337Z"
   },
   {
    "duration": 18,
    "start_time": "2022-01-24T13:27:42.338Z"
   },
   {
    "duration": 14,
    "start_time": "2022-01-24T13:55:35.644Z"
   },
   {
    "duration": 14,
    "start_time": "2022-01-24T13:55:58.935Z"
   },
   {
    "duration": 20,
    "start_time": "2022-01-24T13:56:03.855Z"
   },
   {
    "duration": 17,
    "start_time": "2022-01-24T14:06:26.012Z"
   },
   {
    "duration": 3617,
    "start_time": "2022-01-24T14:10:43.923Z"
   },
   {
    "duration": 408,
    "start_time": "2022-01-24T14:10:58.026Z"
   },
   {
    "duration": 362,
    "start_time": "2022-01-24T14:11:38.706Z"
   },
   {
    "duration": 349,
    "start_time": "2022-01-24T14:11:46.681Z"
   },
   {
    "duration": 337,
    "start_time": "2022-01-24T14:12:13.168Z"
   },
   {
    "duration": 388,
    "start_time": "2022-01-24T14:12:22.031Z"
   },
   {
    "duration": 382,
    "start_time": "2022-01-24T14:12:47.075Z"
   },
   {
    "duration": 5,
    "start_time": "2022-01-24T14:13:05.708Z"
   },
   {
    "duration": 8,
    "start_time": "2022-01-24T14:13:08.119Z"
   },
   {
    "duration": 349,
    "start_time": "2022-01-24T14:13:11.633Z"
   },
   {
    "duration": 277,
    "start_time": "2022-01-24T14:16:59.124Z"
   },
   {
    "duration": 73,
    "start_time": "2022-01-24T14:21:47.152Z"
   },
   {
    "duration": 345,
    "start_time": "2022-01-24T14:22:52.003Z"
   },
   {
    "duration": 1085,
    "start_time": "2022-01-24T14:40:06.955Z"
   },
   {
    "duration": 53,
    "start_time": "2022-01-24T14:40:08.042Z"
   },
   {
    "duration": 21,
    "start_time": "2022-01-24T14:40:08.097Z"
   },
   {
    "duration": 494,
    "start_time": "2022-01-24T14:40:08.120Z"
   },
   {
    "duration": 429,
    "start_time": "2022-01-24T14:40:08.187Z"
   },
   {
    "duration": 423,
    "start_time": "2022-01-24T14:40:08.194Z"
   },
   {
    "duration": 418,
    "start_time": "2022-01-24T14:40:08.199Z"
   },
   {
    "duration": 408,
    "start_time": "2022-01-24T14:40:08.210Z"
   },
   {
    "duration": 404,
    "start_time": "2022-01-24T14:40:08.215Z"
   },
   {
    "duration": 401,
    "start_time": "2022-01-24T14:40:08.219Z"
   },
   {
    "duration": 397,
    "start_time": "2022-01-24T14:40:08.223Z"
   },
   {
    "duration": 393,
    "start_time": "2022-01-24T14:40:08.228Z"
   },
   {
    "duration": 391,
    "start_time": "2022-01-24T14:40:08.232Z"
   },
   {
    "duration": 388,
    "start_time": "2022-01-24T14:40:08.236Z"
   },
   {
    "duration": 385,
    "start_time": "2022-01-24T14:40:08.240Z"
   },
   {
    "duration": 380,
    "start_time": "2022-01-24T14:40:08.245Z"
   },
   {
    "duration": 377,
    "start_time": "2022-01-24T14:40:08.249Z"
   },
   {
    "duration": 373,
    "start_time": "2022-01-24T14:40:08.254Z"
   },
   {
    "duration": 369,
    "start_time": "2022-01-24T14:40:08.258Z"
   },
   {
    "duration": 13,
    "start_time": "2022-01-24T14:49:01.234Z"
   },
   {
    "duration": 21,
    "start_time": "2022-01-24T14:49:01.249Z"
   },
   {
    "duration": 27,
    "start_time": "2022-01-24T14:49:01.272Z"
   },
   {
    "duration": 29,
    "start_time": "2022-01-24T14:49:01.301Z"
   },
   {
    "duration": 30,
    "start_time": "2022-01-24T14:49:01.332Z"
   },
   {
    "duration": 13,
    "start_time": "2022-01-24T14:49:01.364Z"
   },
   {
    "duration": 50,
    "start_time": "2022-01-24T14:49:01.379Z"
   },
   {
    "duration": 153,
    "start_time": "2022-01-24T14:49:01.432Z"
   },
   {
    "duration": 8,
    "start_time": "2022-01-24T14:49:01.587Z"
   },
   {
    "duration": 20,
    "start_time": "2022-01-24T14:49:01.596Z"
   },
   {
    "duration": 285,
    "start_time": "2022-01-24T14:49:01.617Z"
   },
   {
    "duration": 229,
    "start_time": "2022-01-24T14:49:01.904Z"
   },
   {
    "duration": 5,
    "start_time": "2022-01-24T14:49:02.135Z"
   },
   {
    "duration": 10,
    "start_time": "2022-01-24T14:49:02.142Z"
   },
   {
    "duration": 325,
    "start_time": "2022-01-24T14:49:02.154Z"
   },
   {
    "duration": 240,
    "start_time": "2022-01-24T14:49:02.480Z"
   },
   {
    "duration": 17,
    "start_time": "2022-01-24T14:49:02.727Z"
   },
   {
    "duration": 8,
    "start_time": "2022-01-24T14:49:02.745Z"
   },
   {
    "duration": 661,
    "start_time": "2022-01-24T14:49:02.754Z"
   },
   {
    "duration": 12,
    "start_time": "2022-01-24T14:49:03.417Z"
   },
   {
    "duration": 747,
    "start_time": "2022-01-24T14:49:03.431Z"
   },
   {
    "duration": 7,
    "start_time": "2022-01-24T14:49:04.180Z"
   },
   {
    "duration": 681,
    "start_time": "2022-01-24T14:49:04.190Z"
   },
   {
    "duration": 11,
    "start_time": "2022-01-24T14:49:04.873Z"
   },
   {
    "duration": 20,
    "start_time": "2022-01-24T14:49:04.885Z"
   },
   {
    "duration": 23,
    "start_time": "2022-01-24T14:49:04.907Z"
   },
   {
    "duration": 12,
    "start_time": "2022-01-24T14:49:04.931Z"
   },
   {
    "duration": 11,
    "start_time": "2022-01-24T14:49:04.945Z"
   },
   {
    "duration": 5,
    "start_time": "2022-01-24T14:49:04.958Z"
   },
   {
    "duration": 121,
    "start_time": "2022-01-24T14:49:04.965Z"
   },
   {
    "duration": 6,
    "start_time": "2022-01-24T14:49:05.087Z"
   },
   {
    "duration": 8,
    "start_time": "2022-01-24T14:49:05.095Z"
   },
   {
    "duration": 23,
    "start_time": "2022-01-24T14:49:05.105Z"
   },
   {
    "duration": 342,
    "start_time": "2022-01-24T14:50:22.258Z"
   },
   {
    "duration": 975,
    "start_time": "2022-01-24T14:51:35.259Z"
   },
   {
    "duration": 2,
    "start_time": "2022-01-24T14:52:29.592Z"
   },
   {
    "duration": 161,
    "start_time": "2022-01-24T14:54:40.679Z"
   },
   {
    "duration": 114,
    "start_time": "2022-01-24T14:55:48.993Z"
   },
   {
    "duration": 13,
    "start_time": "2022-01-24T14:55:56.271Z"
   },
   {
    "duration": 13,
    "start_time": "2022-01-24T14:56:13.867Z"
   },
   {
    "duration": 849,
    "start_time": "2022-01-24T15:20:18.327Z"
   },
   {
    "duration": 8326,
    "start_time": "2022-01-24T15:25:32.598Z"
   },
   {
    "duration": 479,
    "start_time": "2022-01-24T15:28:24.155Z"
   },
   {
    "duration": 194,
    "start_time": "2022-01-24T15:28:39.391Z"
   },
   {
    "duration": 362,
    "start_time": "2022-01-24T15:29:43.747Z"
   },
   {
    "duration": 377,
    "start_time": "2022-01-24T15:29:57.655Z"
   },
   {
    "duration": 138,
    "start_time": "2022-01-24T15:30:05.053Z"
   },
   {
    "duration": 136,
    "start_time": "2022-01-24T15:31:09.230Z"
   },
   {
    "duration": 137,
    "start_time": "2022-01-24T15:31:45.131Z"
   },
   {
    "duration": 267,
    "start_time": "2022-01-24T15:52:51.901Z"
   },
   {
    "duration": 463,
    "start_time": "2022-01-24T15:53:21.203Z"
   },
   {
    "duration": 469,
    "start_time": "2022-01-24T15:53:31.597Z"
   },
   {
    "duration": 469,
    "start_time": "2022-01-24T15:54:43.229Z"
   },
   {
    "duration": 181,
    "start_time": "2022-01-24T15:56:00.918Z"
   },
   {
    "duration": 488,
    "start_time": "2022-01-24T15:58:39.673Z"
   },
   {
    "duration": 500,
    "start_time": "2022-01-24T15:59:37.940Z"
   },
   {
    "duration": 690,
    "start_time": "2022-01-24T15:59:52.292Z"
   },
   {
    "duration": 519,
    "start_time": "2022-01-24T16:01:04.682Z"
   },
   {
    "duration": 990,
    "start_time": "2022-01-24T16:02:04.571Z"
   },
   {
    "duration": 1282,
    "start_time": "2022-01-24T16:02:33.032Z"
   },
   {
    "duration": 883,
    "start_time": "2022-01-24T16:05:40.333Z"
   },
   {
    "duration": 598,
    "start_time": "2022-01-24T16:06:03.540Z"
   },
   {
    "duration": 552,
    "start_time": "2022-01-24T16:06:19.963Z"
   },
   {
    "duration": 478,
    "start_time": "2022-01-24T16:06:35.255Z"
   },
   {
    "duration": 95,
    "start_time": "2022-01-24T16:14:39.799Z"
   },
   {
    "duration": 101,
    "start_time": "2022-01-24T16:14:59.386Z"
   },
   {
    "duration": 115,
    "start_time": "2022-01-24T16:15:23.724Z"
   },
   {
    "duration": 127,
    "start_time": "2022-01-24T16:15:31.990Z"
   },
   {
    "duration": 81,
    "start_time": "2022-01-24T16:15:50.736Z"
   },
   {
    "duration": 127,
    "start_time": "2022-01-24T16:16:31.966Z"
   },
   {
    "duration": 60,
    "start_time": "2022-01-24T16:16:35.358Z"
   },
   {
    "duration": 102,
    "start_time": "2022-01-24T16:18:40.276Z"
   },
   {
    "duration": 76,
    "start_time": "2022-01-24T17:19:32.674Z"
   },
   {
    "duration": 1088,
    "start_time": "2022-01-25T13:06:47.574Z"
   },
   {
    "duration": 82,
    "start_time": "2022-01-25T13:06:48.664Z"
   },
   {
    "duration": 23,
    "start_time": "2022-01-25T13:06:48.748Z"
   },
   {
    "duration": 381,
    "start_time": "2022-01-25T13:06:48.773Z"
   },
   {
    "duration": -544,
    "start_time": "2022-01-25T13:06:49.700Z"
   },
   {
    "duration": -551,
    "start_time": "2022-01-25T13:06:49.708Z"
   },
   {
    "duration": -568,
    "start_time": "2022-01-25T13:06:49.726Z"
   },
   {
    "duration": -572,
    "start_time": "2022-01-25T13:06:49.731Z"
   },
   {
    "duration": -577,
    "start_time": "2022-01-25T13:06:49.737Z"
   },
   {
    "duration": -586,
    "start_time": "2022-01-25T13:06:49.747Z"
   },
   {
    "duration": -591,
    "start_time": "2022-01-25T13:06:49.754Z"
   },
   {
    "duration": -601,
    "start_time": "2022-01-25T13:06:49.765Z"
   },
   {
    "duration": -605,
    "start_time": "2022-01-25T13:06:49.770Z"
   },
   {
    "duration": -611,
    "start_time": "2022-01-25T13:06:49.777Z"
   },
   {
    "duration": -617,
    "start_time": "2022-01-25T13:06:49.784Z"
   },
   {
    "duration": -624,
    "start_time": "2022-01-25T13:06:49.792Z"
   },
   {
    "duration": -628,
    "start_time": "2022-01-25T13:06:49.797Z"
   },
   {
    "duration": -632,
    "start_time": "2022-01-25T13:06:49.802Z"
   },
   {
    "duration": -644,
    "start_time": "2022-01-25T13:06:49.815Z"
   },
   {
    "duration": -648,
    "start_time": "2022-01-25T13:06:49.820Z"
   },
   {
    "duration": -650,
    "start_time": "2022-01-25T13:06:49.824Z"
   },
   {
    "duration": -655,
    "start_time": "2022-01-25T13:06:49.830Z"
   },
   {
    "duration": -659,
    "start_time": "2022-01-25T13:06:49.835Z"
   },
   {
    "duration": -663,
    "start_time": "2022-01-25T13:06:49.840Z"
   },
   {
    "duration": -666,
    "start_time": "2022-01-25T13:06:49.844Z"
   },
   {
    "duration": -669,
    "start_time": "2022-01-25T13:06:49.848Z"
   },
   {
    "duration": -672,
    "start_time": "2022-01-25T13:06:49.852Z"
   },
   {
    "duration": -675,
    "start_time": "2022-01-25T13:06:49.856Z"
   },
   {
    "duration": -678,
    "start_time": "2022-01-25T13:06:49.860Z"
   },
   {
    "duration": -698,
    "start_time": "2022-01-25T13:06:49.881Z"
   },
   {
    "duration": -701,
    "start_time": "2022-01-25T13:06:49.885Z"
   },
   {
    "duration": -705,
    "start_time": "2022-01-25T13:06:49.890Z"
   },
   {
    "duration": -708,
    "start_time": "2022-01-25T13:06:49.894Z"
   },
   {
    "duration": -711,
    "start_time": "2022-01-25T13:06:49.898Z"
   },
   {
    "duration": -714,
    "start_time": "2022-01-25T13:06:49.902Z"
   },
   {
    "duration": -716,
    "start_time": "2022-01-25T13:06:49.905Z"
   },
   {
    "duration": -718,
    "start_time": "2022-01-25T13:06:49.909Z"
   },
   {
    "duration": 2802,
    "start_time": "2022-01-25T14:35:42.830Z"
   },
   {
    "duration": -520,
    "start_time": "2022-01-25T14:35:46.155Z"
   },
   {
    "duration": -533,
    "start_time": "2022-01-25T14:35:46.168Z"
   },
   {
    "duration": -548,
    "start_time": "2022-01-25T14:35:46.184Z"
   },
   {
    "duration": -552,
    "start_time": "2022-01-25T14:35:46.189Z"
   },
   {
    "duration": -567,
    "start_time": "2022-01-25T14:35:46.205Z"
   },
   {
    "duration": -582,
    "start_time": "2022-01-25T14:35:46.221Z"
   },
   {
    "duration": -586,
    "start_time": "2022-01-25T14:35:46.226Z"
   },
   {
    "duration": -590,
    "start_time": "2022-01-25T14:35:46.230Z"
   },
   {
    "duration": -593,
    "start_time": "2022-01-25T14:35:46.234Z"
   },
   {
    "duration": -600,
    "start_time": "2022-01-25T14:35:46.242Z"
   },
   {
    "duration": -604,
    "start_time": "2022-01-25T14:35:46.247Z"
   },
   {
    "duration": -608,
    "start_time": "2022-01-25T14:35:46.253Z"
   },
   {
    "duration": -613,
    "start_time": "2022-01-25T14:35:46.258Z"
   },
   {
    "duration": -617,
    "start_time": "2022-01-25T14:35:46.263Z"
   },
   {
    "duration": -620,
    "start_time": "2022-01-25T14:35:46.267Z"
   },
   {
    "duration": -649,
    "start_time": "2022-01-25T14:35:46.297Z"
   },
   {
    "duration": -651,
    "start_time": "2022-01-25T14:35:46.301Z"
   },
   {
    "duration": -656,
    "start_time": "2022-01-25T14:35:46.307Z"
   },
   {
    "duration": -659,
    "start_time": "2022-01-25T14:35:46.311Z"
   },
   {
    "duration": -663,
    "start_time": "2022-01-25T14:35:46.316Z"
   },
   {
    "duration": -666,
    "start_time": "2022-01-25T14:35:46.320Z"
   },
   {
    "duration": -669,
    "start_time": "2022-01-25T14:35:46.324Z"
   },
   {
    "duration": -672,
    "start_time": "2022-01-25T14:35:46.327Z"
   },
   {
    "duration": -675,
    "start_time": "2022-01-25T14:35:46.331Z"
   },
   {
    "duration": -678,
    "start_time": "2022-01-25T14:35:46.335Z"
   },
   {
    "duration": -681,
    "start_time": "2022-01-25T14:35:46.339Z"
   },
   {
    "duration": -684,
    "start_time": "2022-01-25T14:35:46.343Z"
   },
   {
    "duration": -687,
    "start_time": "2022-01-25T14:35:46.347Z"
   },
   {
    "duration": -720,
    "start_time": "2022-01-25T14:35:46.381Z"
   },
   {
    "duration": -724,
    "start_time": "2022-01-25T14:35:46.385Z"
   },
   {
    "duration": -727,
    "start_time": "2022-01-25T14:35:46.389Z"
   },
   {
    "duration": -730,
    "start_time": "2022-01-25T14:35:46.393Z"
   },
   {
    "duration": -733,
    "start_time": "2022-01-25T14:35:46.397Z"
   },
   {
    "duration": 11,
    "start_time": "2022-01-25T14:35:49.409Z"
   },
   {
    "duration": 15,
    "start_time": "2022-01-25T14:35:49.422Z"
   },
   {
    "duration": 18,
    "start_time": "2022-01-25T14:35:49.439Z"
   },
   {
    "duration": 15,
    "start_time": "2022-01-25T14:35:49.459Z"
   },
   {
    "duration": 53,
    "start_time": "2022-01-25T14:35:49.475Z"
   },
   {
    "duration": 12,
    "start_time": "2022-01-25T14:35:49.530Z"
   },
   {
    "duration": 15,
    "start_time": "2022-01-25T14:35:49.544Z"
   },
   {
    "duration": 197,
    "start_time": "2022-01-25T14:35:49.562Z"
   },
   {
    "duration": 8,
    "start_time": "2022-01-25T14:35:49.761Z"
   },
   {
    "duration": 17,
    "start_time": "2022-01-25T14:35:49.771Z"
   },
   {
    "duration": 329,
    "start_time": "2022-01-25T14:35:49.789Z"
   },
   {
    "duration": 209,
    "start_time": "2022-01-25T14:35:50.120Z"
   },
   {
    "duration": 4,
    "start_time": "2022-01-25T14:35:50.331Z"
   },
   {
    "duration": 9,
    "start_time": "2022-01-25T14:35:50.336Z"
   },
   {
    "duration": 325,
    "start_time": "2022-01-25T14:35:50.347Z"
   },
   {
    "duration": 303,
    "start_time": "2022-01-25T14:35:50.673Z"
   },
   {
    "duration": 17,
    "start_time": "2022-01-25T14:35:50.978Z"
   },
   {
    "duration": 2,
    "start_time": "2022-01-25T14:35:50.996Z"
   },
   {
    "duration": 749,
    "start_time": "2022-01-25T14:35:51.012Z"
   },
   {
    "duration": 8,
    "start_time": "2022-01-25T14:35:51.813Z"
   },
   {
    "duration": 597,
    "start_time": "2022-01-25T14:35:51.822Z"
   },
   {
    "duration": 8,
    "start_time": "2022-01-25T14:35:52.420Z"
   },
   {
    "duration": 583,
    "start_time": "2022-01-25T14:35:52.431Z"
   },
   {
    "duration": 9,
    "start_time": "2022-01-25T14:35:53.016Z"
   },
   {
    "duration": 577,
    "start_time": "2022-01-25T14:35:53.027Z"
   },
   {
    "duration": 11,
    "start_time": "2022-01-25T14:35:53.606Z"
   },
   {
    "duration": 19,
    "start_time": "2022-01-25T14:35:53.619Z"
   },
   {
    "duration": 13,
    "start_time": "2022-01-25T14:35:53.640Z"
   },
   {
    "duration": 6,
    "start_time": "2022-01-25T14:35:53.654Z"
   },
   {
    "duration": 144,
    "start_time": "2022-01-25T14:35:53.662Z"
   },
   {
    "duration": 11,
    "start_time": "2022-01-25T14:35:53.807Z"
   },
   {
    "duration": 10,
    "start_time": "2022-01-25T14:35:53.820Z"
   },
   {
    "duration": 7,
    "start_time": "2022-01-25T14:35:53.832Z"
   },
   {
    "duration": 29982,
    "start_time": "2022-01-25T14:35:55.896Z"
   }
  ],
  "kernelspec": {
   "display_name": "Python 3 (ipykernel)",
   "language": "python",
   "name": "python3"
  },
  "language_info": {
   "codemirror_mode": {
    "name": "ipython",
    "version": 3
   },
   "file_extension": ".py",
   "mimetype": "text/x-python",
   "name": "python",
   "nbconvert_exporter": "python",
   "pygments_lexer": "ipython3",
   "version": "3.9.12"
  },
  "toc": {
   "base_numbering": 1,
   "nav_menu": {},
   "number_sections": true,
   "sideBar": true,
   "skip_h1_title": true,
   "title_cell": "Table of Contents",
   "title_sidebar": "Contents",
   "toc_cell": false,
   "toc_position": {
    "height": "calc(100% - 180px)",
    "left": "10px",
    "top": "150px",
    "width": "215.6px"
   },
   "toc_section_display": true,
   "toc_window_display": true
  }
 },
 "nbformat": 4,
 "nbformat_minor": 2
}
